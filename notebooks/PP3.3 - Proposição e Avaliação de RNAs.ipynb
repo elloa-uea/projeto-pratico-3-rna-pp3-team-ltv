{
  "nbformat": 4,
  "nbformat_minor": 0,
  "metadata": {
    "kernelspec": {
      "display_name": "venv",
      "language": "python",
      "name": "venv"
    },
    "language_info": {
      "codemirror_mode": {
        "name": "ipython",
        "version": 3
      },
      "file_extension": ".py",
      "mimetype": "text/x-python",
      "name": "python",
      "nbconvert_exporter": "python",
      "pygments_lexer": "ipython3",
      "version": "3.7.0"
    },
    "colab": {
      "name": "PP3.3 - Proposição e Avaliação de RNAs.ipynb",
      "provenance": [],
      "toc_visible": true
    }
  },
  "cells": [
    {
      "cell_type": "markdown",
      "metadata": {
        "id": "msDmjAkyoAHe"
      },
      "source": [
        "## Redes Neurais Artificiais 2020.1\n",
        "\n",
        "**Disciplina**: Redes Neurais Artificiais 2020.1  \n",
        "**Professora**: Elloá B. Guedes (ebgcosta@uea.edu.br)  \n",
        "**Github**: http://github.com/elloa  \n",
        "\n",
        "### Alunos\n",
        "\n",
        "Leonardo Monteiro Neres de Lima - 1615080320 (lmndl.eng16@uea.edu.br) <br>\n",
        "Thatielen Oliveira Pereira - 1515080618 (top.eng@uea.edu.br) <br>\n",
        "Vyctor Lima Negreiros - 1615080372 (vln.eng16@uea.edu.br) <br>\n",
        "\n",
        "Levando em conta a base de dados **_Forest Cover Type_**, esta terceira parte do Projeto Prático 3 diz respeito à proposição e avaliação de múltiplas redes neurais artificiais do tipo feedforward multilayer perceptron para o problema da classificação multi-classe da cobertura florestal em uma área do Roosevelt National Forest.\n",
        "\n",
        "## Testando Redes Neurais sem os Atributos Categórios\n",
        "\n",
        "1. Abra a base de dados em questão\n",
        "2. Elimine todas as colunas relativas aos atributos categóricos\n",
        "3. Armazene o atributo alvo em uma variável y e os atributos preditores em uma variável X\n",
        "4. Efetue uma partição holdout 70/30 com o sklearn, distribuindo os exemplos de maneira aleatória\n",
        "5. Efetue o escalonamento dos atributos\n",
        "\n",
        "### Escalonando os atributos\n",
        "\n",
        "O treinamento de uma rede neural artificial é mais eficiente quando os valores que lhes são fornecidos como entrada são pequenos, pois isto favorece a convergência. Isto é feito escalonando-se todos os atributos para o intervalo [0,1], mas precisa ser feito de maneira cautelosa, para que informações do conjunto de teste não sejam fornecidas no treinamento.\n",
        "\n",
        "Há duas estratégias para tal escalonamento: normalização e padronização. Ambas possuem características particulares, vantagens e limitações, como é possível ver aqui: https://www.analyticsvidhya.com/blog/2020/04/feature-scaling-machine-learning-normalization-standardization/\n",
        "\n",
        "\n",
        "No nosso caso, vamos usar a padronização. Assim, com os atributos preditores do treinamento, isto é, X_train, deve-se subtrair a média e dividir pelo desvio padrão:\n",
        "\n",
        "X_train_std = (X_train - np.mean(X_train))/np.std(X_train)\n",
        "\n",
        "Em seguida, o mesmo deve ser feito com os atributos preditores do conjunto de testes, mas com padronização relativa ao conjunto de treinamento:\n",
        "\n",
        "X_test_std = (X_test - np.mean(X_train))/np.std(X_train)\n",
        "\n",
        "Se todo o conjunto X for utilizado na padronização, a rede neural receberá informações do conjunto de teste por meio da média e variância utilizada para preparar os dados de treinamento, o que não é desejável.\n",
        "\n",
        "\n",
        "### Continuando\n",
        "\n",
        "5. Treine uma rede neural multilayer perceptron para este problema com uma única camada e dez neurônios  \n",
        "    5.1 Utilize a função de ativação ReLU  \n",
        "    5.2 Utilize o solver Adam    \n",
        "    5.3 Imprima o passo a passo do treinamento    \n",
        "    5.4 Utilize o número máximo de épocas igual a 300  \n",
        "6. Com o modelo em questão, após o treinamento, apresente:  \n",
        "    6.1 Matriz de confusão para o conjunto de teste  \n",
        "    6.2 Acurácia  \n",
        "    6.3 F-Score  \n",
        "    6.4 Precisão  \n",
        "    6.5 Revocação  \n",
        "7. Repita o treinamento da mesma rede anterior sem imprimir o passo a passo (verbose False) por 100 vezes  \n",
        "    7.1 Cada uma destas repetições deve ser feita com uma nova partição Holdout  \n",
        "    7.2 Apresente a média e o desvio padrão da acurácia e do F-Score para o conjunto de treino  \n",
        "8. Repita por 100 vezes o treinamento desta mesma rede, mas utilizando o otimizador SGD  \n",
        "    8.1 Apresente a média e o desvio padrão da acurácia e do F-Score para o conjunto de treino  \n",
        "9. Houve influência da escolha do otimizador no desempenho da rede?"
      ]
    },
    {
      "cell_type": "code",
      "metadata": {
        "id": "OME8DkHyoAHf"
      },
      "source": [
        "import numpy as np, pandas as pd, matplotlib.pyplot as plt, os\n",
        "from sklearn.model_selection import train_test_split\n",
        "from sklearn.neural_network import MLPClassifier\n",
        "from sklearn.metrics import confusion_matrix, accuracy_score, f1_score, precision_score, recall_score "
      ],
      "execution_count": 1,
      "outputs": []
    },
    {
      "cell_type": "markdown",
      "metadata": {
        "id": "fVTxQgfloAHl"
      },
      "source": [
        "## Testando Redes Neurais sem os Atributos Categórios"
      ]
    },
    {
      "cell_type": "markdown",
      "metadata": {
        "id": "lfrvJ1DeoAHl"
      },
      "source": [
        "### Testando Redes Neurais sem os Atributos Categórios"
      ]
    },
    {
      "cell_type": "markdown",
      "metadata": {
        "id": "cOPzEH27oAHm"
      },
      "source": [
        "### 1. Abra a base de dados em questão"
      ]
    },
    {
      "cell_type": "code",
      "metadata": {
        "id": "u_xLi8t_oAHn"
      },
      "source": [
        "data = pd.read_csv('../datasets/covtype.csv', sep=\";\")"
      ],
      "execution_count": null,
      "outputs": []
    },
    {
      "cell_type": "code",
      "metadata": {
        "id": "IOEtgT770gCj",
        "outputId": "2dc53a3a-3a1c-4361-f31c-0da25628ccd2",
        "colab": {
          "base_uri": "https://localhost:8080/",
          "height": 34
        }
      },
      "source": [
        "from google.colab import drive\n",
        "drive.mount('/content/drive')\n",
        "data = pd.read_csv('/content/drive/My Drive/datasets/covtype.csv', sep=\";\")"
      ],
      "execution_count": 2,
      "outputs": [
        {
          "output_type": "stream",
          "text": [
            "Mounted at /content/drive\n"
          ],
          "name": "stdout"
        }
      ]
    },
    {
      "cell_type": "markdown",
      "metadata": {
        "id": "ka2VH07doAHr"
      },
      "source": [
        "### 2. Elimine todas as colunas relativas aos atributos categóricos"
      ]
    },
    {
      "cell_type": "code",
      "metadata": {
        "id": "LNW3OsnCoAHs"
      },
      "source": [
        "patterns = ['Soil_Type', 'Wilderness_Area']\n",
        "categorical_columns = [column for column in data.columns if not any(pattern in column for pattern in patterns)]\n",
        "\n",
        "data = data[categorical_columns]"
      ],
      "execution_count": 3,
      "outputs": []
    },
    {
      "cell_type": "code",
      "metadata": {
        "id": "whOxKgOGoAHv",
        "outputId": "7a80c75a-3600-4d26-f7f5-7b93ddf8e58f",
        "colab": {
          "base_uri": "https://localhost:8080/",
          "height": 54
        }
      },
      "source": [
        "print(data.columns.to_list())"
      ],
      "execution_count": 4,
      "outputs": [
        {
          "output_type": "stream",
          "text": [
            "['Elevation', 'Aspect', 'Slope', 'Horizontal_Distance_To_Hydrology', 'Vertical_Distance_To_Hydrology', 'Horizontal_Distance_To_Roadways', 'Hillshade_9am', 'Hillshade_Noon', 'Hillshade_3pm', 'Horizontal_Distance_To_Fire_Points', 'Cover_Type']\n"
          ],
          "name": "stdout"
        }
      ]
    },
    {
      "cell_type": "markdown",
      "metadata": {
        "id": "U5mpGycuoAHz"
      },
      "source": [
        "### 3. Armazene o atributo alvo em uma variável y e os atributos preditores em uma variável X"
      ]
    },
    {
      "cell_type": "code",
      "metadata": {
        "id": "HnLscJDIoAH0"
      },
      "source": [
        "X, Y = data[data.columns.drop('Cover_Type')], data['Cover_Type']"
      ],
      "execution_count": 5,
      "outputs": []
    },
    {
      "cell_type": "markdown",
      "metadata": {
        "id": "N4S7bzLfoAH3"
      },
      "source": [
        "### 4. Efetue uma partição holdout 70/30 com o sklearn, distribuindo os exemplos de maneira aleatória"
      ]
    },
    {
      "cell_type": "code",
      "metadata": {
        "id": "_BNGp-l8oAH3"
      },
      "source": [
        "X_train, X_test, Y_train, Y_test = train_test_split(X, Y, test_size=0.3, shuffle=True)"
      ],
      "execution_count": 6,
      "outputs": []
    },
    {
      "cell_type": "markdown",
      "metadata": {
        "id": "h2dIPYdvoAH7"
      },
      "source": [
        "### 5. Efetue o escalonamento dos atributos"
      ]
    },
    {
      "cell_type": "code",
      "metadata": {
        "id": "YUquFvG4oAH8"
      },
      "source": [
        "X_train_std = (X_train - np.mean(X_train)) / np.std(X_train)\n",
        "X_test_std = (X_test - np.mean(X_train)) / np.std(X_train)"
      ],
      "execution_count": 8,
      "outputs": []
    },
    {
      "cell_type": "markdown",
      "metadata": {
        "id": "ofEsIW70oAH-"
      },
      "source": [
        "### 5. Treine uma rede neural multilayer perceptron para este problema com uma única camada e dez neurônios\n",
        "\n",
        "**5.1 Utilize a função de ativação ReLU**<br>\n",
        "**5.2 Utilize o solver Adam**<br>\n",
        "**5.3 Imprima o passo a passo do treinamento**<br>\n",
        "**5.4 Utilize o número máximo de épocas igual a 300**"
      ]
    },
    {
      "cell_type": "code",
      "metadata": {
        "id": "tU4q-yjloAH_"
      },
      "source": [
        "perceptron = MLPClassifier(hidden_layer_sizes=(10,), activation='relu', solver='adam', verbose=True, max_iter=300)"
      ],
      "execution_count": null,
      "outputs": []
    },
    {
      "cell_type": "code",
      "metadata": {
        "scrolled": false,
        "id": "ngr0Uq7CoAIC",
        "outputId": "56294b2f-26b3-4795-ec37-5620ad247bd3"
      },
      "source": [
        "perceptron.fit(X_train_std, Y_train);"
      ],
      "execution_count": null,
      "outputs": [
        {
          "output_type": "stream",
          "text": [
            "Iteration 1, loss = 0.90057005\n",
            "Iteration 2, loss = 0.71023686\n",
            "Iteration 3, loss = 0.68932878\n",
            "Iteration 4, loss = 0.68048000\n",
            "Iteration 5, loss = 0.67511948\n",
            "Iteration 6, loss = 0.67117152\n",
            "Iteration 7, loss = 0.66887583\n",
            "Iteration 8, loss = 0.66703407\n",
            "Iteration 9, loss = 0.66537890\n",
            "Iteration 10, loss = 0.66365219\n",
            "Iteration 11, loss = 0.66213481\n",
            "Iteration 12, loss = 0.66125390\n",
            "Iteration 13, loss = 0.66058511\n",
            "Iteration 14, loss = 0.66005505\n",
            "Iteration 15, loss = 0.65957553\n",
            "Iteration 16, loss = 0.65922977\n",
            "Iteration 17, loss = 0.65886395\n",
            "Iteration 18, loss = 0.65836718\n",
            "Iteration 19, loss = 0.65792777\n",
            "Iteration 20, loss = 0.65745198\n",
            "Iteration 21, loss = 0.65720102\n",
            "Iteration 22, loss = 0.65686246\n",
            "Iteration 23, loss = 0.65662604\n",
            "Iteration 24, loss = 0.65636932\n",
            "Iteration 25, loss = 0.65620250\n",
            "Iteration 26, loss = 0.65612268\n",
            "Iteration 27, loss = 0.65599110\n",
            "Iteration 28, loss = 0.65585932\n",
            "Iteration 29, loss = 0.65581536\n",
            "Iteration 30, loss = 0.65570859\n",
            "Iteration 31, loss = 0.65569859\n",
            "Iteration 32, loss = 0.65548643\n",
            "Iteration 33, loss = 0.65548323\n",
            "Iteration 34, loss = 0.65546069\n",
            "Iteration 35, loss = 0.65541458\n",
            "Iteration 36, loss = 0.65537321\n",
            "Iteration 37, loss = 0.65530777\n",
            "Iteration 38, loss = 0.65527877\n",
            "Iteration 39, loss = 0.65529669\n",
            "Iteration 40, loss = 0.65514764\n",
            "Iteration 41, loss = 0.65523159\n",
            "Iteration 42, loss = 0.65513537\n",
            "Iteration 43, loss = 0.65518770\n",
            "Iteration 44, loss = 0.65508758\n",
            "Iteration 45, loss = 0.65499091\n",
            "Iteration 46, loss = 0.65504533\n",
            "Iteration 47, loss = 0.65491929\n",
            "Iteration 48, loss = 0.65481577\n",
            "Iteration 49, loss = 0.65463678\n",
            "Iteration 50, loss = 0.65429790\n",
            "Iteration 51, loss = 0.65402033\n",
            "Iteration 52, loss = 0.65363472\n",
            "Iteration 53, loss = 0.65345132\n",
            "Iteration 54, loss = 0.65322284\n",
            "Iteration 55, loss = 0.65314675\n",
            "Iteration 56, loss = 0.65300277\n",
            "Iteration 57, loss = 0.65284351\n",
            "Iteration 58, loss = 0.65275563\n",
            "Iteration 59, loss = 0.65272288\n",
            "Iteration 60, loss = 0.65255439\n",
            "Iteration 61, loss = 0.65249590\n",
            "Iteration 62, loss = 0.65234297\n",
            "Iteration 63, loss = 0.65228054\n",
            "Iteration 64, loss = 0.65219224\n",
            "Iteration 65, loss = 0.65212259\n",
            "Iteration 66, loss = 0.65199535\n",
            "Iteration 67, loss = 0.65200777\n",
            "Iteration 68, loss = 0.65196126\n",
            "Iteration 69, loss = 0.65185054\n",
            "Iteration 70, loss = 0.65174748\n",
            "Iteration 71, loss = 0.65174872\n",
            "Iteration 72, loss = 0.65167823\n",
            "Iteration 73, loss = 0.65157643\n",
            "Iteration 74, loss = 0.65164618\n",
            "Iteration 75, loss = 0.65151353\n",
            "Iteration 76, loss = 0.65143476\n",
            "Iteration 77, loss = 0.65121424\n",
            "Iteration 78, loss = 0.65116968\n",
            "Iteration 79, loss = 0.65108739\n",
            "Iteration 80, loss = 0.65101864\n",
            "Iteration 81, loss = 0.65082884\n",
            "Iteration 82, loss = 0.65091555\n",
            "Iteration 83, loss = 0.65072632\n",
            "Iteration 84, loss = 0.65075052\n",
            "Iteration 85, loss = 0.65061787\n",
            "Iteration 86, loss = 0.65068188\n",
            "Iteration 87, loss = 0.65057862\n",
            "Iteration 88, loss = 0.65041108\n",
            "Iteration 89, loss = 0.65043058\n",
            "Iteration 90, loss = 0.65036356\n",
            "Iteration 91, loss = 0.65035694\n",
            "Iteration 92, loss = 0.65025254\n",
            "Iteration 93, loss = 0.65021330\n",
            "Iteration 94, loss = 0.65012325\n",
            "Iteration 95, loss = 0.65021512\n",
            "Iteration 96, loss = 0.65004660\n",
            "Iteration 97, loss = 0.65005189\n",
            "Iteration 98, loss = 0.65002632\n",
            "Iteration 99, loss = 0.64998893\n",
            "Iteration 100, loss = 0.64982658\n",
            "Iteration 101, loss = 0.64986941\n",
            "Iteration 102, loss = 0.64989243\n",
            "Iteration 103, loss = 0.64972264\n",
            "Iteration 104, loss = 0.64972095\n",
            "Iteration 105, loss = 0.64982729\n",
            "Iteration 106, loss = 0.64969502\n",
            "Iteration 107, loss = 0.64968076\n",
            "Iteration 108, loss = 0.64960693\n",
            "Iteration 109, loss = 0.64960748\n",
            "Iteration 110, loss = 0.64957165\n",
            "Iteration 111, loss = 0.64956848\n",
            "Iteration 112, loss = 0.64952236\n",
            "Iteration 113, loss = 0.64937956\n",
            "Iteration 114, loss = 0.64941458\n",
            "Iteration 115, loss = 0.64945502\n",
            "Iteration 116, loss = 0.64943038\n",
            "Iteration 117, loss = 0.64929499\n",
            "Iteration 118, loss = 0.64931966\n",
            "Iteration 119, loss = 0.64928362\n",
            "Iteration 120, loss = 0.64928417\n",
            "Iteration 121, loss = 0.64922796\n",
            "Iteration 122, loss = 0.64919258\n",
            "Iteration 123, loss = 0.64913708\n",
            "Iteration 124, loss = 0.64918150\n",
            "Training loss did not improve more than tol=0.000100 for 10 consecutive epochs. Stopping.\n"
          ],
          "name": "stdout"
        }
      ]
    },
    {
      "cell_type": "markdown",
      "metadata": {
        "id": "f3413KzCoAIE"
      },
      "source": [
        "### 6. Com o modelo em questão, após o treinamento, apresente:\n",
        "\n",
        "**6.1 Matriz de confusão para o conjunto de teste**"
      ]
    },
    {
      "cell_type": "code",
      "metadata": {
        "id": "5qgNDYR_oAIF"
      },
      "source": [
        "Y_pred_test = perceptron.predict(X_test_std)\n",
        "\n",
        "cm_test = confusion_matrix(Y_test, Y_pred_test)"
      ],
      "execution_count": null,
      "outputs": []
    },
    {
      "cell_type": "code",
      "metadata": {
        "id": "Uc2i_H_woAIH",
        "outputId": "e1b511c6-780d-46cb-b34b-9e81d383d6fa"
      },
      "source": [
        "print(cm_test)"
      ],
      "execution_count": null,
      "outputs": [
        {
          "output_type": "stream",
          "text": [
            "[[44972 17242     7     0    10    13  1045]\n",
            " [15596 67914  1147     0   115   567     8]\n",
            " [    0  1826  7635   235     0  1041     0]\n",
            " [    0     8   413   285     0   110     0]\n",
            " [    8  2538    35     0   222    38     0]\n",
            " [    0  1442  2227    69     0  1438     0]\n",
            " [ 3603    34     0     0     0     0  2461]]\n"
          ],
          "name": "stdout"
        }
      ]
    },
    {
      "cell_type": "markdown",
      "metadata": {
        "id": "d145RjK9oAIK"
      },
      "source": [
        "\n"
      ]
    },
    {
      "cell_type": "markdown",
      "metadata": {
        "id": "VRCPZN4XoAIL"
      },
      "source": [
        "**6.2 Acurácia**"
      ]
    },
    {
      "cell_type": "code",
      "metadata": {
        "id": "ZbQIyWqdoAIM",
        "outputId": "91a58e83-9366-42a4-d582-5dbe79e0d0f7"
      },
      "source": [
        "accuracy = accuracy_score(Y_test, Y_pred_test)\n",
        "print(accuracy)"
      ],
      "execution_count": null,
      "outputs": [
        {
          "output_type": "stream",
          "text": [
            "0.7167190655406646\n"
          ],
          "name": "stdout"
        }
      ]
    },
    {
      "cell_type": "markdown",
      "metadata": {
        "id": "pt7lUUyEoAIQ"
      },
      "source": [
        "**6.3 F-Score**"
      ]
    },
    {
      "cell_type": "code",
      "metadata": {
        "id": "tZgZDaACoAIQ",
        "outputId": "0539a7f8-d921-4f7e-e288-7da88f3ee793"
      },
      "source": [
        "f_score = f1_score(Y_test, Y_pred_test, average='macro')\n",
        "print(f_score)"
      ],
      "execution_count": null,
      "outputs": [
        {
          "output_type": "stream",
          "text": [
            "0.5091072540805867\n"
          ],
          "name": "stdout"
        }
      ]
    },
    {
      "cell_type": "markdown",
      "metadata": {
        "id": "6sW6XNVJoAIU"
      },
      "source": [
        "**6.4 Precisão**"
      ]
    },
    {
      "cell_type": "code",
      "metadata": {
        "id": "3MGsHrisoAIU",
        "outputId": "9a447473-9c6e-4368-8e07-ceda1c942fce"
      },
      "source": [
        "precision = precision_score(Y_test, Y_pred_test, average='macro')\n",
        "print(precision)"
      ],
      "execution_count": null,
      "outputs": [
        {
          "output_type": "stream",
          "text": [
            "0.6264823567208927\n"
          ],
          "name": "stdout"
        }
      ]
    },
    {
      "cell_type": "markdown",
      "metadata": {
        "id": "Xsk9YUURoAIX"
      },
      "source": [
        "**6.5 Revocação**"
      ]
    },
    {
      "cell_type": "code",
      "metadata": {
        "id": "-7SHnb7doAIX",
        "outputId": "1e3575e3-21e4-4ad6-e919-716dc6325def"
      },
      "source": [
        "recall = recall_score(Y_test, Y_pred_test, average='macro')\n",
        "print(recall)"
      ],
      "execution_count": null,
      "outputs": [
        {
          "output_type": "stream",
          "text": [
            "0.47517367219020856\n"
          ],
          "name": "stdout"
        }
      ]
    },
    {
      "cell_type": "markdown",
      "metadata": {
        "id": "kydYaEfWoAIa"
      },
      "source": [
        "### Repita o treinamento da mesma rede anterior sem imprimir o passo a passo (verbose False) por 100 vezes\n",
        "\n",
        "**7.1 Cada uma destas repetições deve ser feita com uma nova partição Holdout**<br>\n",
        "**7.2 Apresente a média e o desvio padrão da acurácia e do F-Score para o conjunto de treino**"
      ]
    },
    {
      "cell_type": "code",
      "metadata": {
        "id": "PFa10S8OoAIb"
      },
      "source": [
        "accuracies, f_scores = [], []\n",
        "\n",
        "for i in range(100):\n",
        "    X_train, X_test, Y_train, Y_test = train_test_split(X, Y, test_size=0.3, shuffle=True)\n",
        "    \n",
        "    X_train_std = (X_train - np.mean(X_train)) / np.std(X_train)\n",
        "    X_test_std = (X_test - np.mean(X_train)) / np.std(X_train)\n",
        "    \n",
        "    perceptron = MLPClassifier(hidden_layer_sizes=(10,), activation='relu', solver='adam', max_iter=300)\n",
        "    perceptron.fit(X_train_std, Y_train)\n",
        "    \n",
        "    Y_pred_train = perceptron.predict(X_train_std)\n",
        "        \n",
        "    accuracy = accuracy_score(Y_train, Y_pred_train)\n",
        "    accuracies.append(accuracy)\n",
        "    \n",
        "    f_score = f1_score(Y_train, Y_pred_train, average='macro')\n",
        "    f_scores.append(f_score)"
      ],
      "execution_count": null,
      "outputs": []
    },
    {
      "cell_type": "code",
      "metadata": {
        "id": "Iyu7uhsNoAId",
        "outputId": "cf26d7c6-6d23-483a-aa4f-55777d2146fc"
      },
      "source": [
        "print(\"Acurácia Média: %.4f\" % np.mean(accuracies))\n",
        "print(\"Desvio Padrão Acurácia: %.4f\" % np.std(accuracies))"
      ],
      "execution_count": null,
      "outputs": [
        {
          "output_type": "stream",
          "text": [
            "Acurácia Média: 0.7181\n",
            "Desvio Padrão Acurácia: 0.0030\n"
          ],
          "name": "stdout"
        }
      ]
    },
    {
      "cell_type": "code",
      "metadata": {
        "id": "8CCWbbnCoAIh",
        "outputId": "9922f887-6102-435e-8b90-cdef139a80d5"
      },
      "source": [
        "print(\"F-Score Médio: %.4f\" % np.mean(f_scores))\n",
        "print(\"Desvio Padrão F-Score: %.4f\" % np.std(f_scores))"
      ],
      "execution_count": null,
      "outputs": [
        {
          "output_type": "stream",
          "text": [
            "F-Score Médio: 0.5158\n",
            "Desvio Padrão F-Score: 0.0198\n"
          ],
          "name": "stdout"
        }
      ]
    },
    {
      "cell_type": "markdown",
      "metadata": {
        "id": "fbKfPSvsoAIj"
      },
      "source": [
        "### Repita por 100 vezes o treinamento desta mesma rede, mas utilizando o otimizador SGD\n",
        "**8.1 Apresente a média e o desvio padrão da acurácia e do F-Score para o conjunto de treino**"
      ]
    },
    {
      "cell_type": "code",
      "metadata": {
        "id": "HRbAJ8mwoAIk"
      },
      "source": [
        "accuracies, f_scores = [], []\n",
        "\n",
        "for i in range(100):\n",
        "    X_train, X_test, Y_train, Y_test = train_test_split(X, Y, test_size=0.3, shuffle=True)\n",
        "    \n",
        "    X_train_std = (X_train - np.mean(X_train)) / np.std(X_train)\n",
        "    X_test_std = (X_test - np.mean(X_train)) / np.std(X_train)\n",
        "    \n",
        "    perceptron = MLPClassifier(hidden_layer_sizes=(10,), activation='relu', solver='sgd', max_iter=300)\n",
        "    perceptron.fit(X_train_std, Y_train)\n",
        "    \n",
        "    Y_pred_train = perceptron.predict(X_train_std)\n",
        "        \n",
        "    accuracy = accuracy_score(Y_train, Y_pred_train)\n",
        "    accuracies.append(accuracy)\n",
        "    \n",
        "    f_score = f1_score(Y_train, Y_pred_train, average='macro')\n",
        "    f_scores.append(f_score)"
      ],
      "execution_count": null,
      "outputs": []
    },
    {
      "cell_type": "code",
      "metadata": {
        "id": "WTKdmJ9toAIm",
        "outputId": "40177cdb-7a9b-40e2-806b-947b8fa65f5b"
      },
      "source": [
        "print(\"Acurácia Média: %.4f\" % np.mean(accuracies))\n",
        "print(\"Desvio Padrão Acurácia: %.4f\" % np.std(accuracies))"
      ],
      "execution_count": null,
      "outputs": [
        {
          "output_type": "stream",
          "text": [
            "Acurácia Média: 0.7148\n",
            "Desvio Padrão Acurácia: 0.0028\n"
          ],
          "name": "stdout"
        }
      ]
    },
    {
      "cell_type": "code",
      "metadata": {
        "id": "nZVUYWd7oAIo",
        "outputId": "33b4ac41-3116-4b11-d114-182aa89a20b9"
      },
      "source": [
        "print(\"F-Score Médio: %.4f\" % np.mean(f_scores))\n",
        "print(\"Desvio Padrão F-Score: %.4f\" % np.std(f_scores))"
      ],
      "execution_count": null,
      "outputs": [
        {
          "output_type": "stream",
          "text": [
            "F-Score Médio: 0.4807\n",
            "Desvio Padrão F-Score: 0.0170\n"
          ],
          "name": "stdout"
        }
      ]
    },
    {
      "cell_type": "markdown",
      "metadata": {
        "id": "4IeMrGbEoAIr"
      },
      "source": [
        "**9. Houve influência da escolha do otimizador no desempenho da rede?**"
      ]
    },
    {
      "cell_type": "markdown",
      "metadata": {
        "id": "2LnB3CDPoAIs"
      },
      "source": [
        "Como pode ser observado, não houve perda significativa de acuáricia, havendo apenas uma leve diminuição no F-Score obtido para a rede treinada com o otimizador SGD. Também foi possível perceber uma melhora no tempo necessário para convergência, quando utilizado este mesmo otimizador, resultando em um tempo de treinamento menor ao do primeiro otimizador."
      ]
    },
    {
      "cell_type": "markdown",
      "metadata": {
        "id": "YyN0uZS0oAIs"
      },
      "source": [
        "## Discussão\n",
        "\n",
        "Nos passos anteriores, você avaliou o desempenho de uma única rede neural que contém os seguintes parâmetros: uma única camada oculta com 10 neurônios e função de ativação ReLU. O otimizador utilizado, quer seja SGD ou ADAM, trata-se do algoritmo para aproximar o gradiente do erro. Neste sentido, a escolha do otimizador é um hiperparâmetro, pois diz respeito a como a rede neural definida previamente atuará \"em tempo de execução\"  durante o processo de treinamento. Também são hiperparâmetros a quantidade de épocas, a taxa de aprendizado inicial, dentre outros.\n",
        "\n",
        "Cabe alientar também que você efetuou o treinamento desta rede por 100 vezes e apresentou os resultados em termos de média +- desvio padrão. Lembre-se que em uma rede neural há a inicialização aleatória de pesos e, em consequência, o desempenho delas está sujeito à uma flutuação estocástica. A execução destas múltiplas vezes faz com que eliminemos algum viés introduzido por uma boa ou má \"sorte\" na escolha de pesos no caso de uma única execução.\n",
        "\n",
        "Você também aprendeu uma estratégia para escalonar os atributos para uma melhor convergência da rede. Utilize-a em todos os treinamentos e testes propostos a seguir.\n",
        "\n",
        "## Propondo Novas Arquiteturas\n",
        "\n",
        "Variando  os parâmetros (uma ou duas camadas ocultas, com diferente números de neurônios em cada uma delas e a função de ativação) e o hiperparâmetros solver (Adam ou SGD) e o número de épocas (100,150 e 200), atenda ao que se pede:\n",
        "\n",
        "1. Proponha 10 arquiteturas distintas de RNAs para o problema em questão, à sua escolha\n",
        "2. Avalie cada uma das arquiteturas perante todos os hiperparâmetros apresentados por 100 vezes\n",
        "3. Como resultado da avaliação, apresente:  \n",
        "    3.1 Top-3 melhores redes no tocante à F-Score e Acurácia  \n",
        "    3.2 Repetição em que houve o melhor desempenho de cada uma dessas redes: ilustre tp, tf, fp e fn  "
      ]
    },
    {
      "cell_type": "markdown",
      "metadata": {
        "id": "-3CDyDFg4VIe"
      },
      "source": [
        "**1. Proponha 10 arquiteturas distintas de RNAs para o problema em questão, à sua escolha**"
      ]
    },
    {
      "cell_type": "code",
      "metadata": {
        "id": "XkdCEfA9oAIu"
      },
      "source": [
        "models = [\n",
        "          MLPClassifier(hidden_layer_sizes=(10, 8), activation='relu', solver='adam', max_iter=100), \n",
        "          MLPClassifier(hidden_layer_sizes=(10, 10), activation='identity', solver='sgd', max_iter=150),\n",
        "          MLPClassifier(hidden_layer_sizes=(8, 8), activation='relu', solver='adam', max_iter=200),\n",
        "          MLPClassifier(hidden_layer_sizes=(6, 6), activation='identity', solver='sgd', max_iter=100),\n",
        "          MLPClassifier(hidden_layer_sizes=(10, 6), activation='relu', solver='adam', max_iter=150),\n",
        "          MLPClassifier(hidden_layer_sizes=(20, 10), activation='identity', solver='sgd', max_iter=200),\n",
        "          MLPClassifier(hidden_layer_sizes=(20, 10), activation='relu', solver='adam', max_iter=200),\n",
        "          MLPClassifier(hidden_layer_sizes=(20, 20), activation='relu', solver='sgd', max_iter=150),\n",
        "          MLPClassifier(hidden_layer_sizes=(10, 5), activation='relu', solver='adam', max_iter=100),\n",
        "          MLPClassifier(hidden_layer_sizes=(10, 5), activation='identity', solver='sgd', max_iter=100),\n",
        "          ]"
      ],
      "execution_count": 7,
      "outputs": []
    },
    {
      "cell_type": "markdown",
      "metadata": {
        "id": "erT0YnVc4eGZ"
      },
      "source": [
        "**2. Avalie cada uma das arquiteturas perante todos os hiperparâmetros apresentados por 100 vezes**"
      ]
    },
    {
      "cell_type": "code",
      "metadata": {
        "id": "wXFvjpFB4sz4",
        "outputId": "3ff5f88a-ff75-4c03-edd0-5850cfcba730",
        "colab": {
          "base_uri": "https://localhost:8080/",
          "height": 34
        }
      },
      "source": [
        "accuracies, f_scores, confusions_matrix = [], [], []\n",
        "for i in models:\n",
        "  accuracies.append([])\n",
        "  f_scores.append([])\n",
        "  confusions_matrix.append([])\n",
        "\n",
        "for i in range(len(models)):\n",
        "  print(i)\n",
        "  for j in range(100):\n",
        "      X_train, X_test, Y_train, Y_test = train_test_split(X, Y, test_size=0.3, shuffle=True)\n",
        "      \n",
        "      X_train_std = (X_train - np.mean(X_train)) / np.std(X_train)\n",
        "      X_test_std = (X_test - np.mean(X_train)) / np.std(X_train)\n",
        "      \n",
        "      perceptron = models[i]\n",
        "      perceptron.fit(X_train_std, Y_train)\n",
        "      \n",
        "      Y_pred_train = perceptron.predict(X_train_std)\n",
        "          \n",
        "      accuracy = accuracy_score(Y_train, Y_pred_train)\n",
        "      accuracies[i].append(accuracy)\n",
        "      \n",
        "      f_score = f1_score(Y_train, Y_pred_train, average='macro')\n",
        "      f_scores[i].append(f_score)\n",
        "\n",
        "      Y_pred_test = perceptron.predict(X_test_std)\n",
        "      cm_test = confusion_matrix(Y_test, Y_pred_test)\n",
        "      confusions_matrix[i].append(cm_test)"
      ],
      "execution_count": null,
      "outputs": [
        {
          "output_type": "stream",
          "text": [
            "0\n"
          ],
          "name": "stdout"
        }
      ]
    },
    {
      "cell_type": "markdown",
      "metadata": {
        "id": "6xZ1SpX64tVe"
      },
      "source": [
        "**3. Como resultado da avaliação, apresente:**\n",
        "\n",
        "**3.1 Top-3 melhores redes no tocante à F-Score e Acurácia**"
      ]
    },
    {
      "cell_type": "code",
      "metadata": {
        "id": "E8PummQ84yIH",
        "outputId": "0405b132-1964-4d0b-b4ac-c09137ecd83f",
        "colab": {
          "base_uri": "https://localhost:8080/",
          "height": 578
        }
      },
      "source": [
        "def print_model(model):\n",
        "  print(\"hidden_layer_sizes: \"+str(model.hidden_layer_sizes)+\", activation: \"+\n",
        "        str(model.activation)+\", solver: \"+str(model.solver)+\n",
        "        \", max_iter: \"+str(model.max_iter))\n",
        "\n",
        "# Top 3 em relacao a acuracia\n",
        "accuracies_sum = []\n",
        "for i in range(len(models)):\n",
        "  accuracies_sum.append(sum(accuracies[i]))\n",
        "\n",
        "models_sort = np.argsort(accuracies_sum)\n",
        "\n",
        "print(\"-----Top 3 em relação à acurácia-----\")\n",
        "for i in range(3):\n",
        "  print(str(i+1)+'º Lugar: ')\n",
        "  index = models_sort[-3:][2-i]\n",
        "  print_model(models[index])\n",
        "  print(\"Acurácia Média: %.4f\" % np.mean(accuracies[index]))\n",
        "  print(\"Desvio Padrão Acurácia: %.4f\" % np.std(accuracies[index]))\n",
        "  print()\n",
        "\n",
        "# Top 3 em relacao ao F-score\n",
        "f_scores_sum = []\n",
        "for i in range(len(models)):\n",
        "  f_scores_sum.append(sum(f_scores[i]))\n",
        "\n",
        "models_sort = np.argsort(f_scores_sum)\n",
        "\n",
        "print(\"\\n-----Top 3 em relação ao F-score-----\")\n",
        "for i in range(3):\n",
        "  print(str(i+1)+'º Lugar: ')\n",
        "  index = models_sort[-3:][2-i]\n",
        "  print_model(models[index])\n",
        "  print(\"F-Score Média: %.4f\" % np.mean(f_scores[index]))\n",
        "  print(\"Desvio Padrão F-Score: %.4f\" % np.std(f_scores[index]))\n",
        "  print()"
      ],
      "execution_count": 73,
      "outputs": [
        {
          "output_type": "stream",
          "text": [
            "-----Top 3 em relação à acurácia-----\n",
            "1º Lugar: \n",
            "hidden_layer_sizes: (20, 20), activation: relu, solver: sgd, max_iter: 150\n",
            "Acurácia Média: 0.7603\n",
            "Desvio Padrão Acurácia: 0.0041\n",
            "\n",
            "2º Lugar: \n",
            "hidden_layer_sizes: (20, 10), activation: relu, solver: adam, max_iter: 200\n",
            "Acurácia Média: 0.7582\n",
            "Desvio Padrão Acurácia: 0.0024\n",
            "\n",
            "3º Lugar: \n",
            "hidden_layer_sizes: (8, 8), activation: relu, solver: adam, max_iter: 200\n",
            "Acurácia Média: 0.7275\n",
            "Desvio Padrão Acurácia: 0.0010\n",
            "\n",
            "\n",
            "-----Top 3 em relação ao F-score-----\n",
            "1º Lugar: \n",
            "hidden_layer_sizes: (20, 10), activation: relu, solver: adam, max_iter: 200\n",
            "F-Score Média: 0.6033\n",
            "Desvio Padrão F-Score: 0.0142\n",
            "\n",
            "2º Lugar: \n",
            "hidden_layer_sizes: (20, 20), activation: relu, solver: sgd, max_iter: 150\n",
            "F-Score Média: 0.5893\n",
            "Desvio Padrão F-Score: 0.0139\n",
            "\n",
            "3º Lugar: \n",
            "hidden_layer_sizes: (10, 8), activation: relu, solver: adam, max_iter: 100\n",
            "F-Score Média: 0.5483\n",
            "Desvio Padrão F-Score: 0.0082\n",
            "\n"
          ],
          "name": "stdout"
        }
      ]
    },
    {
      "cell_type": "markdown",
      "metadata": {
        "id": "2-hwehEl4ypk"
      },
      "source": [
        "**3.2 Repetição em que houve o melhor desempenho de cada uma dessas redes: ilustre tp, tf, fp e fn**"
      ]
    },
    {
      "cell_type": "code",
      "metadata": {
        "id": "bi4-J5Ix44b6",
        "outputId": "3e1b4fde-0a25-473c-ec62-290a0c22de9b",
        "colab": {
          "base_uri": "https://localhost:8080/",
          "height": 1000
        }
      },
      "source": [
        "for i in range(len(models)):\n",
        "  index = accuracies[i].index(max(accuracies[i]))\n",
        "  cm = confusions_matrix[i][index]\n",
        "\n",
        "  FP = cm.sum(axis=0) - np.diag(cm)\n",
        "  FN = cm.sum(axis=1) - np.diag(cm)\n",
        "  TP = np.diag(cm)\n",
        "  TN = cm.sum() - (FP + FN + TP)\n",
        "\n",
        "  print_model(models[i])\n",
        "  print(\"FP: \" + str(FP))\n",
        "  print(\"FN: \" + str(FN))\n",
        "  print(\"TP: \" + str(TP))\n",
        "  print(\"TN: \" + str(TN))\n",
        "  print()"
      ],
      "execution_count": 92,
      "outputs": [
        {
          "output_type": "stream",
          "text": [
            "hidden_layer_sizes: (10, 8), activation: relu, solver: adam, max_iter: 100\n",
            "FP: [15690 25504  3724   387    37  1300   791]\n",
            "FN: [20557 14568  2661   347  2568  3868  2864]\n",
            "TP: [43188 70242  8061   434   199  1402  3345]\n",
            "TN: [ 94869  63990 159858 173136 171500 167734 167304]\n",
            "\n",
            "hidden_layer_sizes: (10, 10), activation: identity, solver: sgd, max_iter: 150\n",
            "FP: [20609 25095  5056   100     0   547  1349]\n",
            "FN: [19568 17671  2630   686  2882  4959  4360]\n",
            "TP: [44236 66984  8082   126     0   404  1716]\n",
            "TN: [ 89891  64554 158536 173392 171422 168394 166879]\n",
            "\n",
            "hidden_layer_sizes: (8, 8), activation: relu, solver: adam, max_iter: 200\n",
            "FP: [17380 23596  4339   121   174  1123   863]\n",
            "FN: [18734 16234  2560   656  2496  4220  2696]\n",
            "TP: [44757 68730  8275   181   324   999  3442]\n",
            "TN: [ 93433  65744 159130 173346 171310 167962 167303]\n",
            "\n",
            "hidden_layer_sizes: (6, 6), activation: identity, solver: sgd, max_iter: 100\n",
            "FP: [20994 24479  4981   112     0   772  1162]\n",
            "FN: [18957 18156  2760   777  2819  4664  4367]\n",
            "TP: [44601 66860  8041    78     0   581  1643]\n",
            "TN: [ 89752  64809 158522 173337 171485 168287 167132]\n",
            "\n",
            "hidden_layer_sizes: (10, 6), activation: relu, solver: adam, max_iter: 150\n",
            "FP: [17837 23230  4319   160    61  1295  1220]\n",
            "FN: [18875 16842  2244   451  2779  4000  2931]\n",
            "TP: [44726 68197  8389   378   118  1183  3191]\n",
            "TN: [ 92866  66035 159352 173315 171346 167826 166962]\n",
            "\n",
            "hidden_layer_sizes: (20, 10), activation: identity, solver: sgd, max_iter: 200\n",
            "FP: [21172 24990  4728   123     0   877  1042]\n",
            "FN: [19137 18036  2920   646  2871  4682  4640]\n",
            "TP: [44279 67067  7773   162     0   615  1476]\n",
            "TN: [ 89716  64211 158883 173373 171433 168130 167146]\n",
            "\n",
            "hidden_layer_sizes: (20, 10), activation: relu, solver: adam, max_iter: 200\n",
            "FP: [15680 20073  3587   110   122  1034   821]\n",
            "FN: [15356 14595  2599   347  2326  3754  2450]\n",
            "TP: [47872 70553  8128   479   572  1490  3783]\n",
            "TN: [ 95396  69083 159990 173368 171284 168026 167250]\n",
            "\n",
            "hidden_layer_sizes: (20, 20), activation: relu, solver: sgd, max_iter: 150\n",
            "FP: [14288 20440  3823   165   142  1330  1035]\n",
            "FN: [16321 13317  2210   562  2434  3702  2677]\n",
            "TP: [47474 71592  8397   252   462  1468  3436]\n",
            "TN: [ 96221  68955 159874 173325 171266 167804 167156]\n",
            "\n",
            "hidden_layer_sizes: (10, 5), activation: relu, solver: adam, max_iter: 100\n",
            "FP: [18247 22471  4328   228   186  1275   999]\n",
            "FN: [17720 17654  2608   458  2474  4247  2573]\n",
            "TP: [45778 67271  8168   377   361   927  3688]\n",
            "TN: [ 92559  66908 159200 173241 171283 167855 167044]\n",
            "\n",
            "hidden_layer_sizes: (10, 5), activation: identity, solver: sgd, max_iter: 100\n",
            "FP: [22011 23588  4887   111     0   873  1316]\n",
            "FN: [18275 19193  2904   681  2862  4558  4313]\n",
            "TP: [45308 65843  7874   137     0   618  1738]\n",
            "TN: [ 88710  65680 158639 173375 171442 168255 166937]\n",
            "\n"
          ],
          "name": "stdout"
        }
      ]
    },
    {
      "cell_type": "markdown",
      "metadata": {
        "id": "61uyCEU-oAIx"
      },
      "source": [
        "## Estimando o número de neurônios\n",
        "\n",
        "Um dos problemas de pesquisa com redes neurais artificiais consiste na determinação do número de neurônios em sua arquitetura. Embora não seja possível definir a priori qual rede neural é adequada para um problema, pois isto só é possível mediante uma busca exaustiva, há regras na literatura que sugerem o número de neurônios escondidos, tal como a regra da Pirâmide Geométrica, dada a seguir:\n",
        "\n",
        "$$N_h = \\alpha \\cdot \\sqrt{N_i \\cdot N_o},$$\n",
        "\n",
        "em que $N_h$ é o número de neurônios ocultos (a serem distribuídos em uma ou duas camadas ocultas), $N_i$ é o número de neurônios na camada de entrada e $N_o$ é o número de neurônios na camada de saída. \n",
        "\n",
        "1. Consulte a documentação da classe MLPClassifier (disponível em https://scikit-learn.org/stable/modules/generated/sklearn.neural_network.MLPClassifier.html) e obtenha os valores de $N_i$ e $N_h$.\n",
        "2. Teste os valores de $\\alpha$ como sendo iguais a $0.5$, $2$ e $3$.\n",
        "3. Proponha pelo menos 30 redes neurais segundo a regra da pirâmide geométrica e teste-as nos mesmos termos estabelecidos anterioremente  (solver, épocas, etc.)  \n",
        "    3.1 Apresente as top-3 melhores redes no tocante à F-Score e Acurácia  "
      ]
    },
    {
      "cell_type": "code",
      "metadata": {
        "id": "2rmfWQgboAIx"
      },
      "source": [
        ""
      ],
      "execution_count": null,
      "outputs": []
    },
    {
      "cell_type": "markdown",
      "metadata": {
        "id": "cZv_bThgoAIz"
      },
      "source": [
        "## Testando as Redes Neurais com Atributos Categóricos\n",
        "\n",
        "1. Considere as 6 redes neurais obtidas nos dois top-3 anteriores (arquiteturas próprias e regra da pirâmide geométrica)\n",
        "2. Com todos os atributos preditores da base de dados original, incluindo os categóricos, treine e teste estas mesmas redes por 100 repetições  \n",
        "    2.1 Considere o melhor otimizador para cada uma delas  \n",
        "    2.2 Faça uso de 200 épocas para treinamento  \n",
        "    2.2 Apresente os resultados de acurácia e F-Score em termos da média +- dp para cada arquitetura\n",
        "3. Apresente o gráfico boxplot para o F-Score das 6 arquiteturas perante as 100 repetições"
      ]
    },
    {
      "cell_type": "code",
      "metadata": {
        "id": "5VSX8DZDoAI0"
      },
      "source": [
        ""
      ],
      "execution_count": null,
      "outputs": []
    },
    {
      "cell_type": "markdown",
      "metadata": {
        "id": "ogFxO7pNoAI3"
      },
      "source": [
        "## Considerações Parciais\n",
        "\n",
        "1. É possível identificar uma rede com desempenho superior às demais?\n",
        "2. Qual estratégia mostrou-se mais producente para a obtenção de boas arquiteturas (Estratégia Própria ou Pirâmide Geométrica)? Por quê?\n",
        "3. Considerar os atributos categóricos trouxe melhorias? Justifique.\n",
        "4. Um número maior de épocas trouxe melhorias?\n",
        "5. Qual a maior dificuldade de resolução do problema proposto perante as RNAs?"
      ]
    },
    {
      "cell_type": "code",
      "metadata": {
        "id": "hq-MsUt6oAI3"
      },
      "source": [
        ""
      ],
      "execution_count": null,
      "outputs": []
    }
  ]
}