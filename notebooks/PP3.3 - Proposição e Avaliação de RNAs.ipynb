{
  "nbformat": 4,
  "nbformat_minor": 0,
  "metadata": {
    "kernelspec": {
      "display_name": "venv",
      "language": "python",
      "name": "venv"
    },
    "language_info": {
      "codemirror_mode": {
        "name": "ipython",
        "version": 3
      },
      "file_extension": ".py",
      "mimetype": "text/x-python",
      "name": "python",
      "nbconvert_exporter": "python",
      "pygments_lexer": "ipython3",
      "version": "3.7.0"
    },
    "colab": {
      "name": "PP3.3 - Proposição e Avaliação de RNAs.ipynb",
      "provenance": [],
      "toc_visible": true
    }
  },
  "cells": [
    {
      "cell_type": "markdown",
      "metadata": {
        "id": "msDmjAkyoAHe"
      },
      "source": [
        "## Redes Neurais Artificiais 2020.1\n",
        "\n",
        "**Disciplina**: Redes Neurais Artificiais 2020.1  \n",
        "**Professora**: Elloá B. Guedes (ebgcosta@uea.edu.br)  \n",
        "**Github**: http://github.com/elloa  \n",
        "\n",
        "### Alunos\n",
        "\n",
        "Leonardo Monteiro Neres de Lima - 1615080320 (lmndl.eng16@uea.edu.br) <br>\n",
        "Thatielen Oliveira Pereira - 1515080618 (top.eng@uea.edu.br) <br>\n",
        "Vyctor Lima Negreiros - 1615080372 (vln.eng16@uea.edu.br) <br>\n",
        "\n",
        "Levando em conta a base de dados **_Forest Cover Type_**, esta terceira parte do Projeto Prático 3 diz respeito à proposição e avaliação de múltiplas redes neurais artificiais do tipo feedforward multilayer perceptron para o problema da classificação multi-classe da cobertura florestal em uma área do Roosevelt National Forest.\n",
        "\n",
        "## Testando Redes Neurais sem os Atributos Categórios\n",
        "\n",
        "1. Abra a base de dados em questão\n",
        "2. Elimine todas as colunas relativas aos atributos categóricos\n",
        "3. Armazene o atributo alvo em uma variável y e os atributos preditores em uma variável X\n",
        "4. Efetue uma partição holdout 70/30 com o sklearn, distribuindo os exemplos de maneira aleatória\n",
        "5. Efetue o escalonamento dos atributos\n",
        "\n",
        "### Escalonando os atributos\n",
        "\n",
        "O treinamento de uma rede neural artificial é mais eficiente quando os valores que lhes são fornecidos como entrada são pequenos, pois isto favorece a convergência. Isto é feito escalonando-se todos os atributos para o intervalo [0,1], mas precisa ser feito de maneira cautelosa, para que informações do conjunto de teste não sejam fornecidas no treinamento.\n",
        "\n",
        "Há duas estratégias para tal escalonamento: normalização e padronização. Ambas possuem características particulares, vantagens e limitações, como é possível ver aqui: https://www.analyticsvidhya.com/blog/2020/04/feature-scaling-machine-learning-normalization-standardization/\n",
        "\n",
        "\n",
        "No nosso caso, vamos usar a padronização. Assim, com os atributos preditores do treinamento, isto é, X_train, deve-se subtrair a média e dividir pelo desvio padrão:\n",
        "\n",
        "X_train_std = (X_train - np.mean(X_train))/np.std(X_train)\n",
        "\n",
        "Em seguida, o mesmo deve ser feito com os atributos preditores do conjunto de testes, mas com padronização relativa ao conjunto de treinamento:\n",
        "\n",
        "X_test_std = (X_test - np.mean(X_train))/np.std(X_train)\n",
        "\n",
        "Se todo o conjunto X for utilizado na padronização, a rede neural receberá informações do conjunto de teste por meio da média e variância utilizada para preparar os dados de treinamento, o que não é desejável.\n",
        "\n",
        "\n",
        "### Continuando\n",
        "\n",
        "5. Treine uma rede neural multilayer perceptron para este problema com uma única camada e dez neurônios  \n",
        "    5.1 Utilize a função de ativação ReLU  \n",
        "    5.2 Utilize o solver Adam    \n",
        "    5.3 Imprima o passo a passo do treinamento    \n",
        "    5.4 Utilize o número máximo de épocas igual a 300  \n",
        "6. Com o modelo em questão, após o treinamento, apresente:  \n",
        "    6.1 Matriz de confusão para o conjunto de teste  \n",
        "    6.2 Acurácia  \n",
        "    6.3 F-Score  \n",
        "    6.4 Precisão  \n",
        "    6.5 Revocação  \n",
        "7. Repita o treinamento da mesma rede anterior sem imprimir o passo a passo (verbose False) por 100 vezes  \n",
        "    7.1 Cada uma destas repetições deve ser feita com uma nova partição Holdout  \n",
        "    7.2 Apresente a média e o desvio padrão da acurácia e do F-Score para o conjunto de treino  \n",
        "8. Repita por 100 vezes o treinamento desta mesma rede, mas utilizando o otimizador SGD  \n",
        "    8.1 Apresente a média e o desvio padrão da acurácia e do F-Score para o conjunto de treino  \n",
        "9. Houve influência da escolha do otimizador no desempenho da rede?"
      ]
    },
    {
      "cell_type": "code",
      "metadata": {
        "id": "OME8DkHyoAHf"
      },
      "source": [
        "import numpy as np, pandas as pd, matplotlib.pyplot as plt, os\n",
        "from sklearn.model_selection import train_test_split\n",
        "from sklearn.neural_network import MLPClassifier\n",
        "from sklearn.metrics import confusion_matrix, accuracy_score, f1_score, precision_score, recall_score "
      ],
      "execution_count": 3,
      "outputs": []
    },
    {
      "cell_type": "markdown",
      "metadata": {
        "id": "fVTxQgfloAHl"
      },
      "source": [
        "## Testando Redes Neurais sem os Atributos Categórios"
      ]
    },
    {
      "cell_type": "markdown",
      "metadata": {
        "id": "lfrvJ1DeoAHl"
      },
      "source": [
        "### Testando Redes Neurais sem os Atributos Categórios"
      ]
    },
    {
      "cell_type": "markdown",
      "metadata": {
        "id": "cOPzEH27oAHm"
      },
      "source": [
        "### 1. Abra a base de dados em questão"
      ]
    },
    {
      "cell_type": "code",
      "metadata": {
        "id": "u_xLi8t_oAHn"
      },
      "source": [
        "data = pd.read_csv('../datasets/covtype.csv', sep=\";\")"
      ],
      "execution_count": null,
      "outputs": []
    },
    {
      "cell_type": "code",
      "metadata": {
        "id": "IOEtgT770gCj",
        "outputId": "1495bb13-47c7-4cfe-9135-fea0208975e0",
        "colab": {
          "base_uri": "https://localhost:8080/",
          "height": 34
        }
      },
      "source": [
        "from google.colab import drive\n",
        "drive.mount('/content/drive')\n",
        "data = pd.read_csv('/content/drive/My Drive/datasets/covtype.csv', sep=\";\")"
      ],
      "execution_count": 4,
      "outputs": [
        {
          "output_type": "stream",
          "text": [
            "Mounted at /content/drive\n"
          ],
          "name": "stdout"
        }
      ]
    },
    {
      "cell_type": "markdown",
      "metadata": {
        "id": "ka2VH07doAHr"
      },
      "source": [
        "### 2. Elimine todas as colunas relativas aos atributos categóricos"
      ]
    },
    {
      "cell_type": "code",
      "metadata": {
        "id": "LNW3OsnCoAHs"
      },
      "source": [
        "patterns = ['Soil_Type', 'Wilderness_Area']\n",
        "categorical_columns = [column for column in data.columns if not any(pattern in column for pattern in patterns)]\n",
        "\n",
        "data = data[categorical_columns]"
      ],
      "execution_count": 5,
      "outputs": []
    },
    {
      "cell_type": "code",
      "metadata": {
        "id": "whOxKgOGoAHv",
        "outputId": "bf9ddad8-c88e-4865-a4ef-65bd40948808",
        "colab": {
          "base_uri": "https://localhost:8080/",
          "height": 54
        }
      },
      "source": [
        "print(data.columns.to_list())"
      ],
      "execution_count": 6,
      "outputs": [
        {
          "output_type": "stream",
          "text": [
            "['Elevation', 'Aspect', 'Slope', 'Horizontal_Distance_To_Hydrology', 'Vertical_Distance_To_Hydrology', 'Horizontal_Distance_To_Roadways', 'Hillshade_9am', 'Hillshade_Noon', 'Hillshade_3pm', 'Horizontal_Distance_To_Fire_Points', 'Cover_Type']\n"
          ],
          "name": "stdout"
        }
      ]
    },
    {
      "cell_type": "markdown",
      "metadata": {
        "id": "U5mpGycuoAHz"
      },
      "source": [
        "### 3. Armazene o atributo alvo em uma variável y e os atributos preditores em uma variável X"
      ]
    },
    {
      "cell_type": "code",
      "metadata": {
        "id": "HnLscJDIoAH0"
      },
      "source": [
        "X, Y = data[data.columns.drop('Cover_Type')], data['Cover_Type']"
      ],
      "execution_count": 7,
      "outputs": []
    },
    {
      "cell_type": "markdown",
      "metadata": {
        "id": "N4S7bzLfoAH3"
      },
      "source": [
        "### 4. Efetue uma partição holdout 70/30 com o sklearn, distribuindo os exemplos de maneira aleatória"
      ]
    },
    {
      "cell_type": "code",
      "metadata": {
        "id": "_BNGp-l8oAH3"
      },
      "source": [
        "X_train, X_test, Y_train, Y_test = train_test_split(X, Y, test_size=0.3, shuffle=True)"
      ],
      "execution_count": 8,
      "outputs": []
    },
    {
      "cell_type": "markdown",
      "metadata": {
        "id": "h2dIPYdvoAH7"
      },
      "source": [
        "### 5. Efetue o escalonamento dos atributos"
      ]
    },
    {
      "cell_type": "code",
      "metadata": {
        "id": "YUquFvG4oAH8"
      },
      "source": [
        "X_train_std = (X_train - np.mean(X_train)) / np.std(X_train)\n",
        "X_test_std = (X_test - np.mean(X_train)) / np.std(X_train)"
      ],
      "execution_count": 9,
      "outputs": []
    },
    {
      "cell_type": "markdown",
      "metadata": {
        "id": "ofEsIW70oAH-"
      },
      "source": [
        "### 5. Treine uma rede neural multilayer perceptron para este problema com uma única camada e dez neurônios\n",
        "\n",
        "**5.1 Utilize a função de ativação ReLU**<br>\n",
        "**5.2 Utilize o solver Adam**<br>\n",
        "**5.3 Imprima o passo a passo do treinamento**<br>\n",
        "**5.4 Utilize o número máximo de épocas igual a 300**"
      ]
    },
    {
      "cell_type": "code",
      "metadata": {
        "id": "tU4q-yjloAH_"
      },
      "source": [
        "perceptron = MLPClassifier(hidden_layer_sizes=(10,), activation='relu', solver='adam', verbose=True, max_iter=300)"
      ],
      "execution_count": null,
      "outputs": []
    },
    {
      "cell_type": "code",
      "metadata": {
        "scrolled": false,
        "id": "ngr0Uq7CoAIC",
        "outputId": "56294b2f-26b3-4795-ec37-5620ad247bd3"
      },
      "source": [
        "perceptron.fit(X_train_std, Y_train);"
      ],
      "execution_count": null,
      "outputs": [
        {
          "output_type": "stream",
          "text": [
            "Iteration 1, loss = 0.90057005\n",
            "Iteration 2, loss = 0.71023686\n",
            "Iteration 3, loss = 0.68932878\n",
            "Iteration 4, loss = 0.68048000\n",
            "Iteration 5, loss = 0.67511948\n",
            "Iteration 6, loss = 0.67117152\n",
            "Iteration 7, loss = 0.66887583\n",
            "Iteration 8, loss = 0.66703407\n",
            "Iteration 9, loss = 0.66537890\n",
            "Iteration 10, loss = 0.66365219\n",
            "Iteration 11, loss = 0.66213481\n",
            "Iteration 12, loss = 0.66125390\n",
            "Iteration 13, loss = 0.66058511\n",
            "Iteration 14, loss = 0.66005505\n",
            "Iteration 15, loss = 0.65957553\n",
            "Iteration 16, loss = 0.65922977\n",
            "Iteration 17, loss = 0.65886395\n",
            "Iteration 18, loss = 0.65836718\n",
            "Iteration 19, loss = 0.65792777\n",
            "Iteration 20, loss = 0.65745198\n",
            "Iteration 21, loss = 0.65720102\n",
            "Iteration 22, loss = 0.65686246\n",
            "Iteration 23, loss = 0.65662604\n",
            "Iteration 24, loss = 0.65636932\n",
            "Iteration 25, loss = 0.65620250\n",
            "Iteration 26, loss = 0.65612268\n",
            "Iteration 27, loss = 0.65599110\n",
            "Iteration 28, loss = 0.65585932\n",
            "Iteration 29, loss = 0.65581536\n",
            "Iteration 30, loss = 0.65570859\n",
            "Iteration 31, loss = 0.65569859\n",
            "Iteration 32, loss = 0.65548643\n",
            "Iteration 33, loss = 0.65548323\n",
            "Iteration 34, loss = 0.65546069\n",
            "Iteration 35, loss = 0.65541458\n",
            "Iteration 36, loss = 0.65537321\n",
            "Iteration 37, loss = 0.65530777\n",
            "Iteration 38, loss = 0.65527877\n",
            "Iteration 39, loss = 0.65529669\n",
            "Iteration 40, loss = 0.65514764\n",
            "Iteration 41, loss = 0.65523159\n",
            "Iteration 42, loss = 0.65513537\n",
            "Iteration 43, loss = 0.65518770\n",
            "Iteration 44, loss = 0.65508758\n",
            "Iteration 45, loss = 0.65499091\n",
            "Iteration 46, loss = 0.65504533\n",
            "Iteration 47, loss = 0.65491929\n",
            "Iteration 48, loss = 0.65481577\n",
            "Iteration 49, loss = 0.65463678\n",
            "Iteration 50, loss = 0.65429790\n",
            "Iteration 51, loss = 0.65402033\n",
            "Iteration 52, loss = 0.65363472\n",
            "Iteration 53, loss = 0.65345132\n",
            "Iteration 54, loss = 0.65322284\n",
            "Iteration 55, loss = 0.65314675\n",
            "Iteration 56, loss = 0.65300277\n",
            "Iteration 57, loss = 0.65284351\n",
            "Iteration 58, loss = 0.65275563\n",
            "Iteration 59, loss = 0.65272288\n",
            "Iteration 60, loss = 0.65255439\n",
            "Iteration 61, loss = 0.65249590\n",
            "Iteration 62, loss = 0.65234297\n",
            "Iteration 63, loss = 0.65228054\n",
            "Iteration 64, loss = 0.65219224\n",
            "Iteration 65, loss = 0.65212259\n",
            "Iteration 66, loss = 0.65199535\n",
            "Iteration 67, loss = 0.65200777\n",
            "Iteration 68, loss = 0.65196126\n",
            "Iteration 69, loss = 0.65185054\n",
            "Iteration 70, loss = 0.65174748\n",
            "Iteration 71, loss = 0.65174872\n",
            "Iteration 72, loss = 0.65167823\n",
            "Iteration 73, loss = 0.65157643\n",
            "Iteration 74, loss = 0.65164618\n",
            "Iteration 75, loss = 0.65151353\n",
            "Iteration 76, loss = 0.65143476\n",
            "Iteration 77, loss = 0.65121424\n",
            "Iteration 78, loss = 0.65116968\n",
            "Iteration 79, loss = 0.65108739\n",
            "Iteration 80, loss = 0.65101864\n",
            "Iteration 81, loss = 0.65082884\n",
            "Iteration 82, loss = 0.65091555\n",
            "Iteration 83, loss = 0.65072632\n",
            "Iteration 84, loss = 0.65075052\n",
            "Iteration 85, loss = 0.65061787\n",
            "Iteration 86, loss = 0.65068188\n",
            "Iteration 87, loss = 0.65057862\n",
            "Iteration 88, loss = 0.65041108\n",
            "Iteration 89, loss = 0.65043058\n",
            "Iteration 90, loss = 0.65036356\n",
            "Iteration 91, loss = 0.65035694\n",
            "Iteration 92, loss = 0.65025254\n",
            "Iteration 93, loss = 0.65021330\n",
            "Iteration 94, loss = 0.65012325\n",
            "Iteration 95, loss = 0.65021512\n",
            "Iteration 96, loss = 0.65004660\n",
            "Iteration 97, loss = 0.65005189\n",
            "Iteration 98, loss = 0.65002632\n",
            "Iteration 99, loss = 0.64998893\n",
            "Iteration 100, loss = 0.64982658\n",
            "Iteration 101, loss = 0.64986941\n",
            "Iteration 102, loss = 0.64989243\n",
            "Iteration 103, loss = 0.64972264\n",
            "Iteration 104, loss = 0.64972095\n",
            "Iteration 105, loss = 0.64982729\n",
            "Iteration 106, loss = 0.64969502\n",
            "Iteration 107, loss = 0.64968076\n",
            "Iteration 108, loss = 0.64960693\n",
            "Iteration 109, loss = 0.64960748\n",
            "Iteration 110, loss = 0.64957165\n",
            "Iteration 111, loss = 0.64956848\n",
            "Iteration 112, loss = 0.64952236\n",
            "Iteration 113, loss = 0.64937956\n",
            "Iteration 114, loss = 0.64941458\n",
            "Iteration 115, loss = 0.64945502\n",
            "Iteration 116, loss = 0.64943038\n",
            "Iteration 117, loss = 0.64929499\n",
            "Iteration 118, loss = 0.64931966\n",
            "Iteration 119, loss = 0.64928362\n",
            "Iteration 120, loss = 0.64928417\n",
            "Iteration 121, loss = 0.64922796\n",
            "Iteration 122, loss = 0.64919258\n",
            "Iteration 123, loss = 0.64913708\n",
            "Iteration 124, loss = 0.64918150\n",
            "Training loss did not improve more than tol=0.000100 for 10 consecutive epochs. Stopping.\n"
          ],
          "name": "stdout"
        }
      ]
    },
    {
      "cell_type": "markdown",
      "metadata": {
        "id": "f3413KzCoAIE"
      },
      "source": [
        "### 6. Com o modelo em questão, após o treinamento, apresente:\n",
        "\n",
        "**6.1 Matriz de confusão para o conjunto de teste**"
      ]
    },
    {
      "cell_type": "code",
      "metadata": {
        "id": "5qgNDYR_oAIF"
      },
      "source": [
        "Y_pred_test = perceptron.predict(X_test_std)\n",
        "\n",
        "cm_test = confusion_matrix(Y_test, Y_pred_test)"
      ],
      "execution_count": null,
      "outputs": []
    },
    {
      "cell_type": "code",
      "metadata": {
        "id": "Uc2i_H_woAIH",
        "outputId": "e1b511c6-780d-46cb-b34b-9e81d383d6fa"
      },
      "source": [
        "print(cm_test)"
      ],
      "execution_count": null,
      "outputs": [
        {
          "output_type": "stream",
          "text": [
            "[[44972 17242     7     0    10    13  1045]\n",
            " [15596 67914  1147     0   115   567     8]\n",
            " [    0  1826  7635   235     0  1041     0]\n",
            " [    0     8   413   285     0   110     0]\n",
            " [    8  2538    35     0   222    38     0]\n",
            " [    0  1442  2227    69     0  1438     0]\n",
            " [ 3603    34     0     0     0     0  2461]]\n"
          ],
          "name": "stdout"
        }
      ]
    },
    {
      "cell_type": "markdown",
      "metadata": {
        "id": "d145RjK9oAIK"
      },
      "source": [
        "\n"
      ]
    },
    {
      "cell_type": "markdown",
      "metadata": {
        "id": "VRCPZN4XoAIL"
      },
      "source": [
        "**6.2 Acurácia**"
      ]
    },
    {
      "cell_type": "code",
      "metadata": {
        "id": "ZbQIyWqdoAIM",
        "outputId": "91a58e83-9366-42a4-d582-5dbe79e0d0f7"
      },
      "source": [
        "accuracy = accuracy_score(Y_test, Y_pred_test)\n",
        "print(accuracy)"
      ],
      "execution_count": null,
      "outputs": [
        {
          "output_type": "stream",
          "text": [
            "0.7167190655406646\n"
          ],
          "name": "stdout"
        }
      ]
    },
    {
      "cell_type": "markdown",
      "metadata": {
        "id": "pt7lUUyEoAIQ"
      },
      "source": [
        "**6.3 F-Score**"
      ]
    },
    {
      "cell_type": "code",
      "metadata": {
        "id": "tZgZDaACoAIQ",
        "outputId": "0539a7f8-d921-4f7e-e288-7da88f3ee793"
      },
      "source": [
        "f_score = f1_score(Y_test, Y_pred_test, average='macro')\n",
        "print(f_score)"
      ],
      "execution_count": null,
      "outputs": [
        {
          "output_type": "stream",
          "text": [
            "0.5091072540805867\n"
          ],
          "name": "stdout"
        }
      ]
    },
    {
      "cell_type": "markdown",
      "metadata": {
        "id": "6sW6XNVJoAIU"
      },
      "source": [
        "**6.4 Precisão**"
      ]
    },
    {
      "cell_type": "code",
      "metadata": {
        "id": "3MGsHrisoAIU",
        "outputId": "9a447473-9c6e-4368-8e07-ceda1c942fce"
      },
      "source": [
        "precision = precision_score(Y_test, Y_pred_test, average='macro')\n",
        "print(precision)"
      ],
      "execution_count": null,
      "outputs": [
        {
          "output_type": "stream",
          "text": [
            "0.6264823567208927\n"
          ],
          "name": "stdout"
        }
      ]
    },
    {
      "cell_type": "markdown",
      "metadata": {
        "id": "Xsk9YUURoAIX"
      },
      "source": [
        "**6.5 Revocação**"
      ]
    },
    {
      "cell_type": "code",
      "metadata": {
        "id": "-7SHnb7doAIX",
        "outputId": "1e3575e3-21e4-4ad6-e919-716dc6325def"
      },
      "source": [
        "recall = recall_score(Y_test, Y_pred_test, average='macro')\n",
        "print(recall)"
      ],
      "execution_count": null,
      "outputs": [
        {
          "output_type": "stream",
          "text": [
            "0.47517367219020856\n"
          ],
          "name": "stdout"
        }
      ]
    },
    {
      "cell_type": "markdown",
      "metadata": {
        "id": "kydYaEfWoAIa"
      },
      "source": [
        "### Repita o treinamento da mesma rede anterior sem imprimir o passo a passo (verbose False) por 100 vezes\n",
        "\n",
        "**7.1 Cada uma destas repetições deve ser feita com uma nova partição Holdout**<br>\n",
        "**7.2 Apresente a média e o desvio padrão da acurácia e do F-Score para o conjunto de treino**"
      ]
    },
    {
      "cell_type": "code",
      "metadata": {
        "id": "PFa10S8OoAIb"
      },
      "source": [
        "accuracies, f_scores = [], []\n",
        "\n",
        "for i in range(100):\n",
        "    X_train, X_test, Y_train, Y_test = train_test_split(X, Y, test_size=0.3, shuffle=True)\n",
        "    \n",
        "    X_train_std = (X_train - np.mean(X_train)) / np.std(X_train)\n",
        "    X_test_std = (X_test - np.mean(X_train)) / np.std(X_train)\n",
        "    \n",
        "    perceptron = MLPClassifier(hidden_layer_sizes=(10,), activation='relu', solver='adam', max_iter=300)\n",
        "    perceptron.fit(X_train_std, Y_train)\n",
        "    \n",
        "    Y_pred_train = perceptron.predict(X_train_std)\n",
        "        \n",
        "    accuracy = accuracy_score(Y_train, Y_pred_train)\n",
        "    accuracies.append(accuracy)\n",
        "    \n",
        "    f_score = f1_score(Y_train, Y_pred_train, average='macro')\n",
        "    f_scores.append(f_score)"
      ],
      "execution_count": null,
      "outputs": []
    },
    {
      "cell_type": "code",
      "metadata": {
        "id": "Iyu7uhsNoAId",
        "outputId": "cf26d7c6-6d23-483a-aa4f-55777d2146fc"
      },
      "source": [
        "print(\"Acurácia Média: %.4f\" % np.mean(accuracies))\n",
        "print(\"Desvio Padrão Acurácia: %.4f\" % np.std(accuracies))"
      ],
      "execution_count": null,
      "outputs": [
        {
          "output_type": "stream",
          "text": [
            "Acurácia Média: 0.7181\n",
            "Desvio Padrão Acurácia: 0.0030\n"
          ],
          "name": "stdout"
        }
      ]
    },
    {
      "cell_type": "code",
      "metadata": {
        "id": "8CCWbbnCoAIh",
        "outputId": "9922f887-6102-435e-8b90-cdef139a80d5"
      },
      "source": [
        "print(\"F-Score Médio: %.4f\" % np.mean(f_scores))\n",
        "print(\"Desvio Padrão F-Score: %.4f\" % np.std(f_scores))"
      ],
      "execution_count": null,
      "outputs": [
        {
          "output_type": "stream",
          "text": [
            "F-Score Médio: 0.5158\n",
            "Desvio Padrão F-Score: 0.0198\n"
          ],
          "name": "stdout"
        }
      ]
    },
    {
      "cell_type": "markdown",
      "metadata": {
        "id": "fbKfPSvsoAIj"
      },
      "source": [
        "### Repita por 100 vezes o treinamento desta mesma rede, mas utilizando o otimizador SGD\n",
        "**8.1 Apresente a média e o desvio padrão da acurácia e do F-Score para o conjunto de treino**"
      ]
    },
    {
      "cell_type": "code",
      "metadata": {
        "id": "HRbAJ8mwoAIk"
      },
      "source": [
        "accuracies, f_scores = [], []\n",
        "\n",
        "for i in range(100):\n",
        "    X_train, X_test, Y_train, Y_test = train_test_split(X, Y, test_size=0.3, shuffle=True)\n",
        "    \n",
        "    X_train_std = (X_train - np.mean(X_train)) / np.std(X_train)\n",
        "    X_test_std = (X_test - np.mean(X_train)) / np.std(X_train)\n",
        "    \n",
        "    perceptron = MLPClassifier(hidden_layer_sizes=(10,), activation='relu', solver='sgd', max_iter=300)\n",
        "    perceptron.fit(X_train_std, Y_train)\n",
        "    \n",
        "    Y_pred_train = perceptron.predict(X_train_std)\n",
        "        \n",
        "    accuracy = accuracy_score(Y_train, Y_pred_train)\n",
        "    accuracies.append(accuracy)\n",
        "    \n",
        "    f_score = f1_score(Y_train, Y_pred_train, average='macro')\n",
        "    f_scores.append(f_score)"
      ],
      "execution_count": null,
      "outputs": []
    },
    {
      "cell_type": "code",
      "metadata": {
        "id": "WTKdmJ9toAIm",
        "outputId": "40177cdb-7a9b-40e2-806b-947b8fa65f5b"
      },
      "source": [
        "print(\"Acurácia Média: %.4f\" % np.mean(accuracies))\n",
        "print(\"Desvio Padrão Acurácia: %.4f\" % np.std(accuracies))"
      ],
      "execution_count": null,
      "outputs": [
        {
          "output_type": "stream",
          "text": [
            "Acurácia Média: 0.7148\n",
            "Desvio Padrão Acurácia: 0.0028\n"
          ],
          "name": "stdout"
        }
      ]
    },
    {
      "cell_type": "code",
      "metadata": {
        "id": "nZVUYWd7oAIo",
        "outputId": "33b4ac41-3116-4b11-d114-182aa89a20b9"
      },
      "source": [
        "print(\"F-Score Médio: %.4f\" % np.mean(f_scores))\n",
        "print(\"Desvio Padrão F-Score: %.4f\" % np.std(f_scores))"
      ],
      "execution_count": null,
      "outputs": [
        {
          "output_type": "stream",
          "text": [
            "F-Score Médio: 0.4807\n",
            "Desvio Padrão F-Score: 0.0170\n"
          ],
          "name": "stdout"
        }
      ]
    },
    {
      "cell_type": "markdown",
      "metadata": {
        "id": "4IeMrGbEoAIr"
      },
      "source": [
        "**9. Houve influência da escolha do otimizador no desempenho da rede?**"
      ]
    },
    {
      "cell_type": "markdown",
      "metadata": {
        "id": "2LnB3CDPoAIs"
      },
      "source": [
        "Como pode ser observado, não houve perda significativa de acuáricia, havendo apenas uma leve diminuição no F-Score obtido para a rede treinada com o otimizador SGD. Também foi possível perceber uma melhora no tempo necessário para convergência, quando utilizado este mesmo otimizador, resultando em um tempo de treinamento menor ao do primeiro otimizador."
      ]
    },
    {
      "cell_type": "markdown",
      "metadata": {
        "id": "YyN0uZS0oAIs"
      },
      "source": [
        "## Discussão\n",
        "\n",
        "Nos passos anteriores, você avaliou o desempenho de uma única rede neural que contém os seguintes parâmetros: uma única camada oculta com 10 neurônios e função de ativação ReLU. O otimizador utilizado, quer seja SGD ou ADAM, trata-se do algoritmo para aproximar o gradiente do erro. Neste sentido, a escolha do otimizador é um hiperparâmetro, pois diz respeito a como a rede neural definida previamente atuará \"em tempo de execução\"  durante o processo de treinamento. Também são hiperparâmetros a quantidade de épocas, a taxa de aprendizado inicial, dentre outros.\n",
        "\n",
        "Cabe alientar também que você efetuou o treinamento desta rede por 100 vezes e apresentou os resultados em termos de média +- desvio padrão. Lembre-se que em uma rede neural há a inicialização aleatória de pesos e, em consequência, o desempenho delas está sujeito à uma flutuação estocástica. A execução destas múltiplas vezes faz com que eliminemos algum viés introduzido por uma boa ou má \"sorte\" na escolha de pesos no caso de uma única execução.\n",
        "\n",
        "Você também aprendeu uma estratégia para escalonar os atributos para uma melhor convergência da rede. Utilize-a em todos os treinamentos e testes propostos a seguir.\n",
        "\n",
        "## Propondo Novas Arquiteturas\n",
        "\n",
        "Variando  os parâmetros (uma ou duas camadas ocultas, com diferente números de neurônios em cada uma delas e a função de ativação) e o hiperparâmetros solver (Adam ou SGD) e o número de épocas (100,150 e 200), atenda ao que se pede:\n",
        "\n",
        "1. Proponha 10 arquiteturas distintas de RNAs para o problema em questão, à sua escolha\n",
        "2. Avalie cada uma das arquiteturas perante todos os hiperparâmetros apresentados por 100 vezes\n",
        "3. Como resultado da avaliação, apresente:  \n",
        "    3.1 Top-3 melhores redes no tocante à F-Score e Acurácia  \n",
        "    3.2 Repetição em que houve o melhor desempenho de cada uma dessas redes: ilustre tp, tf, fp e fn  "
      ]
    },
    {
      "cell_type": "markdown",
      "metadata": {
        "id": "-3CDyDFg4VIe"
      },
      "source": [
        "**1. Proponha 10 arquiteturas distintas de RNAs para o problema em questão, à sua escolha**"
      ]
    },
    {
      "cell_type": "code",
      "metadata": {
        "id": "XkdCEfA9oAIu"
      },
      "source": [
        "models = [\n",
        "          MLPClassifier(hidden_layer_sizes=(10, 8), activation='relu', solver='adam', max_iter=100), \n",
        "          MLPClassifier(hidden_layer_sizes=(10, 10), activation='identity', solver='sgd', max_iter=150),\n",
        "          MLPClassifier(hidden_layer_sizes=(8, 8), activation='relu', solver='adam', max_iter=200),\n",
        "          MLPClassifier(hidden_layer_sizes=(6, 6), activation='identity', solver='sgd', max_iter=100),\n",
        "          MLPClassifier(hidden_layer_sizes=(10, 6), activation='relu', solver='adam', max_iter=150),\n",
        "          MLPClassifier(hidden_layer_sizes=(20, 10), activation='identity', solver='sgd', max_iter=200),\n",
        "          MLPClassifier(hidden_layer_sizes=(20, 10), activation='relu', solver='adam', max_iter=200),\n",
        "          MLPClassifier(hidden_layer_sizes=(20, 20), activation='relu', solver='sgd', max_iter=150),\n",
        "          MLPClassifier(hidden_layer_sizes=(10, 5), activation='relu', solver='adam', max_iter=100),\n",
        "          MLPClassifier(hidden_layer_sizes=(10, 5), activation='identity', solver='sgd', max_iter=100),\n",
        "          ]"
      ],
      "execution_count": null,
      "outputs": []
    },
    {
      "cell_type": "markdown",
      "metadata": {
        "id": "erT0YnVc4eGZ"
      },
      "source": [
        "**2. Avalie cada uma das arquiteturas perante todos os hiperparâmetros apresentados por 100 vezes**"
      ]
    },
    {
      "cell_type": "code",
      "metadata": {
        "id": "wXFvjpFB4sz4"
      },
      "source": [
        "accuracies, f_scores, confusions_matrix = [], [], []\n",
        "for i in models:\n",
        "  accuracies.append([])\n",
        "  f_scores.append([])\n",
        "  confusions_matrix.append([])\n",
        "\n",
        "for i in range(len(models)):\n",
        "  for j in range(15):\n",
        "      X_train, X_test, Y_train, Y_test = train_test_split(X, Y, test_size=0.3, shuffle=True)\n",
        "      \n",
        "      X_train_std = (X_train - np.mean(X_train)) / np.std(X_train)\n",
        "      X_test_std = (X_test - np.mean(X_train)) / np.std(X_train)\n",
        "      \n",
        "      perceptron = models[i]\n",
        "      perceptron.fit(X_train_std, Y_train)\n",
        "      \n",
        "      Y_pred_train = perceptron.predict(X_train_std)\n",
        "          \n",
        "      accuracy = accuracy_score(Y_train, Y_pred_train)\n",
        "      accuracies[i].append(accuracy)\n",
        "      \n",
        "      f_score = f1_score(Y_train, Y_pred_train, average='macro')\n",
        "      f_scores[i].append(f_score)\n",
        "\n",
        "      Y_pred_test = perceptron.predict(X_test_std)\n",
        "      cm_test = confusion_matrix(Y_test, Y_pred_test)\n",
        "      confusions_matrix[i].append(cm_test)"
      ],
      "execution_count": null,
      "outputs": []
    },
    {
      "cell_type": "markdown",
      "metadata": {
        "id": "6xZ1SpX64tVe"
      },
      "source": [
        "**3. Como resultado da avaliação, apresente:**\n",
        "\n",
        "**3.1 Top-3 melhores redes no tocante à F-Score e Acurácia**"
      ]
    },
    {
      "cell_type": "code",
      "metadata": {
        "id": "6hDoZn_Mn_pX"
      },
      "source": [
        "# funcao que imprime o modelo\n",
        "def print_model(model):\n",
        "  print(\"hidden_layer_sizes: \"+str(model.hidden_layer_sizes)+\", activation: \"+\n",
        "        str(model.activation)+\", solver: \"+str(model.solver)+\n",
        "        \", max_iter: \"+str(model.max_iter))"
      ],
      "execution_count": 36,
      "outputs": []
    },
    {
      "cell_type": "code",
      "metadata": {
        "id": "E8PummQ84yIH",
        "outputId": "2ff90b79-5458-48b6-c94d-b8171a9cf49c",
        "colab": {
          "base_uri": "https://localhost:8080/",
          "height": 571
        }
      },
      "source": [
        "# Top 3 em relacao a acuracia\n",
        "accuracies_sum = []\n",
        "for i in range(len(models)):\n",
        "  accuracies_sum.append(sum(accuracies[i]))\n",
        "\n",
        "models_sort = np.argsort(accuracies_sum)\n",
        "\n",
        "print(\"-----Top 3 em relação à acurácia-----\")\n",
        "for i in range(3):\n",
        "  print(str(i+1)+'º Lugar: ')\n",
        "  index = models_sort[-3:][2-i]\n",
        "  print_model(models[index])\n",
        "  print(\"Acurácia Média: %.4f\" % np.mean(accuracies[index]))\n",
        "  print(\"Desvio Padrão Acurácia: %.4f\" % np.std(accuracies[index]))\n",
        "  print()\n",
        "\n",
        "# Top 3 em relacao ao F-score\n",
        "f_scores_sum = []\n",
        "for i in range(len(models)):\n",
        "  f_scores_sum.append(sum(f_scores[i]))\n",
        "\n",
        "models_sort = np.argsort(f_scores_sum)\n",
        "\n",
        "print(\"\\n-----Top 3 em relação ao F-score-----\")\n",
        "for i in range(3):\n",
        "  print(str(i+1)+'º Lugar: ')\n",
        "  index = models_sort[-3:][2-i]\n",
        "  print_model(models[index])\n",
        "  print(\"F-Score Média: %.4f\" % np.mean(f_scores[index]))\n",
        "  print(\"Desvio Padrão F-Score: %.4f\" % np.std(f_scores[index]))\n",
        "  print()"
      ],
      "execution_count": null,
      "outputs": [
        {
          "output_type": "stream",
          "text": [
            "-----Top 3 em relação à acurácia-----\n",
            "1º Lugar: \n",
            "hidden_layer_sizes: (20, 20), activation: relu, solver: sgd, max_iter: 150\n",
            "Acurácia Média: 0.7611\n",
            "Desvio Padrão Acurácia: 0.0029\n",
            "\n",
            "2º Lugar: \n",
            "hidden_layer_sizes: (20, 10), activation: relu, solver: adam, max_iter: 200\n",
            "Acurácia Média: 0.7542\n",
            "Desvio Padrão Acurácia: 0.0028\n",
            "\n",
            "3º Lugar: \n",
            "hidden_layer_sizes: (10, 8), activation: relu, solver: adam, max_iter: 100\n",
            "Acurácia Média: 0.7279\n",
            "Desvio Padrão Acurácia: 0.0034\n",
            "\n",
            "\n",
            "-----Top 3 em relação ao F-score-----\n",
            "1º Lugar: \n",
            "hidden_layer_sizes: (20, 10), activation: relu, solver: adam, max_iter: 200\n",
            "F-Score Média: 0.6085\n",
            "Desvio Padrão F-Score: 0.0138\n",
            "\n",
            "2º Lugar: \n",
            "hidden_layer_sizes: (20, 20), activation: relu, solver: sgd, max_iter: 150\n",
            "F-Score Média: 0.5989\n",
            "Desvio Padrão F-Score: 0.0155\n",
            "\n",
            "3º Lugar: \n",
            "hidden_layer_sizes: (10, 8), activation: relu, solver: adam, max_iter: 100\n",
            "F-Score Média: 0.5473\n",
            "Desvio Padrão F-Score: 0.0169\n",
            "\n"
          ],
          "name": "stdout"
        }
      ]
    },
    {
      "cell_type": "markdown",
      "metadata": {
        "id": "2-hwehEl4ypk"
      },
      "source": [
        "**3.2 Repetição em que houve o melhor desempenho de cada uma dessas redes: ilustre tp, tf, fp e fn**"
      ]
    },
    {
      "cell_type": "code",
      "metadata": {
        "id": "bi4-J5Ix44b6",
        "outputId": "b6a6becc-3e1c-43fd-a4cf-f9a8b65d5bc6",
        "colab": {
          "base_uri": "https://localhost:8080/",
          "height": 1000
        }
      },
      "source": [
        "for i in range(len(models)):\n",
        "  index = accuracies[i].index(max(accuracies[i]))\n",
        "  cm = confusions_matrix[i][index]\n",
        "\n",
        "  FP = cm.sum(axis=0) - np.diag(cm)\n",
        "  FN = cm.sum(axis=1) - np.diag(cm)\n",
        "  TP = np.diag(cm)\n",
        "  TN = cm.sum() - (FP + FN + TP)\n",
        "\n",
        "  print(str(i+1)+\"º modelo\")\n",
        "  print_model(models[i])\n",
        "  print(\"FP: \" + str(FP))\n",
        "  print(\"FN: \" + str(FN))\n",
        "  print(\"TP: \" + str(TP))\n",
        "  print(\"TN: \" + str(TN))\n",
        "  print()"
      ],
      "execution_count": null,
      "outputs": [
        {
          "output_type": "stream",
          "text": [
            "1º modelo\n",
            "hidden_layer_sizes: (10, 8), activation: relu, solver: adam, max_iter: 100\n",
            "FP: [17293 22452  3558   372   131  1806  1202]\n",
            "FN: [18146 16743  2992   374  2472  3606  2481]\n",
            "TP: [45419 68091  7746   438   376  1635  3785]\n",
            "TN: [ 93446  67018 160008 173120 171325 167257 166836]\n",
            "\n",
            "2º modelo\n",
            "hidden_layer_sizes: (10, 10), activation: identity, solver: sgd, max_iter: 150\n",
            "FP: [21005 25122  4733   195     0   987  1123]\n",
            "FN: [19510 18010  2895   669  2880  4609  4592]\n",
            "TP: [43915 67031  7720   199     0   694  1580]\n",
            "TN: [ 89874  64141 158956 173241 171424 168014 167009]\n",
            "\n",
            "3º modelo\n",
            "hidden_layer_sizes: (8, 8), activation: relu, solver: adam, max_iter: 200\n",
            "FP: [18411 21242  3327   315    22  1957   949]\n",
            "FN: [16353 17510  3090   417  2747  3455  2651]\n",
            "TP: [47380 67364  7649   399    81  1674  3534]\n",
            "TN: [ 92160  68188 160238 173173 171454 167218 167170]\n",
            "\n",
            "4º modelo\n",
            "hidden_layer_sizes: (6, 6), activation: identity, solver: sgd, max_iter: 100\n",
            "FP: [20964 24313  4994   136     0   845  1287]\n",
            "FN: [19076 18223  2714   738  2880  4616  4292]\n",
            "TP: [44425 66807  7916   114     0   681  1822]\n",
            "TN: [ 89839  64961 158680 173316 171424 168162 166903]\n",
            "\n",
            "5º modelo\n",
            "hidden_layer_sizes: (10, 6), activation: relu, solver: adam, max_iter: 150\n",
            "FP: [18403 22647  3712   239   147  1305   778]\n",
            "FN: [17148 17080  2999   502  2522  4085  2895]\n",
            "TP: [46075 68146  7782   288   356  1140  3286]\n",
            "TN: [ 92678  66431 159811 173275 171279 167774 167345]\n",
            "\n",
            "6º modelo\n",
            "hidden_layer_sizes: (20, 10), activation: identity, solver: sgd, max_iter: 200\n",
            "FP: [20247 24872  4788   120     0   934  1643]\n",
            "FN: [19938 17836  2852   681  2779  4555  3963]\n",
            "TP: [43733 67202  7872   136     0   669  2088]\n",
            "TN: [ 90386  64394 158792 173367 171525 168146 166610]\n",
            "\n",
            "7º modelo\n",
            "hidden_layer_sizes: (20, 10), activation: relu, solver: adam, max_iter: 200\n",
            "FP: [17050 18923  4118   117    83  1208   860]\n",
            "FN: [14902 16484  2011   367  2476  3808  2311]\n",
            "TP: [48748 68558  8608   418   366  1306  3941]\n",
            "TN: [ 93604  70339 159567 173402 171379 167982 167192]\n",
            "\n",
            "8º modelo\n",
            "hidden_layer_sizes: (20, 20), activation: relu, solver: sgd, max_iter: 150\n",
            "FP: [16015 19121  4309    87   171   804   687]\n",
            "FN: [14176 14979  2242   573  2441  4197  2586]\n",
            "TP: [49399 69772  8530   247   520  1056  3586]\n",
            "TN: [ 94714  70432 159223 173397 171172 168247 167445]\n",
            "\n",
            "9º modelo\n",
            "hidden_layer_sizes: (10, 5), activation: relu, solver: adam, max_iter: 100\n",
            "FP: [17760 22175  3705   137   377  2069  1089]\n",
            "FN: [17854 16437  3113   564  2374  3589  3381]\n",
            "TP: [45596 68704  7663   288   469  1562  2710]\n",
            "TN: [ 93094  66988 159823 173315 171084 167084 167124]\n",
            "\n",
            "10º modelo\n",
            "hidden_layer_sizes: (10, 5), activation: identity, solver: sgd, max_iter: 100\n",
            "FP: [20974 24777  4831    68     0   846  1297]\n",
            "FN: [19218 17996  2962   832  2831  4566  4388]\n",
            "TP: [44460 66788  7751    22     0   616  1874]\n",
            "TN: [ 89652  64743 158760 173382 171473 168276 166745]\n",
            "\n"
          ],
          "name": "stdout"
        }
      ]
    },
    {
      "cell_type": "markdown",
      "metadata": {
        "id": "61uyCEU-oAIx"
      },
      "source": [
        "## Estimando o número de neurônios\n",
        "\n",
        "Um dos problemas de pesquisa com redes neurais artificiais consiste na determinação do número de neurônios em sua arquitetura. Embora não seja possível definir a priori qual rede neural é adequada para um problema, pois isto só é possível mediante uma busca exaustiva, há regras na literatura que sugerem o número de neurônios escondidos, tal como a regra da Pirâmide Geométrica, dada a seguir:\n",
        "\n",
        "$$N_h = \\alpha \\cdot \\sqrt{N_i \\cdot N_o},$$\n",
        "\n",
        "em que $N_h$ é o número de neurônios ocultos (a serem distribuídos em uma ou duas camadas ocultas), $N_i$ é o número de neurônios na camada de entrada e $N_o$ é o número de neurônios na camada de saída. \n",
        "\n",
        "1. Consulte a documentação da classe MLPClassifier (disponível em https://scikit-learn.org/stable/modules/generated/sklearn.neural_network.MLPClassifier.html) e obtenha os valores de $N_i$ e $N_h$.\n",
        "2. Teste os valores de $\\alpha$ como sendo iguais a $0.5$, $2$ e $3$.\n",
        "3. Proponha pelo menos 30 redes neurais segundo a regra da pirâmide geométrica e teste-as nos mesmos termos estabelecidos anterioremente  (solver, épocas, etc.)  \n",
        "    3.1 Apresente as top-3 melhores redes no tocante à F-Score e Acurácia  "
      ]
    },
    {
      "cell_type": "markdown",
      "metadata": {
        "id": "QsVInen5TPDn"
      },
      "source": [
        "**Consulte a documentação da classe MLPClassifier (disponível em https://scikit-learn.org/stable/modules/generated/sklearn.neural_network.MLPClassifier.html) e obtenha os valores de  $N_i$  e  $N_o$ .**"
      ]
    },
    {
      "cell_type": "code",
      "metadata": {
        "id": "2rmfWQgboAIx"
      },
      "source": [
        "perceptron = MLPClassifier(hidden_layer_sizes=(10,), activation='relu', solver='adam', max_iter=50)\n",
        "perceptron.fit(X_train_std, Y_train)"
      ],
      "execution_count": null,
      "outputs": []
    },
    {
      "cell_type": "code",
      "metadata": {
        "id": "rI9zCfMsWDW9",
        "outputId": "d27235db-3c28-4aad-d9f7-2a978d08a71e",
        "colab": {
          "base_uri": "https://localhost:8080/",
          "height": 51
        }
      },
      "source": [
        "n_o = perceptron.n_outputs_\n",
        "n_i = X_train_std.shape[1]\n",
        "\n",
        "print(\"Ni é igual a \"+str(n_i))\n",
        "print(\"No é igual a \"+str(n_o))"
      ],
      "execution_count": 27,
      "outputs": [
        {
          "output_type": "stream",
          "text": [
            "Ni é igual a 10\n",
            "No é igual a 7\n"
          ],
          "name": "stdout"
        }
      ]
    },
    {
      "cell_type": "markdown",
      "metadata": {
        "id": "tgH9C1luTWuN"
      },
      "source": [
        "**Teste os valores de $\\alpha$  como sendo iguais a  0.5 ,  2  e  3.**"
      ]
    },
    {
      "cell_type": "code",
      "metadata": {
        "id": "zyvSIVisThY7",
        "outputId": "8dc9898e-e368-44b6-dd9e-1878d4d0443c",
        "colab": {
          "base_uri": "https://localhost:8080/",
          "height": 68
        }
      },
      "source": [
        "def get_n_h(a, n_i, n_o):\n",
        "  return a*(n_i*n_o)**(1/2)\n",
        "\n",
        "n_h05 = get_n_h(.5, n_i, n_o)\n",
        "n_h2 = get_n_h(2, n_i, n_o)\n",
        "n_h3 = get_n_h(3, n_i, n_o)\n",
        "print(\"Com alpha = 0.5, temos: \"+str(n_h05))\n",
        "print(\"Com alpha = 2, temos: \"+str(n_h2))\n",
        "print(\"Com alpha = 3, temos: \"+str(n_h3))"
      ],
      "execution_count": 29,
      "outputs": [
        {
          "output_type": "stream",
          "text": [
            "Com alpha = 0.5, temos: 4.183300132670378\n",
            "Com alpha = 2, temos: 16.73320053068151\n",
            "Com alpha = 3, temos: 25.099800796022265\n"
          ],
          "name": "stdout"
        }
      ]
    },
    {
      "cell_type": "markdown",
      "metadata": {
        "id": "aOlMRGypThvN"
      },
      "source": [
        "**3. Proponha pelo menos 30 redes neurais segundo a regra da pirâmide geométrica e teste-as nos mesmos termos estabelecidos anterioremente (solver, épocas, etc.)**"
      ]
    },
    {
      "cell_type": "code",
      "metadata": {
        "id": "xCH-87t-TpT5"
      },
      "source": [
        "models = [\n",
        "          MLPClassifier(hidden_layer_sizes=(12, 8), activation='relu', solver='adam', max_iter=100), \n",
        "          MLPClassifier(hidden_layer_sizes=(20, 5), activation='identity', solver='sgd', max_iter=150),\n",
        "          MLPClassifier(hidden_layer_sizes=(15, 10), activation='relu', solver='sgd', max_iter=200),\n",
        "          MLPClassifier(hidden_layer_sizes=(16, 9), activation='identity', solver='sgd', max_iter=100),\n",
        "          MLPClassifier(hidden_layer_sizes=(16, 8), activation='relu', solver='adam', max_iter=150),\n",
        "          MLPClassifier(hidden_layer_sizes=(10), activation='identity', solver='sgd', max_iter=200),\n",
        "          MLPClassifier(hidden_layer_sizes=(25), activation='relu', solver='sgd', max_iter=200),\n",
        "          MLPClassifier(hidden_layer_sizes=(4), activation='relu', solver='sgd', max_iter=150),\n",
        "          MLPClassifier(hidden_layer_sizes=(4, 4), activation='relu', solver='adam', max_iter=100),\n",
        "          MLPClassifier(hidden_layer_sizes=(8, 4), activation='identity', solver='sgd', max_iter=100),\n",
        "          MLPClassifier(hidden_layer_sizes=(20, 4), activation='relu', solver='sgd', max_iter=100), \n",
        "          MLPClassifier(hidden_layer_sizes=(16, 7), activation='identity', solver='sgd', max_iter=150),\n",
        "          MLPClassifier(hidden_layer_sizes=(16, 4), activation='relu', solver='sgd', max_iter=200),\n",
        "          MLPClassifier(hidden_layer_sizes=(5, 5), activation='identity', solver='sgd', max_iter=100),\n",
        "          MLPClassifier(hidden_layer_sizes=(10, 6), activation='relu', solver='sgd', max_iter=150),\n",
        "          MLPClassifier(hidden_layer_sizes=(14, 9), activation='identity', solver='sgd', max_iter=200),\n",
        "          MLPClassifier(hidden_layer_sizes=(20, 4), activation='relu', solver='adam', max_iter=200),\n",
        "          MLPClassifier(hidden_layer_sizes=(24, 1), activation='relu', solver='sgd', max_iter=150),\n",
        "          MLPClassifier(hidden_layer_sizes=(24), activation='relu', solver='sgd', max_iter=100),\n",
        "          MLPClassifier(hidden_layer_sizes=(20), activation='identity', solver='sgd', max_iter=100),\n",
        "          MLPClassifier(hidden_layer_sizes=(14), activation='relu', solver='adam', max_iter=100), \n",
        "          MLPClassifier(hidden_layer_sizes=(7), activation='identity', solver='sgd', max_iter=150),\n",
        "          MLPClassifier(hidden_layer_sizes=(14, 8), activation='relu', solver='sgd', max_iter=200),\n",
        "          MLPClassifier(hidden_layer_sizes=(12, 4), activation='identity', solver='sgd', max_iter=100),\n",
        "          MLPClassifier(hidden_layer_sizes=(10, 15), activation='relu', solver='sgd', max_iter=150),\n",
        "          MLPClassifier(hidden_layer_sizes=(5, 20), activation='identity', solver='sgd', max_iter=200),\n",
        "          MLPClassifier(hidden_layer_sizes=(18, 7), activation='relu', solver='sgd', max_iter=200),\n",
        "          MLPClassifier(hidden_layer_sizes=(7, 18), activation='relu', solver='sgd', max_iter=150),\n",
        "          MLPClassifier(hidden_layer_sizes=(16), activation='relu', solver='adam', max_iter=100),\n",
        "          MLPClassifier(hidden_layer_sizes=(4, 21), activation='identity', solver='sgd', max_iter=100),\n",
        "          ]"
      ],
      "execution_count": 39,
      "outputs": []
    },
    {
      "cell_type": "code",
      "metadata": {
        "id": "l5hy8Hn1kdyh"
      },
      "source": [
        "accuracies, f_scores, confusions_matrix = [], [], []\n",
        "\n",
        "for i in range(len(models)):\n",
        "  X_train, X_test, Y_train, Y_test = train_test_split(X, Y, test_size=0.3, shuffle=True)\n",
        "    \n",
        "  X_train_std = (X_train - np.mean(X_train)) / np.std(X_train)\n",
        "  X_test_std = (X_test - np.mean(X_train)) / np.std(X_train)\n",
        "  \n",
        "  perceptron = models[i]\n",
        "  perceptron.fit(X_train_std, Y_train)\n",
        "  \n",
        "  Y_pred_train = perceptron.predict(X_train_std)\n",
        "      \n",
        "  accuracy = accuracy_score(Y_train, Y_pred_train)\n",
        "  accuracies.append(accuracy)\n",
        "  \n",
        "  f_score = f1_score(Y_train, Y_pred_train, average='macro')\n",
        "  f_scores.append(f_score)\n",
        "\n",
        "  Y_pred_test = perceptron.predict(X_test_std)\n",
        "  cm_test = confusion_matrix(Y_test, Y_pred_test)\n",
        "  confusions_matrix.append(cm_test)"
      ],
      "execution_count": null,
      "outputs": []
    },
    {
      "cell_type": "markdown",
      "metadata": {
        "id": "wnXCB9mHTpoX"
      },
      "source": [
        "**3.1 Apresente as top-3 melhores redes no tocante à F-Score e Acurácia**"
      ]
    },
    {
      "cell_type": "code",
      "metadata": {
        "id": "f6ZeGBdQTrgb",
        "outputId": "7f348186-c35e-4ec4-e1a5-518a280f252a",
        "colab": {
          "base_uri": "https://localhost:8080/",
          "height": 476
        }
      },
      "source": [
        "# Top 3 em relacao a acuracia\n",
        "models_sort = np.argsort(accuracies)\n",
        "\n",
        "print(\"-----Top 3 em relação à acurácia-----\")\n",
        "for i in range(3):\n",
        "  print(str(i+1)+'º Lugar: ')\n",
        "  index = models_sort[-3:][2-i]\n",
        "  print_model(models[index])\n",
        "  print(\"Acurácia: %.4f\" % (accuracies[index]))\n",
        "  print()\n",
        "\n",
        "# Top 3 em relacao ao F-score\n",
        "f_scores_sum = []\n",
        "for i in range(len(models)):\n",
        "  f_scores_sum.append(f_scores[i])\n",
        "\n",
        "models_sort = np.argsort(f_scores_sum)\n",
        "\n",
        "print(\"\\n-----Top 3 em relação ao F-score-----\")\n",
        "for i in range(3):\n",
        "  print(str(i+1)+'º Lugar: ')\n",
        "  index = models_sort[-3:][2-i]\n",
        "  print_model(models[index])\n",
        "  print(\"F-Score: %.4f\" % (f_scores[index]))\n",
        "  print()"
      ],
      "execution_count": 43,
      "outputs": [
        {
          "output_type": "stream",
          "text": [
            "-----Top 3 em relação à acurácia-----\n",
            "1º Lugar: \n",
            "hidden_layer_sizes: (16, 8), activation: relu, solver: adam, max_iter: 150\n",
            "Acurácia: 0.7443\n",
            "\n",
            "2º Lugar: \n",
            "hidden_layer_sizes: 25, activation: relu, solver: sgd, max_iter: 200\n",
            "Acurácia: 0.7364\n",
            "\n",
            "3º Lugar: \n",
            "hidden_layer_sizes: (14, 8), activation: relu, solver: sgd, max_iter: 200\n",
            "Acurácia: 0.7362\n",
            "\n",
            "\n",
            "-----Top 3 em relação ao F-score-----\n",
            "1º Lugar: \n",
            "hidden_layer_sizes: (16, 8), activation: relu, solver: adam, max_iter: 150\n",
            "F-Score: 0.6044\n",
            "\n",
            "2º Lugar: \n",
            "hidden_layer_sizes: (15, 10), activation: relu, solver: sgd, max_iter: 200\n",
            "F-Score: 0.5682\n",
            "\n",
            "3º Lugar: \n",
            "hidden_layer_sizes: (12, 8), activation: relu, solver: adam, max_iter: 100\n",
            "F-Score: 0.5677\n",
            "\n"
          ],
          "name": "stdout"
        }
      ]
    },
    {
      "cell_type": "markdown",
      "metadata": {
        "id": "cZv_bThgoAIz"
      },
      "source": [
        "## Testando as Redes Neurais com Atributos Categóricos\n",
        "\n",
        "1. Considere as 6 redes neurais obtidas nos dois top-3 anteriores (arquiteturas próprias e regra da pirâmide geométrica)\n",
        "2. Com todos os atributos preditores da base de dados original, incluindo os categóricos, treine e teste estas mesmas redes por 100 repetições  \n",
        "    2.1 Considere o melhor otimizador para cada uma delas  \n",
        "    2.2 Faça uso de 200 épocas para treinamento  \n",
        "    2.2 Apresente os resultados de acurácia e F-Score em termos da média +- dp para cada arquitetura\n",
        "3. Apresente o gráfico boxplot para o F-Score das 6 arquiteturas perante as 100 repetições"
      ]
    },
    {
      "cell_type": "code",
      "metadata": {
        "id": "5VSX8DZDoAI0"
      },
      "source": [
        ""
      ],
      "execution_count": null,
      "outputs": []
    },
    {
      "cell_type": "markdown",
      "metadata": {
        "id": "ogFxO7pNoAI3"
      },
      "source": [
        "## Considerações Parciais\n",
        "\n",
        "1. É possível identificar uma rede com desempenho superior às demais?\n",
        "2. Qual estratégia mostrou-se mais producente para a obtenção de boas arquiteturas (Estratégia Própria ou Pirâmide Geométrica)? Por quê?\n",
        "3. Considerar os atributos categóricos trouxe melhorias? Justifique.\n",
        "4. Um número maior de épocas trouxe melhorias?\n",
        "5. Qual a maior dificuldade de resolução do problema proposto perante as RNAs?"
      ]
    },
    {
      "cell_type": "code",
      "metadata": {
        "id": "hq-MsUt6oAI3"
      },
      "source": [
        ""
      ],
      "execution_count": null,
      "outputs": []
    }
  ]
}