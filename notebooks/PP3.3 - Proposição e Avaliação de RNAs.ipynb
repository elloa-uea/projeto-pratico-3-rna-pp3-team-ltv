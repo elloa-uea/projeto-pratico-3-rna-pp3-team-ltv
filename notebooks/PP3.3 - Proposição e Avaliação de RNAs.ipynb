{
  "nbformat": 4,
  "nbformat_minor": 0,
  "metadata": {
    "kernelspec": {
      "name": "Python 3.7.9 64-bit",
      "display_name": "Python 3.7.9 64-bit",
      "metadata": {
        "interpreter": {
          "hash": "c2438c4c25557092959913a5de2cb4e0673a1bf4e9ef928d0f7308eec5b63781"
        }
      }
    },
    "language_info": {
      "codemirror_mode": {
        "name": "ipython",
        "version": 3
      },
      "file_extension": ".py",
      "mimetype": "text/x-python",
      "name": "python",
      "nbconvert_exporter": "python",
      "pygments_lexer": "ipython3",
      "version": "3.7.9-final"
    },
    "colab": {
      "name": "PP3.3 - Proposição e Avaliação de RNAs.ipynb",
      "provenance": [],
      "toc_visible": true
    }
  },
  "cells": [
    {
      "cell_type": "markdown",
      "metadata": {
        "id": "msDmjAkyoAHe"
      },
      "source": [
        "## Redes Neurais Artificiais 2020.1\n",
        "\n",
        "**Disciplina**: Redes Neurais Artificiais 2020.1  \n",
        "**Professora**: Elloá B. Guedes (ebgcosta@uea.edu.br)  \n",
        "**Github**: http://github.com/elloa  \n",
        "\n",
        "### Alunos\n",
        "\n",
        "Leonardo Monteiro Neres de Lima - 1615080320 (lmndl.eng16@uea.edu.br) <br>\n",
        "Thatielen Oliveira Pereira - 1515080618 (top.eng@uea.edu.br) <br>\n",
        "Vyctor Lima Negreiros - 1615080372 (vln.eng16@uea.edu.br) <br>\n",
        "\n",
        "Levando em conta a base de dados **_Forest Cover Type_**, esta terceira parte do Projeto Prático 3 diz respeito à proposição e avaliação de múltiplas redes neurais artificiais do tipo feedforward multilayer perceptron para o problema da classificação multi-classe da cobertura florestal em uma área do Roosevelt National Forest.\n",
        "\n",
        "## Testando Redes Neurais sem os Atributos Categórios\n",
        "\n",
        "1. Abra a base de dados em questão\n",
        "2. Elimine todas as colunas relativas aos atributos categóricos\n",
        "3. Armazene o atributo alvo em uma variável y e os atributos preditores em uma variável X\n",
        "4. Efetue uma partição holdout 70/30 com o sklearn, distribuindo os exemplos de maneira aleatória\n",
        "5. Efetue o escalonamento dos atributos\n",
        "\n",
        "### Escalonando os atributos\n",
        "\n",
        "O treinamento de uma rede neural artificial é mais eficiente quando os valores que lhes são fornecidos como entrada são pequenos, pois isto favorece a convergência. Isto é feito escalonando-se todos os atributos para o intervalo [0,1], mas precisa ser feito de maneira cautelosa, para que informações do conjunto de teste não sejam fornecidas no treinamento.\n",
        "\n",
        "Há duas estratégias para tal escalonamento: normalização e padronização. Ambas possuem características particulares, vantagens e limitações, como é possível ver aqui: https://www.analyticsvidhya.com/blog/2020/04/feature-scaling-machine-learning-normalization-standardization/\n",
        "\n",
        "\n",
        "No nosso caso, vamos usar a padronização. Assim, com os atributos preditores do treinamento, isto é, X_train, deve-se subtrair a média e dividir pelo desvio padrão:\n",
        "\n",
        "X_train_std = (X_train - np.mean(X_train))/np.std(X_train)\n",
        "\n",
        "Em seguida, o mesmo deve ser feito com os atributos preditores do conjunto de testes, mas com padronização relativa ao conjunto de treinamento:\n",
        "\n",
        "X_test_std = (X_test - np.mean(X_train))/np.std(X_train)\n",
        "\n",
        "Se todo o conjunto X for utilizado na padronização, a rede neural receberá informações do conjunto de teste por meio da média e variância utilizada para preparar os dados de treinamento, o que não é desejável.\n",
        "\n",
        "\n",
        "### Continuando\n",
        "\n",
        "5. Treine uma rede neural multilayer perceptron para este problema com uma única camada e dez neurônios  \n",
        "    5.1 Utilize a função de ativação ReLU  \n",
        "    5.2 Utilize o solver Adam    \n",
        "    5.3 Imprima o passo a passo do treinamento    \n",
        "    5.4 Utilize o número máximo de épocas igual a 300  \n",
        "6. Com o modelo em questão, após o treinamento, apresente:  \n",
        "    6.1 Matriz de confusão para o conjunto de teste  \n",
        "    6.2 Acurácia  \n",
        "    6.3 F-Score  \n",
        "    6.4 Precisão  \n",
        "    6.5 Revocação  \n",
        "7. Repita o treinamento da mesma rede anterior sem imprimir o passo a passo (verbose False) por 100 vezes  \n",
        "    7.1 Cada uma destas repetições deve ser feita com uma nova partição Holdout  \n",
        "    7.2 Apresente a média e o desvio padrão da acurácia e do F-Score para o conjunto de treino  \n",
        "8. Repita por 100 vezes o treinamento desta mesma rede, mas utilizando o otimizador SGD  \n",
        "    8.1 Apresente a média e o desvio padrão da acurácia e do F-Score para o conjunto de treino  \n",
        "9. Houve influência da escolha do otimizador no desempenho da rede?"
      ]
    },
    {
      "cell_type": "code",
      "metadata": {
        "id": "OME8DkHyoAHf"
      },
      "source": [
        "import numpy as np, pandas as pd, matplotlib.pyplot as plt, os\n",
        "from sklearn.model_selection import train_test_split\n",
        "from sklearn.neural_network import MLPClassifier\n",
        "from sklearn.metrics import confusion_matrix, accuracy_score, f1_score, precision_score, recall_score "
      ],
      "execution_count": 2,
      "outputs": []
    },
    {
      "cell_type": "markdown",
      "metadata": {
        "id": "fVTxQgfloAHl"
      },
      "source": [
        "## Testando Redes Neurais sem os Atributos Categórios"
      ]
    },
    {
      "cell_type": "markdown",
      "metadata": {
        "id": "lfrvJ1DeoAHl"
      },
      "source": [
        "### Testando Redes Neurais sem os Atributos Categórios"
      ]
    },
    {
      "cell_type": "markdown",
      "metadata": {
        "id": "cOPzEH27oAHm"
      },
      "source": [
        "### 1. Abra a base de dados em questão"
      ]
    },
    {
      "cell_type": "code",
      "metadata": {
        "id": "u_xLi8t_oAHn"
      },
      "source": [
        "data = pd.read_csv('../datasets/covtype.csv', sep=\";\")"
      ],
      "execution_count": 15,
      "outputs": []
    },
    {
      "cell_type": "code",
      "metadata": {
        "id": "IOEtgT770gCj",
        "outputId": "1495bb13-47c7-4cfe-9135-fea0208975e0",
        "colab": {
          "base_uri": "https://localhost:8080/",
          "height": 34
        }
      },
      "source": [
        "from google.colab import drive\n",
        "drive.mount('/content/drive')\n",
        "data = pd.read_csv('/content/drive/My Drive/datasets/covtype.csv', sep=\";\")"
      ],
      "execution_count": 4,
      "outputs": [
        {
          "output_type": "stream",
          "text": [
            "Mounted at /content/drive\n"
          ],
          "name": "stdout"
        }
      ]
    },
    {
      "cell_type": "markdown",
      "metadata": {
        "id": "ka2VH07doAHr"
      },
      "source": [
        "### 2. Elimine todas as colunas relativas aos atributos categóricos"
      ]
    },
    {
      "cell_type": "code",
      "metadata": {
        "id": "LNW3OsnCoAHs"
      },
      "source": [
        "patterns = ['Soil_Type', 'Wilderness_Area']\n",
        "categorical_columns = [column for column in data.columns if not any(pattern in column for pattern in patterns)]\n",
        "\n",
        "data = data[categorical_columns]"
      ],
      "execution_count": 18,
      "outputs": []
    },
    {
      "cell_type": "code",
      "metadata": {
        "id": "whOxKgOGoAHv",
        "outputId": "bf9ddad8-c88e-4865-a4ef-65bd40948808",
        "colab": {
          "base_uri": "https://localhost:8080/",
          "height": 54
        }
      },
      "source": [
        "print(data.columns.to_list())"
      ],
      "execution_count": 19,
      "outputs": [
        {
          "output_type": "stream",
          "name": "stdout",
          "text": [
            "['Elevation', 'Aspect', 'Slope', 'Horizontal_Distance_To_Hydrology', 'Vertical_Distance_To_Hydrology', 'Horizontal_Distance_To_Roadways', 'Hillshade_9am', 'Hillshade_Noon', 'Hillshade_3pm', 'Horizontal_Distance_To_Fire_Points', 'Cover_Type']\n"
          ]
        }
      ]
    },
    {
      "cell_type": "markdown",
      "metadata": {
        "id": "U5mpGycuoAHz"
      },
      "source": [
        "### 3. Armazene o atributo alvo em uma variável y e os atributos preditores em uma variável X"
      ]
    },
    {
      "cell_type": "code",
      "metadata": {
        "id": "HnLscJDIoAH0"
      },
      "source": [
        "X, Y = data[data.columns.drop('Cover_Type')], data['Cover_Type']"
      ],
      "execution_count": 20,
      "outputs": []
    },
    {
      "cell_type": "markdown",
      "metadata": {
        "id": "N4S7bzLfoAH3"
      },
      "source": [
        "### 4. Efetue uma partição holdout 70/30 com o sklearn, distribuindo os exemplos de maneira aleatória"
      ]
    },
    {
      "cell_type": "code",
      "metadata": {
        "id": "_BNGp-l8oAH3"
      },
      "source": [
        "X_train, X_test, Y_train, Y_test = train_test_split(X, Y, test_size=0.3, shuffle=True)"
      ],
      "execution_count": 8,
      "outputs": []
    },
    {
      "cell_type": "markdown",
      "metadata": {
        "id": "h2dIPYdvoAH7"
      },
      "source": [
        "### 5. Efetue o escalonamento dos atributos"
      ]
    },
    {
      "cell_type": "code",
      "metadata": {
        "id": "YUquFvG4oAH8"
      },
      "source": [
        "X_train_std = (X_train - np.mean(X_train)) / np.std(X_train)\n",
        "X_test_std = (X_test - np.mean(X_train)) / np.std(X_train)"
      ],
      "execution_count": 9,
      "outputs": []
    },
    {
      "cell_type": "markdown",
      "metadata": {
        "id": "ofEsIW70oAH-"
      },
      "source": [
        "### 5. Treine uma rede neural multilayer perceptron para este problema com uma única camada e dez neurônios\n",
        "\n",
        "**5.1 Utilize a função de ativação ReLU**<br>\n",
        "**5.2 Utilize o solver Adam**<br>\n",
        "**5.3 Imprima o passo a passo do treinamento**<br>\n",
        "**5.4 Utilize o número máximo de épocas igual a 300**"
      ]
    },
    {
      "cell_type": "code",
      "metadata": {
        "id": "tU4q-yjloAH_"
      },
      "source": [
        "perceptron = MLPClassifier(hidden_layer_sizes=(10,), activation='relu', solver='adam', verbose=True, max_iter=300)"
      ],
      "execution_count": null,
      "outputs": []
    },
    {
      "cell_type": "code",
      "metadata": {
        "scrolled": false,
        "id": "ngr0Uq7CoAIC",
        "outputId": "56294b2f-26b3-4795-ec37-5620ad247bd3"
      },
      "source": [
        "perceptron.fit(X_train_std, Y_train);"
      ],
      "execution_count": null,
      "outputs": [
        {
          "output_type": "stream",
          "text": [
            "Iteration 1, loss = 0.90057005\n",
            "Iteration 2, loss = 0.71023686\n",
            "Iteration 3, loss = 0.68932878\n",
            "Iteration 4, loss = 0.68048000\n",
            "Iteration 5, loss = 0.67511948\n",
            "Iteration 6, loss = 0.67117152\n",
            "Iteration 7, loss = 0.66887583\n",
            "Iteration 8, loss = 0.66703407\n",
            "Iteration 9, loss = 0.66537890\n",
            "Iteration 10, loss = 0.66365219\n",
            "Iteration 11, loss = 0.66213481\n",
            "Iteration 12, loss = 0.66125390\n",
            "Iteration 13, loss = 0.66058511\n",
            "Iteration 14, loss = 0.66005505\n",
            "Iteration 15, loss = 0.65957553\n",
            "Iteration 16, loss = 0.65922977\n",
            "Iteration 17, loss = 0.65886395\n",
            "Iteration 18, loss = 0.65836718\n",
            "Iteration 19, loss = 0.65792777\n",
            "Iteration 20, loss = 0.65745198\n",
            "Iteration 21, loss = 0.65720102\n",
            "Iteration 22, loss = 0.65686246\n",
            "Iteration 23, loss = 0.65662604\n",
            "Iteration 24, loss = 0.65636932\n",
            "Iteration 25, loss = 0.65620250\n",
            "Iteration 26, loss = 0.65612268\n",
            "Iteration 27, loss = 0.65599110\n",
            "Iteration 28, loss = 0.65585932\n",
            "Iteration 29, loss = 0.65581536\n",
            "Iteration 30, loss = 0.65570859\n",
            "Iteration 31, loss = 0.65569859\n",
            "Iteration 32, loss = 0.65548643\n",
            "Iteration 33, loss = 0.65548323\n",
            "Iteration 34, loss = 0.65546069\n",
            "Iteration 35, loss = 0.65541458\n",
            "Iteration 36, loss = 0.65537321\n",
            "Iteration 37, loss = 0.65530777\n",
            "Iteration 38, loss = 0.65527877\n",
            "Iteration 39, loss = 0.65529669\n",
            "Iteration 40, loss = 0.65514764\n",
            "Iteration 41, loss = 0.65523159\n",
            "Iteration 42, loss = 0.65513537\n",
            "Iteration 43, loss = 0.65518770\n",
            "Iteration 44, loss = 0.65508758\n",
            "Iteration 45, loss = 0.65499091\n",
            "Iteration 46, loss = 0.65504533\n",
            "Iteration 47, loss = 0.65491929\n",
            "Iteration 48, loss = 0.65481577\n",
            "Iteration 49, loss = 0.65463678\n",
            "Iteration 50, loss = 0.65429790\n",
            "Iteration 51, loss = 0.65402033\n",
            "Iteration 52, loss = 0.65363472\n",
            "Iteration 53, loss = 0.65345132\n",
            "Iteration 54, loss = 0.65322284\n",
            "Iteration 55, loss = 0.65314675\n",
            "Iteration 56, loss = 0.65300277\n",
            "Iteration 57, loss = 0.65284351\n",
            "Iteration 58, loss = 0.65275563\n",
            "Iteration 59, loss = 0.65272288\n",
            "Iteration 60, loss = 0.65255439\n",
            "Iteration 61, loss = 0.65249590\n",
            "Iteration 62, loss = 0.65234297\n",
            "Iteration 63, loss = 0.65228054\n",
            "Iteration 64, loss = 0.65219224\n",
            "Iteration 65, loss = 0.65212259\n",
            "Iteration 66, loss = 0.65199535\n",
            "Iteration 67, loss = 0.65200777\n",
            "Iteration 68, loss = 0.65196126\n",
            "Iteration 69, loss = 0.65185054\n",
            "Iteration 70, loss = 0.65174748\n",
            "Iteration 71, loss = 0.65174872\n",
            "Iteration 72, loss = 0.65167823\n",
            "Iteration 73, loss = 0.65157643\n",
            "Iteration 74, loss = 0.65164618\n",
            "Iteration 75, loss = 0.65151353\n",
            "Iteration 76, loss = 0.65143476\n",
            "Iteration 77, loss = 0.65121424\n",
            "Iteration 78, loss = 0.65116968\n",
            "Iteration 79, loss = 0.65108739\n",
            "Iteration 80, loss = 0.65101864\n",
            "Iteration 81, loss = 0.65082884\n",
            "Iteration 82, loss = 0.65091555\n",
            "Iteration 83, loss = 0.65072632\n",
            "Iteration 84, loss = 0.65075052\n",
            "Iteration 85, loss = 0.65061787\n",
            "Iteration 86, loss = 0.65068188\n",
            "Iteration 87, loss = 0.65057862\n",
            "Iteration 88, loss = 0.65041108\n",
            "Iteration 89, loss = 0.65043058\n",
            "Iteration 90, loss = 0.65036356\n",
            "Iteration 91, loss = 0.65035694\n",
            "Iteration 92, loss = 0.65025254\n",
            "Iteration 93, loss = 0.65021330\n",
            "Iteration 94, loss = 0.65012325\n",
            "Iteration 95, loss = 0.65021512\n",
            "Iteration 96, loss = 0.65004660\n",
            "Iteration 97, loss = 0.65005189\n",
            "Iteration 98, loss = 0.65002632\n",
            "Iteration 99, loss = 0.64998893\n",
            "Iteration 100, loss = 0.64982658\n",
            "Iteration 101, loss = 0.64986941\n",
            "Iteration 102, loss = 0.64989243\n",
            "Iteration 103, loss = 0.64972264\n",
            "Iteration 104, loss = 0.64972095\n",
            "Iteration 105, loss = 0.64982729\n",
            "Iteration 106, loss = 0.64969502\n",
            "Iteration 107, loss = 0.64968076\n",
            "Iteration 108, loss = 0.64960693\n",
            "Iteration 109, loss = 0.64960748\n",
            "Iteration 110, loss = 0.64957165\n",
            "Iteration 111, loss = 0.64956848\n",
            "Iteration 112, loss = 0.64952236\n",
            "Iteration 113, loss = 0.64937956\n",
            "Iteration 114, loss = 0.64941458\n",
            "Iteration 115, loss = 0.64945502\n",
            "Iteration 116, loss = 0.64943038\n",
            "Iteration 117, loss = 0.64929499\n",
            "Iteration 118, loss = 0.64931966\n",
            "Iteration 119, loss = 0.64928362\n",
            "Iteration 120, loss = 0.64928417\n",
            "Iteration 121, loss = 0.64922796\n",
            "Iteration 122, loss = 0.64919258\n",
            "Iteration 123, loss = 0.64913708\n",
            "Iteration 124, loss = 0.64918150\n",
            "Training loss did not improve more than tol=0.000100 for 10 consecutive epochs. Stopping.\n"
          ],
          "name": "stdout"
        }
      ]
    },
    {
      "cell_type": "markdown",
      "metadata": {
        "id": "f3413KzCoAIE"
      },
      "source": [
        "### 6. Com o modelo em questão, após o treinamento, apresente:\n",
        "\n",
        "**6.1 Matriz de confusão para o conjunto de teste**"
      ]
    },
    {
      "cell_type": "code",
      "metadata": {
        "id": "5qgNDYR_oAIF"
      },
      "source": [
        "Y_pred_test = perceptron.predict(X_test_std)\n",
        "\n",
        "cm_test = confusion_matrix(Y_test, Y_pred_test)"
      ],
      "execution_count": null,
      "outputs": []
    },
    {
      "cell_type": "code",
      "metadata": {
        "id": "Uc2i_H_woAIH",
        "outputId": "e1b511c6-780d-46cb-b34b-9e81d383d6fa"
      },
      "source": [
        "print(cm_test)"
      ],
      "execution_count": null,
      "outputs": [
        {
          "output_type": "stream",
          "text": [
            "[[44972 17242     7     0    10    13  1045]\n",
            " [15596 67914  1147     0   115   567     8]\n",
            " [    0  1826  7635   235     0  1041     0]\n",
            " [    0     8   413   285     0   110     0]\n",
            " [    8  2538    35     0   222    38     0]\n",
            " [    0  1442  2227    69     0  1438     0]\n",
            " [ 3603    34     0     0     0     0  2461]]\n"
          ],
          "name": "stdout"
        }
      ]
    },
    {
      "cell_type": "markdown",
      "metadata": {
        "id": "d145RjK9oAIK"
      },
      "source": [
        "\n"
      ]
    },
    {
      "cell_type": "markdown",
      "metadata": {
        "id": "VRCPZN4XoAIL"
      },
      "source": [
        "**6.2 Acurácia**"
      ]
    },
    {
      "cell_type": "code",
      "metadata": {
        "id": "ZbQIyWqdoAIM",
        "outputId": "91a58e83-9366-42a4-d582-5dbe79e0d0f7"
      },
      "source": [
        "accuracy = accuracy_score(Y_test, Y_pred_test)\n",
        "print(accuracy)"
      ],
      "execution_count": null,
      "outputs": [
        {
          "output_type": "stream",
          "text": [
            "0.7167190655406646\n"
          ],
          "name": "stdout"
        }
      ]
    },
    {
      "cell_type": "markdown",
      "metadata": {
        "id": "pt7lUUyEoAIQ"
      },
      "source": [
        "**6.3 F-Score**"
      ]
    },
    {
      "cell_type": "code",
      "metadata": {
        "id": "tZgZDaACoAIQ",
        "outputId": "0539a7f8-d921-4f7e-e288-7da88f3ee793"
      },
      "source": [
        "f_score = f1_score(Y_test, Y_pred_test, average='macro')\n",
        "print(f_score)"
      ],
      "execution_count": null,
      "outputs": [
        {
          "output_type": "stream",
          "text": [
            "0.5091072540805867\n"
          ],
          "name": "stdout"
        }
      ]
    },
    {
      "cell_type": "markdown",
      "metadata": {
        "id": "6sW6XNVJoAIU"
      },
      "source": [
        "**6.4 Precisão**"
      ]
    },
    {
      "cell_type": "code",
      "metadata": {
        "id": "3MGsHrisoAIU",
        "outputId": "9a447473-9c6e-4368-8e07-ceda1c942fce"
      },
      "source": [
        "precision = precision_score(Y_test, Y_pred_test, average='macro')\n",
        "print(precision)"
      ],
      "execution_count": null,
      "outputs": [
        {
          "output_type": "stream",
          "text": [
            "0.6264823567208927\n"
          ],
          "name": "stdout"
        }
      ]
    },
    {
      "cell_type": "markdown",
      "metadata": {
        "id": "Xsk9YUURoAIX"
      },
      "source": [
        "**6.5 Revocação**"
      ]
    },
    {
      "cell_type": "code",
      "metadata": {
        "id": "-7SHnb7doAIX",
        "outputId": "1e3575e3-21e4-4ad6-e919-716dc6325def"
      },
      "source": [
        "recall = recall_score(Y_test, Y_pred_test, average='macro')\n",
        "print(recall)"
      ],
      "execution_count": null,
      "outputs": [
        {
          "output_type": "stream",
          "text": [
            "0.47517367219020856\n"
          ],
          "name": "stdout"
        }
      ]
    },
    {
      "cell_type": "markdown",
      "metadata": {
        "id": "kydYaEfWoAIa"
      },
      "source": [
        "### Repita o treinamento da mesma rede anterior sem imprimir o passo a passo (verbose False) por 100 vezes\n",
        "\n",
        "**7.1 Cada uma destas repetições deve ser feita com uma nova partição Holdout**<br>\n",
        "**7.2 Apresente a média e o desvio padrão da acurácia e do F-Score para o conjunto de treino**"
      ]
    },
    {
      "cell_type": "code",
      "metadata": {
        "id": "PFa10S8OoAIb"
      },
      "source": [
        "accuracies, f_scores = [], []\n",
        "\n",
        "for i in range(100):\n",
        "    X_train, X_test, Y_train, Y_test = train_test_split(X, Y, test_size=0.3, shuffle=True)\n",
        "    \n",
        "    X_train_std = (X_train - np.mean(X_train)) / np.std(X_train)\n",
        "    X_test_std = (X_test - np.mean(X_train)) / np.std(X_train)\n",
        "    \n",
        "    perceptron = MLPClassifier(hidden_layer_sizes=(10,), activation='relu', solver='adam', max_iter=300)\n",
        "    perceptron.fit(X_train_std, Y_train)\n",
        "    \n",
        "    Y_pred_train = perceptron.predict(X_train_std)\n",
        "        \n",
        "    accuracy = accuracy_score(Y_train, Y_pred_train)\n",
        "    accuracies.append(accuracy)\n",
        "    \n",
        "    f_score = f1_score(Y_train, Y_pred_train, average='macro')\n",
        "    f_scores.append(f_score)"
      ],
      "execution_count": null,
      "outputs": []
    },
    {
      "cell_type": "code",
      "metadata": {
        "id": "Iyu7uhsNoAId",
        "outputId": "cf26d7c6-6d23-483a-aa4f-55777d2146fc"
      },
      "source": [
        "print(\"Acurácia Média: %.4f\" % np.mean(accuracies))\n",
        "print(\"Desvio Padrão Acurácia: %.4f\" % np.std(accuracies))"
      ],
      "execution_count": null,
      "outputs": [
        {
          "output_type": "stream",
          "text": [
            "Acurácia Média: 0.7181\n",
            "Desvio Padrão Acurácia: 0.0030\n"
          ],
          "name": "stdout"
        }
      ]
    },
    {
      "cell_type": "code",
      "metadata": {
        "id": "8CCWbbnCoAIh",
        "outputId": "9922f887-6102-435e-8b90-cdef139a80d5"
      },
      "source": [
        "print(\"F-Score Médio: %.4f\" % np.mean(f_scores))\n",
        "print(\"Desvio Padrão F-Score: %.4f\" % np.std(f_scores))"
      ],
      "execution_count": null,
      "outputs": [
        {
          "output_type": "stream",
          "text": [
            "F-Score Médio: 0.5158\n",
            "Desvio Padrão F-Score: 0.0198\n"
          ],
          "name": "stdout"
        }
      ]
    },
    {
      "cell_type": "markdown",
      "metadata": {
        "id": "fbKfPSvsoAIj"
      },
      "source": [
        "### Repita por 100 vezes o treinamento desta mesma rede, mas utilizando o otimizador SGD\n",
        "**8.1 Apresente a média e o desvio padrão da acurácia e do F-Score para o conjunto de treino**"
      ]
    },
    {
      "cell_type": "code",
      "metadata": {
        "id": "HRbAJ8mwoAIk"
      },
      "source": [
        "accuracies, f_scores = [], []\n",
        "\n",
        "for i in range(100):\n",
        "    X_train, X_test, Y_train, Y_test = train_test_split(X, Y, test_size=0.3, shuffle=True)\n",
        "    \n",
        "    X_train_std = (X_train - np.mean(X_train)) / np.std(X_train)\n",
        "    X_test_std = (X_test - np.mean(X_train)) / np.std(X_train)\n",
        "    \n",
        "    perceptron = MLPClassifier(hidden_layer_sizes=(10,), activation='relu', solver='sgd', max_iter=300)\n",
        "    perceptron.fit(X_train_std, Y_train)\n",
        "    \n",
        "    Y_pred_train = perceptron.predict(X_train_std)\n",
        "        \n",
        "    accuracy = accuracy_score(Y_train, Y_pred_train)\n",
        "    accuracies.append(accuracy)\n",
        "    \n",
        "    f_score = f1_score(Y_train, Y_pred_train, average='macro')\n",
        "    f_scores.append(f_score)"
      ],
      "execution_count": null,
      "outputs": []
    },
    {
      "cell_type": "code",
      "metadata": {
        "id": "WTKdmJ9toAIm",
        "outputId": "40177cdb-7a9b-40e2-806b-947b8fa65f5b"
      },
      "source": [
        "print(\"Acurácia Média: %.4f\" % np.mean(accuracies))\n",
        "print(\"Desvio Padrão Acurácia: %.4f\" % np.std(accuracies))"
      ],
      "execution_count": null,
      "outputs": [
        {
          "output_type": "stream",
          "text": [
            "Acurácia Média: 0.7148\n",
            "Desvio Padrão Acurácia: 0.0028\n"
          ],
          "name": "stdout"
        }
      ]
    },
    {
      "cell_type": "code",
      "metadata": {
        "id": "nZVUYWd7oAIo",
        "outputId": "33b4ac41-3116-4b11-d114-182aa89a20b9"
      },
      "source": [
        "print(\"F-Score Médio: %.4f\" % np.mean(f_scores))\n",
        "print(\"Desvio Padrão F-Score: %.4f\" % np.std(f_scores))"
      ],
      "execution_count": null,
      "outputs": [
        {
          "output_type": "stream",
          "text": [
            "F-Score Médio: 0.4807\n",
            "Desvio Padrão F-Score: 0.0170\n"
          ],
          "name": "stdout"
        }
      ]
    },
    {
      "cell_type": "markdown",
      "metadata": {
        "id": "4IeMrGbEoAIr"
      },
      "source": [
        "**9. Houve influência da escolha do otimizador no desempenho da rede?**"
      ]
    },
    {
      "cell_type": "markdown",
      "metadata": {
        "id": "2LnB3CDPoAIs"
      },
      "source": [
        "Como pode ser observado, não houve perda significativa de acuáricia, havendo apenas uma leve diminuição no F-Score obtido para a rede treinada com o otimizador SGD. Também foi possível perceber uma melhora no tempo necessário para convergência, quando utilizado este mesmo otimizador, resultando em um tempo de treinamento menor ao do primeiro otimizador."
      ]
    },
    {
      "cell_type": "markdown",
      "metadata": {
        "id": "YyN0uZS0oAIs"
      },
      "source": [
        "## Discussão\n",
        "\n",
        "Nos passos anteriores, você avaliou o desempenho de uma única rede neural que contém os seguintes parâmetros: uma única camada oculta com 10 neurônios e função de ativação ReLU. O otimizador utilizado, quer seja SGD ou ADAM, trata-se do algoritmo para aproximar o gradiente do erro. Neste sentido, a escolha do otimizador é um hiperparâmetro, pois diz respeito a como a rede neural definida previamente atuará \"em tempo de execução\"  durante o processo de treinamento. Também são hiperparâmetros a quantidade de épocas, a taxa de aprendizado inicial, dentre outros.\n",
        "\n",
        "Cabe alientar também que você efetuou o treinamento desta rede por 100 vezes e apresentou os resultados em termos de média +- desvio padrão. Lembre-se que em uma rede neural há a inicialização aleatória de pesos e, em consequência, o desempenho delas está sujeito à uma flutuação estocástica. A execução destas múltiplas vezes faz com que eliminemos algum viés introduzido por uma boa ou má \"sorte\" na escolha de pesos no caso de uma única execução.\n",
        "\n",
        "Você também aprendeu uma estratégia para escalonar os atributos para uma melhor convergência da rede. Utilize-a em todos os treinamentos e testes propostos a seguir.\n",
        "\n",
        "## Propondo Novas Arquiteturas\n",
        "\n",
        "Variando  os parâmetros (uma ou duas camadas ocultas, com diferente números de neurônios em cada uma delas e a função de ativação) e o hiperparâmetros solver (Adam ou SGD) e o número de épocas (100,150 e 200), atenda ao que se pede:\n",
        "\n",
        "1. Proponha 10 arquiteturas distintas de RNAs para o problema em questão, à sua escolha\n",
        "2. Avalie cada uma das arquiteturas perante todos os hiperparâmetros apresentados por 100 vezes\n",
        "3. Como resultado da avaliação, apresente:  \n",
        "    3.1 Top-3 melhores redes no tocante à F-Score e Acurácia  \n",
        "    3.2 Repetição em que houve o melhor desempenho de cada uma dessas redes: ilustre tp, tf, fp e fn  "
      ]
    },
    {
      "cell_type": "markdown",
      "metadata": {
        "id": "-3CDyDFg4VIe"
      },
      "source": [
        "**1. Proponha 10 arquiteturas distintas de RNAs para o problema em questão, à sua escolha**"
      ]
    },
    {
      "cell_type": "code",
      "metadata": {
        "id": "XkdCEfA9oAIu"
      },
      "source": [
        "models = [\n",
        "          MLPClassifier(hidden_layer_sizes=(10, 8), activation='relu', solver='adam', max_iter=100), \n",
        "          MLPClassifier(hidden_layer_sizes=(10, 10), activation='identity', solver='sgd', max_iter=150),\n",
        "          MLPClassifier(hidden_layer_sizes=(8, 8), activation='relu', solver='adam', max_iter=200),\n",
        "          MLPClassifier(hidden_layer_sizes=(6, 6), activation='identity', solver='sgd', max_iter=100),\n",
        "          MLPClassifier(hidden_layer_sizes=(10, 6), activation='relu', solver='adam', max_iter=150),\n",
        "          MLPClassifier(hidden_layer_sizes=(20, 10), activation='identity', solver='sgd', max_iter=200),\n",
        "          MLPClassifier(hidden_layer_sizes=(20, 10), activation='relu', solver='adam', max_iter=200),\n",
        "          MLPClassifier(hidden_layer_sizes=(20, 20), activation='relu', solver='sgd', max_iter=150),\n",
        "          MLPClassifier(hidden_layer_sizes=(10, 5), activation='relu', solver='adam', max_iter=100),\n",
        "          MLPClassifier(hidden_layer_sizes=(10, 5), activation='identity', solver='sgd', max_iter=100),\n",
        "          ]"
      ],
      "execution_count": null,
      "outputs": []
    },
    {
      "cell_type": "markdown",
      "metadata": {
        "id": "erT0YnVc4eGZ"
      },
      "source": [
        "**2. Avalie cada uma das arquiteturas perante todos os hiperparâmetros apresentados por 100 vezes**"
      ]
    },
    {
      "cell_type": "code",
      "metadata": {
        "id": "wXFvjpFB4sz4"
      },
      "source": [
        "accuracies, f_scores, confusions_matrix = [], [], []\n",
        "for i in models:\n",
        "  accuracies.append([])\n",
        "  f_scores.append([])\n",
        "  confusions_matrix.append([])\n",
        "\n",
        "for i in range(len(models)):\n",
        "  for j in range(15):\n",
        "      X_train, X_test, Y_train, Y_test = train_test_split(X, Y, test_size=0.3, shuffle=True)\n",
        "      \n",
        "      X_train_std = (X_train - np.mean(X_train)) / np.std(X_train)\n",
        "      X_test_std = (X_test - np.mean(X_train)) / np.std(X_train)\n",
        "      \n",
        "      perceptron = models[i]\n",
        "      perceptron.fit(X_train_std, Y_train)\n",
        "      \n",
        "      Y_pred_train = perceptron.predict(X_train_std)\n",
        "          \n",
        "      accuracy = accuracy_score(Y_train, Y_pred_train)\n",
        "      accuracies[i].append(accuracy)\n",
        "      \n",
        "      f_score = f1_score(Y_train, Y_pred_train, average='macro')\n",
        "      f_scores[i].append(f_score)\n",
        "\n",
        "      Y_pred_test = perceptron.predict(X_test_std)\n",
        "      cm_test = confusion_matrix(Y_test, Y_pred_test)\n",
        "      confusions_matrix[i].append(cm_test)"
      ],
      "execution_count": null,
      "outputs": []
    },
    {
      "cell_type": "markdown",
      "metadata": {
        "id": "6xZ1SpX64tVe"
      },
      "source": [
        "**3. Como resultado da avaliação, apresente:**\n",
        "\n",
        "**3.1 Top-3 melhores redes no tocante à F-Score e Acurácia**"
      ]
    },
    {
      "cell_type": "code",
      "metadata": {
        "id": "6hDoZn_Mn_pX"
      },
      "source": [
        "# funcao que imprime o modelo\n",
        "def print_model(model):\n",
        "  print(\"hidden_layer_sizes: \"+str(model.hidden_layer_sizes)+\", activation: \"+\n",
        "        str(model.activation)+\", solver: \"+str(model.solver)+\n",
        "        \", max_iter: \"+str(model.max_iter))"
      ],
      "execution_count": 36,
      "outputs": []
    },
    {
      "cell_type": "code",
      "metadata": {
        "id": "E8PummQ84yIH",
        "outputId": "2ff90b79-5458-48b6-c94d-b8171a9cf49c",
        "colab": {
          "base_uri": "https://localhost:8080/",
          "height": 571
        }
      },
      "source": [
        "# Top 3 em relacao a acuracia\n",
        "accuracies_sum = []\n",
        "for i in range(len(models)):\n",
        "  accuracies_sum.append(sum(accuracies[i]))\n",
        "\n",
        "models_sort = np.argsort(accuracies_sum)\n",
        "\n",
        "print(\"-----Top 3 em relação à acurácia-----\")\n",
        "for i in range(3):\n",
        "  print(str(i+1)+'º Lugar: ')\n",
        "  index = models_sort[-3:][2-i]\n",
        "  print_model(models[index])\n",
        "  print(\"Acurácia Média: %.4f\" % np.mean(accuracies[index]))\n",
        "  print(\"Desvio Padrão Acurácia: %.4f\" % np.std(accuracies[index]))\n",
        "  print()\n",
        "\n",
        "# Top 3 em relacao ao F-score\n",
        "f_scores_sum = []\n",
        "for i in range(len(models)):\n",
        "  f_scores_sum.append(sum(f_scores[i]))\n",
        "\n",
        "models_sort = np.argsort(f_scores_sum)\n",
        "\n",
        "print(\"\\n-----Top 3 em relação ao F-score-----\")\n",
        "for i in range(3):\n",
        "  print(str(i+1)+'º Lugar: ')\n",
        "  index = models_sort[-3:][2-i]\n",
        "  print_model(models[index])\n",
        "  print(\"F-Score Média: %.4f\" % np.mean(f_scores[index]))\n",
        "  print(\"Desvio Padrão F-Score: %.4f\" % np.std(f_scores[index]))\n",
        "  print()"
      ],
      "execution_count": null,
      "outputs": [
        {
          "output_type": "stream",
          "text": [
            "-----Top 3 em relação à acurácia-----\n",
            "1º Lugar: \n",
            "hidden_layer_sizes: (20, 20), activation: relu, solver: sgd, max_iter: 150\n",
            "Acurácia Média: 0.7611\n",
            "Desvio Padrão Acurácia: 0.0029\n",
            "\n",
            "2º Lugar: \n",
            "hidden_layer_sizes: (20, 10), activation: relu, solver: adam, max_iter: 200\n",
            "Acurácia Média: 0.7542\n",
            "Desvio Padrão Acurácia: 0.0028\n",
            "\n",
            "3º Lugar: \n",
            "hidden_layer_sizes: (10, 8), activation: relu, solver: adam, max_iter: 100\n",
            "Acurácia Média: 0.7279\n",
            "Desvio Padrão Acurácia: 0.0034\n",
            "\n",
            "\n",
            "-----Top 3 em relação ao F-score-----\n",
            "1º Lugar: \n",
            "hidden_layer_sizes: (20, 10), activation: relu, solver: adam, max_iter: 200\n",
            "F-Score Média: 0.6085\n",
            "Desvio Padrão F-Score: 0.0138\n",
            "\n",
            "2º Lugar: \n",
            "hidden_layer_sizes: (20, 20), activation: relu, solver: sgd, max_iter: 150\n",
            "F-Score Média: 0.5989\n",
            "Desvio Padrão F-Score: 0.0155\n",
            "\n",
            "3º Lugar: \n",
            "hidden_layer_sizes: (10, 8), activation: relu, solver: adam, max_iter: 100\n",
            "F-Score Média: 0.5473\n",
            "Desvio Padrão F-Score: 0.0169\n",
            "\n"
          ],
          "name": "stdout"
        }
      ]
    },
    {
      "cell_type": "markdown",
      "metadata": {
        "id": "2-hwehEl4ypk"
      },
      "source": [
        "**3.2 Repetição em que houve o melhor desempenho de cada uma dessas redes: ilustre tp, tf, fp e fn**"
      ]
    },
    {
      "cell_type": "code",
      "metadata": {
        "id": "bi4-J5Ix44b6",
        "outputId": "b6a6becc-3e1c-43fd-a4cf-f9a8b65d5bc6",
        "colab": {
          "base_uri": "https://localhost:8080/",
          "height": 1000
        }
      },
      "source": [
        "for i in range(len(models)):\n",
        "  index = accuracies[i].index(max(accuracies[i]))\n",
        "  cm = confusions_matrix[i][index]\n",
        "\n",
        "  FP = cm.sum(axis=0) - np.diag(cm)\n",
        "  FN = cm.sum(axis=1) - np.diag(cm)\n",
        "  TP = np.diag(cm)\n",
        "  TN = cm.sum() - (FP + FN + TP)\n",
        "\n",
        "  print(str(i+1)+\"º modelo\")\n",
        "  print_model(models[i])\n",
        "  print(\"FP: \" + str(FP))\n",
        "  print(\"FN: \" + str(FN))\n",
        "  print(\"TP: \" + str(TP))\n",
        "  print(\"TN: \" + str(TN))\n",
        "  print()"
      ],
      "execution_count": null,
      "outputs": [
        {
          "output_type": "stream",
          "text": [
            "1º modelo\n",
            "hidden_layer_sizes: (10, 8), activation: relu, solver: adam, max_iter: 100\n",
            "FP: [17293 22452  3558   372   131  1806  1202]\n",
            "FN: [18146 16743  2992   374  2472  3606  2481]\n",
            "TP: [45419 68091  7746   438   376  1635  3785]\n",
            "TN: [ 93446  67018 160008 173120 171325 167257 166836]\n",
            "\n",
            "2º modelo\n",
            "hidden_layer_sizes: (10, 10), activation: identity, solver: sgd, max_iter: 150\n",
            "FP: [21005 25122  4733   195     0   987  1123]\n",
            "FN: [19510 18010  2895   669  2880  4609  4592]\n",
            "TP: [43915 67031  7720   199     0   694  1580]\n",
            "TN: [ 89874  64141 158956 173241 171424 168014 167009]\n",
            "\n",
            "3º modelo\n",
            "hidden_layer_sizes: (8, 8), activation: relu, solver: adam, max_iter: 200\n",
            "FP: [18411 21242  3327   315    22  1957   949]\n",
            "FN: [16353 17510  3090   417  2747  3455  2651]\n",
            "TP: [47380 67364  7649   399    81  1674  3534]\n",
            "TN: [ 92160  68188 160238 173173 171454 167218 167170]\n",
            "\n",
            "4º modelo\n",
            "hidden_layer_sizes: (6, 6), activation: identity, solver: sgd, max_iter: 100\n",
            "FP: [20964 24313  4994   136     0   845  1287]\n",
            "FN: [19076 18223  2714   738  2880  4616  4292]\n",
            "TP: [44425 66807  7916   114     0   681  1822]\n",
            "TN: [ 89839  64961 158680 173316 171424 168162 166903]\n",
            "\n",
            "5º modelo\n",
            "hidden_layer_sizes: (10, 6), activation: relu, solver: adam, max_iter: 150\n",
            "FP: [18403 22647  3712   239   147  1305   778]\n",
            "FN: [17148 17080  2999   502  2522  4085  2895]\n",
            "TP: [46075 68146  7782   288   356  1140  3286]\n",
            "TN: [ 92678  66431 159811 173275 171279 167774 167345]\n",
            "\n",
            "6º modelo\n",
            "hidden_layer_sizes: (20, 10), activation: identity, solver: sgd, max_iter: 200\n",
            "FP: [20247 24872  4788   120     0   934  1643]\n",
            "FN: [19938 17836  2852   681  2779  4555  3963]\n",
            "TP: [43733 67202  7872   136     0   669  2088]\n",
            "TN: [ 90386  64394 158792 173367 171525 168146 166610]\n",
            "\n",
            "7º modelo\n",
            "hidden_layer_sizes: (20, 10), activation: relu, solver: adam, max_iter: 200\n",
            "FP: [17050 18923  4118   117    83  1208   860]\n",
            "FN: [14902 16484  2011   367  2476  3808  2311]\n",
            "TP: [48748 68558  8608   418   366  1306  3941]\n",
            "TN: [ 93604  70339 159567 173402 171379 167982 167192]\n",
            "\n",
            "8º modelo\n",
            "hidden_layer_sizes: (20, 20), activation: relu, solver: sgd, max_iter: 150\n",
            "FP: [16015 19121  4309    87   171   804   687]\n",
            "FN: [14176 14979  2242   573  2441  4197  2586]\n",
            "TP: [49399 69772  8530   247   520  1056  3586]\n",
            "TN: [ 94714  70432 159223 173397 171172 168247 167445]\n",
            "\n",
            "9º modelo\n",
            "hidden_layer_sizes: (10, 5), activation: relu, solver: adam, max_iter: 100\n",
            "FP: [17760 22175  3705   137   377  2069  1089]\n",
            "FN: [17854 16437  3113   564  2374  3589  3381]\n",
            "TP: [45596 68704  7663   288   469  1562  2710]\n",
            "TN: [ 93094  66988 159823 173315 171084 167084 167124]\n",
            "\n",
            "10º modelo\n",
            "hidden_layer_sizes: (10, 5), activation: identity, solver: sgd, max_iter: 100\n",
            "FP: [20974 24777  4831    68     0   846  1297]\n",
            "FN: [19218 17996  2962   832  2831  4566  4388]\n",
            "TP: [44460 66788  7751    22     0   616  1874]\n",
            "TN: [ 89652  64743 158760 173382 171473 168276 166745]\n",
            "\n"
          ],
          "name": "stdout"
        }
      ]
    },
    {
      "cell_type": "markdown",
      "metadata": {
        "id": "61uyCEU-oAIx"
      },
      "source": [
        "## Estimando o número de neurônios\n",
        "\n",
        "Um dos problemas de pesquisa com redes neurais artificiais consiste na determinação do número de neurônios em sua arquitetura. Embora não seja possível definir a priori qual rede neural é adequada para um problema, pois isto só é possível mediante uma busca exaustiva, há regras na literatura que sugerem o número de neurônios escondidos, tal como a regra da Pirâmide Geométrica, dada a seguir:\n",
        "\n",
        "$$N_h = \\alpha \\cdot \\sqrt{N_i \\cdot N_o},$$\n",
        "\n",
        "em que $N_h$ é o número de neurônios ocultos (a serem distribuídos em uma ou duas camadas ocultas), $N_i$ é o número de neurônios na camada de entrada e $N_o$ é o número de neurônios na camada de saída. \n",
        "\n",
        "1. Consulte a documentação da classe MLPClassifier (disponível em https://scikit-learn.org/stable/modules/generated/sklearn.neural_network.MLPClassifier.html) e obtenha os valores de $N_i$ e $N_h$.\n",
        "2. Teste os valores de $\\alpha$ como sendo iguais a $0.5$, $2$ e $3$.\n",
        "3. Proponha pelo menos 30 redes neurais segundo a regra da pirâmide geométrica e teste-as nos mesmos termos estabelecidos anterioremente  (solver, épocas, etc.)  \n",
        "    3.1 Apresente as top-3 melhores redes no tocante à F-Score e Acurácia  "
      ]
    },
    {
      "cell_type": "markdown",
      "metadata": {
        "id": "QsVInen5TPDn"
      },
      "source": [
        "**Consulte a documentação da classe MLPClassifier (disponível em https://scikit-learn.org/stable/modules/generated/sklearn.neural_network.MLPClassifier.html) e obtenha os valores de  $N_i$  e  $N_o$ .**"
      ]
    },
    {
      "cell_type": "code",
      "metadata": {
        "id": "2rmfWQgboAIx"
      },
      "source": [
        "perceptron = MLPClassifier(hidden_layer_sizes=(10,), activation='relu', solver='adam', max_iter=50)\n",
        "perceptron.fit(X_train_std, Y_train)"
      ],
      "execution_count": null,
      "outputs": []
    },
    {
      "cell_type": "code",
      "metadata": {
        "id": "rI9zCfMsWDW9",
        "outputId": "d27235db-3c28-4aad-d9f7-2a978d08a71e",
        "colab": {
          "base_uri": "https://localhost:8080/",
          "height": 51
        }
      },
      "source": [
        "n_o = perceptron.n_outputs_\n",
        "n_i = X_train_std.shape[1]\n",
        "\n",
        "print(\"Ni é igual a \"+str(n_i))\n",
        "print(\"No é igual a \"+str(n_o))"
      ],
      "execution_count": 27,
      "outputs": [
        {
          "output_type": "stream",
          "text": [
            "Ni é igual a 10\n",
            "No é igual a 7\n"
          ],
          "name": "stdout"
        }
      ]
    },
    {
      "cell_type": "markdown",
      "metadata": {
        "id": "tgH9C1luTWuN"
      },
      "source": [
        "**Teste os valores de $\\alpha$  como sendo iguais a  0.5 ,  2  e  3.**"
      ]
    },
    {
      "cell_type": "code",
      "metadata": {
        "id": "zyvSIVisThY7",
        "outputId": "8dc9898e-e368-44b6-dd9e-1878d4d0443c",
        "colab": {
          "base_uri": "https://localhost:8080/",
          "height": 68
        }
      },
      "source": [
        "def get_n_h(a, n_i, n_o):\n",
        "  return a*(n_i*n_o)**(1/2)\n",
        "\n",
        "n_h05 = get_n_h(.5, n_i, n_o)\n",
        "n_h2 = get_n_h(2, n_i, n_o)\n",
        "n_h3 = get_n_h(3, n_i, n_o)\n",
        "print(\"Com alpha = 0.5, temos: \"+str(n_h05))\n",
        "print(\"Com alpha = 2, temos: \"+str(n_h2))\n",
        "print(\"Com alpha = 3, temos: \"+str(n_h3))"
      ],
      "execution_count": 29,
      "outputs": [
        {
          "output_type": "stream",
          "text": [
            "Com alpha = 0.5, temos: 4.183300132670378\n",
            "Com alpha = 2, temos: 16.73320053068151\n",
            "Com alpha = 3, temos: 25.099800796022265\n"
          ],
          "name": "stdout"
        }
      ]
    },
    {
      "cell_type": "markdown",
      "metadata": {
        "id": "aOlMRGypThvN"
      },
      "source": [
        "**3. Proponha pelo menos 30 redes neurais segundo a regra da pirâmide geométrica e teste-as nos mesmos termos estabelecidos anterioremente (solver, épocas, etc.)**"
      ]
    },
    {
      "cell_type": "code",
      "metadata": {
        "id": "xCH-87t-TpT5"
      },
      "source": [
        "models = [\n",
        "          MLPClassifier(hidden_layer_sizes=(12, 8), activation='relu', solver='adam', max_iter=100), \n",
        "          MLPClassifier(hidden_layer_sizes=(20, 5), activation='identity', solver='sgd', max_iter=150),\n",
        "          MLPClassifier(hidden_layer_sizes=(15, 10), activation='relu', solver='sgd', max_iter=200),\n",
        "          MLPClassifier(hidden_layer_sizes=(16, 9), activation='identity', solver='sgd', max_iter=100),\n",
        "          MLPClassifier(hidden_layer_sizes=(16, 8), activation='relu', solver='adam', max_iter=150),\n",
        "          MLPClassifier(hidden_layer_sizes=(10), activation='identity', solver='sgd', max_iter=200),\n",
        "          MLPClassifier(hidden_layer_sizes=(25), activation='relu', solver='sgd', max_iter=200),\n",
        "          MLPClassifier(hidden_layer_sizes=(4), activation='relu', solver='sgd', max_iter=150),\n",
        "          MLPClassifier(hidden_layer_sizes=(4, 4), activation='relu', solver='adam', max_iter=100),\n",
        "          MLPClassifier(hidden_layer_sizes=(8, 4), activation='identity', solver='sgd', max_iter=100),\n",
        "          MLPClassifier(hidden_layer_sizes=(20, 4), activation='relu', solver='sgd', max_iter=100), \n",
        "          MLPClassifier(hidden_layer_sizes=(16, 7), activation='identity', solver='sgd', max_iter=150),\n",
        "          MLPClassifier(hidden_layer_sizes=(16, 4), activation='relu', solver='sgd', max_iter=200),\n",
        "          MLPClassifier(hidden_layer_sizes=(5, 5), activation='identity', solver='sgd', max_iter=100),\n",
        "          MLPClassifier(hidden_layer_sizes=(10, 6), activation='relu', solver='sgd', max_iter=150),\n",
        "          MLPClassifier(hidden_layer_sizes=(14, 9), activation='identity', solver='sgd', max_iter=200),\n",
        "          MLPClassifier(hidden_layer_sizes=(20, 4), activation='relu', solver='adam', max_iter=200),\n",
        "          MLPClassifier(hidden_layer_sizes=(24, 1), activation='relu', solver='sgd', max_iter=150),\n",
        "          MLPClassifier(hidden_layer_sizes=(24), activation='relu', solver='sgd', max_iter=100),\n",
        "          MLPClassifier(hidden_layer_sizes=(20), activation='identity', solver='sgd', max_iter=100),\n",
        "          MLPClassifier(hidden_layer_sizes=(14), activation='relu', solver='adam', max_iter=100), \n",
        "          MLPClassifier(hidden_layer_sizes=(7), activation='identity', solver='sgd', max_iter=150),\n",
        "          MLPClassifier(hidden_layer_sizes=(14, 8), activation='relu', solver='sgd', max_iter=200),\n",
        "          MLPClassifier(hidden_layer_sizes=(12, 4), activation='identity', solver='sgd', max_iter=100),\n",
        "          MLPClassifier(hidden_layer_sizes=(10, 15), activation='relu', solver='sgd', max_iter=150),\n",
        "          MLPClassifier(hidden_layer_sizes=(5, 20), activation='identity', solver='sgd', max_iter=200),\n",
        "          MLPClassifier(hidden_layer_sizes=(18, 7), activation='relu', solver='sgd', max_iter=200),\n",
        "          MLPClassifier(hidden_layer_sizes=(7, 18), activation='relu', solver='sgd', max_iter=150),\n",
        "          MLPClassifier(hidden_layer_sizes=(16), activation='relu', solver='adam', max_iter=100),\n",
        "          MLPClassifier(hidden_layer_sizes=(4, 21), activation='identity', solver='sgd', max_iter=100),\n",
        "          ]"
      ],
      "execution_count": 39,
      "outputs": []
    },
    {
      "cell_type": "code",
      "metadata": {
        "id": "l5hy8Hn1kdyh"
      },
      "source": [
        "accuracies, f_scores, confusions_matrix = [], [], []\n",
        "\n",
        "for i in range(len(models)):\n",
        "  X_train, X_test, Y_train, Y_test = train_test_split(X, Y, test_size=0.3, shuffle=True)\n",
        "    \n",
        "  X_train_std = (X_train - np.mean(X_train)) / np.std(X_train)\n",
        "  X_test_std = (X_test - np.mean(X_train)) / np.std(X_train)\n",
        "  \n",
        "  perceptron = models[i]\n",
        "  perceptron.fit(X_train_std, Y_train)\n",
        "  \n",
        "  Y_pred_train = perceptron.predict(X_train_std)\n",
        "      \n",
        "  accuracy = accuracy_score(Y_train, Y_pred_train)\n",
        "  accuracies.append(accuracy)\n",
        "  \n",
        "  f_score = f1_score(Y_train, Y_pred_train, average='macro')\n",
        "  f_scores.append(f_score)\n",
        "\n",
        "  Y_pred_test = perceptron.predict(X_test_std)\n",
        "  cm_test = confusion_matrix(Y_test, Y_pred_test)\n",
        "  confusions_matrix.append(cm_test)"
      ],
      "execution_count": null,
      "outputs": []
    },
    {
      "cell_type": "markdown",
      "metadata": {
        "id": "wnXCB9mHTpoX"
      },
      "source": [
        "**3.1 Apresente as top-3 melhores redes no tocante à F-Score e Acurácia**"
      ]
    },
    {
      "cell_type": "code",
      "metadata": {
        "id": "f6ZeGBdQTrgb",
        "outputId": "7f348186-c35e-4ec4-e1a5-518a280f252a",
        "colab": {
          "base_uri": "https://localhost:8080/",
          "height": 476
        }
      },
      "source": [
        "# Top 3 em relacao a acuracia\n",
        "models_sort = np.argsort(accuracies)\n",
        "\n",
        "print(\"-----Top 3 em relação à acurácia-----\")\n",
        "for i in range(3):\n",
        "  print(str(i+1)+'º Lugar: ')\n",
        "  index = models_sort[-3:][2-i]\n",
        "  print_model(models[index])\n",
        "  print(\"Acurácia: %.4f\" % (accuracies[index]))\n",
        "  print()\n",
        "\n",
        "# Top 3 em relacao ao F-score\n",
        "f_scores_sum = []\n",
        "for i in range(len(models)):\n",
        "  f_scores_sum.append(f_scores[i])\n",
        "\n",
        "models_sort = np.argsort(f_scores_sum)\n",
        "\n",
        "print(\"\\n-----Top 3 em relação ao F-score-----\")\n",
        "for i in range(3):\n",
        "  print(str(i+1)+'º Lugar: ')\n",
        "  index = models_sort[-3:][2-i]\n",
        "  print_model(models[index])\n",
        "  print(\"F-Score: %.4f\" % (f_scores[index]))\n",
        "  print()"
      ],
      "execution_count": 43,
      "outputs": [
        {
          "output_type": "stream",
          "text": [
            "-----Top 3 em relação à acurácia-----\n",
            "1º Lugar: \n",
            "hidden_layer_sizes: (16, 8), activation: relu, solver: adam, max_iter: 150\n",
            "Acurácia: 0.7443\n",
            "\n",
            "2º Lugar: \n",
            "hidden_layer_sizes: 25, activation: relu, solver: sgd, max_iter: 200\n",
            "Acurácia: 0.7364\n",
            "\n",
            "3º Lugar: \n",
            "hidden_layer_sizes: (14, 8), activation: relu, solver: sgd, max_iter: 200\n",
            "Acurácia: 0.7362\n",
            "\n",
            "\n",
            "-----Top 3 em relação ao F-score-----\n",
            "1º Lugar: \n",
            "hidden_layer_sizes: (16, 8), activation: relu, solver: adam, max_iter: 150\n",
            "F-Score: 0.6044\n",
            "\n",
            "2º Lugar: \n",
            "hidden_layer_sizes: (15, 10), activation: relu, solver: sgd, max_iter: 200\n",
            "F-Score: 0.5682\n",
            "\n",
            "3º Lugar: \n",
            "hidden_layer_sizes: (12, 8), activation: relu, solver: adam, max_iter: 100\n",
            "F-Score: 0.5677\n",
            "\n"
          ],
          "name": "stdout"
        }
      ]
    },
    {
      "cell_type": "markdown",
      "metadata": {
        "id": "cZv_bThgoAIz"
      },
      "source": [
        "## Testando as Redes Neurais com Atributos Categóricos\n",
        "\n",
        "1. Considere as 6 redes neurais obtidas nos dois top-3 anteriores (arquiteturas próprias e regra da pirâmide geométrica)\n",
        "2. Com todos os atributos preditores da base de dados original, incluindo os categóricos, treine e teste estas mesmas redes por 100 repetições  \n",
        "    2.1 Considere o melhor otimizador para cada uma delas  \n",
        "    2.2 Faça uso de 200 épocas para treinamento  \n",
        "    2.2 Apresente os resultados de acurácia e F-Score em termos da média +- dp para cada arquitetura\n",
        "3. Apresente o gráfico boxplot para o F-Score das 6 arquiteturas perante as 100 repetições"
      ]
    },
    {
      "cell_type": "code",
      "execution_count": 6,
      "metadata": {},
      "outputs": [],
      "source": [
        "data = pd.read_csv('../datasets/covtype.csv', sep=\";\")"
      ]
    },
    {
      "cell_type": "code",
      "execution_count": 7,
      "metadata": {},
      "outputs": [],
      "source": [
        "X, Y = data[data.columns.drop('Cover_Type')], data['Cover_Type']"
      ]
    },
    {
      "source": [
        "#### Regra da pirâmide geométrica"
      ],
      "cell_type": "markdown",
      "metadata": {
        "id": "5VSX8DZDoAI0"
      }
    },
    {
      "source": [
        "#### 1. Considere as 6 redes neurais obtidas nos dois top-3 anteriores (arquiteturas próprias e regra da pirâmide geométrica)"
      ],
      "cell_type": "markdown",
      "metadata": {}
    },
    {
      "cell_type": "code",
      "execution_count": 38,
      "metadata": {},
      "outputs": [],
      "source": [
        "# Após definição do número de épocas como 200, obtém-se apenas 5 modelos distintos\n",
        "\n",
        "models_pg = [\n",
        "    MLPClassifier(hidden_layer_sizes=(16, 8), activation='relu', solver='adam', max_iter=200), # Acurácia Top 1 e F-Score Top 1\n",
        "    MLPClassifier(hidden_layer_sizes=(25), activation='relu', solver='sgd', max_iter=200), # Acurácia Top 2\n",
        "    MLPClassifier(hidden_layer_sizes=(14, 8), activation='relu', solver='sgd', max_iter=200), # Acurácia Top 3  \n",
        "    MLPClassifier(hidden_layer_sizes=(15, 10), activation='relu', solver='sgd', max_iter=200), #F-Score Top 2\n",
        "    MLPClassifier(hidden_layer_sizes=(12, 8), activation='relu', solver='adam', max_iter=200) #F-Score Top 3\n",
        "    ]"
      ]
    },
    {
      "source": [
        "#### 2. Com todos os atributos preditores da base de dados original, incluindo os categóricos, treine e teste estas mesmas redes por 100 repetições\n",
        "#### 2.1 Considere o melhor otimizador para cada uma delas\n",
        "#### 2.2 Faça uso de 200 épocas para treinamento\n",
        "#### 2.2 Apresente os resultados de acurácia e F-Score em termos da média +- dp para cada arquitetura"
      ],
      "cell_type": "markdown",
      "metadata": {}
    },
    {
      "cell_type": "code",
      "execution_count": 41,
      "metadata": {},
      "outputs": [
        {
          "output_type": "error",
          "ename": "ValueError",
          "evalue": "Input contains NaN, infinity or a value too large for dtype('float64').",
          "traceback": [
            "\u001b[1;31m---------------------------------------------------------------------------\u001b[0m",
            "\u001b[1;31mValueError\u001b[0m                                Traceback (most recent call last)",
            "\u001b[1;32m<ipython-input-41-ddfc5b0d1c28>\u001b[0m in \u001b[0;36m<module>\u001b[1;34m\u001b[0m\n\u001b[0;32m     14\u001b[0m \u001b[1;33m\u001b[0m\u001b[0m\n\u001b[0;32m     15\u001b[0m         \u001b[0mperceptron\u001b[0m \u001b[1;33m=\u001b[0m \u001b[0mmodels_pg\u001b[0m\u001b[1;33m[\u001b[0m\u001b[0mi\u001b[0m\u001b[1;33m]\u001b[0m\u001b[1;33m\u001b[0m\u001b[1;33m\u001b[0m\u001b[0m\n\u001b[1;32m---> 16\u001b[1;33m         \u001b[0mperceptron\u001b[0m\u001b[1;33m.\u001b[0m\u001b[0mfit\u001b[0m\u001b[1;33m(\u001b[0m\u001b[0mX_train_std\u001b[0m\u001b[1;33m,\u001b[0m \u001b[0mY_train\u001b[0m\u001b[1;33m)\u001b[0m\u001b[1;33m\u001b[0m\u001b[1;33m\u001b[0m\u001b[0m\n\u001b[0m\u001b[0;32m     17\u001b[0m \u001b[1;33m\u001b[0m\u001b[0m\n\u001b[0;32m     18\u001b[0m         \u001b[0mY_pred_train\u001b[0m \u001b[1;33m=\u001b[0m \u001b[0mperceptron\u001b[0m\u001b[1;33m.\u001b[0m\u001b[0mpredict\u001b[0m\u001b[1;33m(\u001b[0m\u001b[0mX_train_std\u001b[0m\u001b[1;33m)\u001b[0m\u001b[1;33m\u001b[0m\u001b[1;33m\u001b[0m\u001b[0m\n",
            "\u001b[1;32m~\\AppData\\Local\\Programs\\Python\\Python37\\lib\\site-packages\\sklearn\\neural_network\\_multilayer_perceptron.py\u001b[0m in \u001b[0;36mfit\u001b[1;34m(self, X, y)\u001b[0m\n\u001b[0;32m   1026\u001b[0m         \"\"\"\n\u001b[0;32m   1027\u001b[0m         return self._fit(X, y, incremental=(self.warm_start and\n\u001b[1;32m-> 1028\u001b[1;33m                                             hasattr(self, \"classes_\")))\n\u001b[0m\u001b[0;32m   1029\u001b[0m \u001b[1;33m\u001b[0m\u001b[0m\n\u001b[0;32m   1030\u001b[0m     \u001b[1;33m@\u001b[0m\u001b[0mproperty\u001b[0m\u001b[1;33m\u001b[0m\u001b[1;33m\u001b[0m\u001b[0m\n",
            "\u001b[1;32m~\\AppData\\Local\\Programs\\Python\\Python37\\lib\\site-packages\\sklearn\\neural_network\\_multilayer_perceptron.py\u001b[0m in \u001b[0;36m_fit\u001b[1;34m(self, X, y, incremental)\u001b[0m\n\u001b[0;32m    324\u001b[0m                              hidden_layer_sizes)\n\u001b[0;32m    325\u001b[0m \u001b[1;33m\u001b[0m\u001b[0m\n\u001b[1;32m--> 326\u001b[1;33m         \u001b[0mX\u001b[0m\u001b[1;33m,\u001b[0m \u001b[0my\u001b[0m \u001b[1;33m=\u001b[0m \u001b[0mself\u001b[0m\u001b[1;33m.\u001b[0m\u001b[0m_validate_input\u001b[0m\u001b[1;33m(\u001b[0m\u001b[0mX\u001b[0m\u001b[1;33m,\u001b[0m \u001b[0my\u001b[0m\u001b[1;33m,\u001b[0m \u001b[0mincremental\u001b[0m\u001b[1;33m)\u001b[0m\u001b[1;33m\u001b[0m\u001b[1;33m\u001b[0m\u001b[0m\n\u001b[0m\u001b[0;32m    327\u001b[0m         \u001b[0mn_samples\u001b[0m\u001b[1;33m,\u001b[0m \u001b[0mn_features\u001b[0m \u001b[1;33m=\u001b[0m \u001b[0mX\u001b[0m\u001b[1;33m.\u001b[0m\u001b[0mshape\u001b[0m\u001b[1;33m\u001b[0m\u001b[1;33m\u001b[0m\u001b[0m\n\u001b[0;32m    328\u001b[0m \u001b[1;33m\u001b[0m\u001b[0m\n",
            "\u001b[1;32m~\\AppData\\Local\\Programs\\Python\\Python37\\lib\\site-packages\\sklearn\\neural_network\\_multilayer_perceptron.py\u001b[0m in \u001b[0;36m_validate_input\u001b[1;34m(self, X, y, incremental)\u001b[0m\n\u001b[0;32m    963\u001b[0m     \u001b[1;32mdef\u001b[0m \u001b[0m_validate_input\u001b[0m\u001b[1;33m(\u001b[0m\u001b[0mself\u001b[0m\u001b[1;33m,\u001b[0m \u001b[0mX\u001b[0m\u001b[1;33m,\u001b[0m \u001b[0my\u001b[0m\u001b[1;33m,\u001b[0m \u001b[0mincremental\u001b[0m\u001b[1;33m)\u001b[0m\u001b[1;33m:\u001b[0m\u001b[1;33m\u001b[0m\u001b[1;33m\u001b[0m\u001b[0m\n\u001b[0;32m    964\u001b[0m         X, y = self._validate_data(X, y, accept_sparse=['csr', 'csc'],\n\u001b[1;32m--> 965\u001b[1;33m                                    multi_output=True)\n\u001b[0m\u001b[0;32m    966\u001b[0m         \u001b[1;32mif\u001b[0m \u001b[0my\u001b[0m\u001b[1;33m.\u001b[0m\u001b[0mndim\u001b[0m \u001b[1;33m==\u001b[0m \u001b[1;36m2\u001b[0m \u001b[1;32mand\u001b[0m \u001b[0my\u001b[0m\u001b[1;33m.\u001b[0m\u001b[0mshape\u001b[0m\u001b[1;33m[\u001b[0m\u001b[1;36m1\u001b[0m\u001b[1;33m]\u001b[0m \u001b[1;33m==\u001b[0m \u001b[1;36m1\u001b[0m\u001b[1;33m:\u001b[0m\u001b[1;33m\u001b[0m\u001b[1;33m\u001b[0m\u001b[0m\n\u001b[0;32m    967\u001b[0m             \u001b[0my\u001b[0m \u001b[1;33m=\u001b[0m \u001b[0mcolumn_or_1d\u001b[0m\u001b[1;33m(\u001b[0m\u001b[0my\u001b[0m\u001b[1;33m,\u001b[0m \u001b[0mwarn\u001b[0m\u001b[1;33m=\u001b[0m\u001b[1;32mTrue\u001b[0m\u001b[1;33m)\u001b[0m\u001b[1;33m\u001b[0m\u001b[1;33m\u001b[0m\u001b[0m\n",
            "\u001b[1;32m~\\AppData\\Local\\Programs\\Python\\Python37\\lib\\site-packages\\sklearn\\base.py\u001b[0m in \u001b[0;36m_validate_data\u001b[1;34m(self, X, y, reset, validate_separately, **check_params)\u001b[0m\n\u001b[0;32m    430\u001b[0m                 \u001b[0my\u001b[0m \u001b[1;33m=\u001b[0m \u001b[0mcheck_array\u001b[0m\u001b[1;33m(\u001b[0m\u001b[0my\u001b[0m\u001b[1;33m,\u001b[0m \u001b[1;33m**\u001b[0m\u001b[0mcheck_y_params\u001b[0m\u001b[1;33m)\u001b[0m\u001b[1;33m\u001b[0m\u001b[1;33m\u001b[0m\u001b[0m\n\u001b[0;32m    431\u001b[0m             \u001b[1;32melse\u001b[0m\u001b[1;33m:\u001b[0m\u001b[1;33m\u001b[0m\u001b[1;33m\u001b[0m\u001b[0m\n\u001b[1;32m--> 432\u001b[1;33m                 \u001b[0mX\u001b[0m\u001b[1;33m,\u001b[0m \u001b[0my\u001b[0m \u001b[1;33m=\u001b[0m \u001b[0mcheck_X_y\u001b[0m\u001b[1;33m(\u001b[0m\u001b[0mX\u001b[0m\u001b[1;33m,\u001b[0m \u001b[0my\u001b[0m\u001b[1;33m,\u001b[0m \u001b[1;33m**\u001b[0m\u001b[0mcheck_params\u001b[0m\u001b[1;33m)\u001b[0m\u001b[1;33m\u001b[0m\u001b[1;33m\u001b[0m\u001b[0m\n\u001b[0m\u001b[0;32m    433\u001b[0m             \u001b[0mout\u001b[0m \u001b[1;33m=\u001b[0m \u001b[0mX\u001b[0m\u001b[1;33m,\u001b[0m \u001b[0my\u001b[0m\u001b[1;33m\u001b[0m\u001b[1;33m\u001b[0m\u001b[0m\n\u001b[0;32m    434\u001b[0m \u001b[1;33m\u001b[0m\u001b[0m\n",
            "\u001b[1;32m~\\AppData\\Local\\Programs\\Python\\Python37\\lib\\site-packages\\sklearn\\utils\\validation.py\u001b[0m in \u001b[0;36minner_f\u001b[1;34m(*args, **kwargs)\u001b[0m\n\u001b[0;32m     70\u001b[0m                           FutureWarning)\n\u001b[0;32m     71\u001b[0m         \u001b[0mkwargs\u001b[0m\u001b[1;33m.\u001b[0m\u001b[0mupdate\u001b[0m\u001b[1;33m(\u001b[0m\u001b[1;33m{\u001b[0m\u001b[0mk\u001b[0m\u001b[1;33m:\u001b[0m \u001b[0marg\u001b[0m \u001b[1;32mfor\u001b[0m \u001b[0mk\u001b[0m\u001b[1;33m,\u001b[0m \u001b[0marg\u001b[0m \u001b[1;32min\u001b[0m \u001b[0mzip\u001b[0m\u001b[1;33m(\u001b[0m\u001b[0msig\u001b[0m\u001b[1;33m.\u001b[0m\u001b[0mparameters\u001b[0m\u001b[1;33m,\u001b[0m \u001b[0margs\u001b[0m\u001b[1;33m)\u001b[0m\u001b[1;33m}\u001b[0m\u001b[1;33m)\u001b[0m\u001b[1;33m\u001b[0m\u001b[1;33m\u001b[0m\u001b[0m\n\u001b[1;32m---> 72\u001b[1;33m         \u001b[1;32mreturn\u001b[0m \u001b[0mf\u001b[0m\u001b[1;33m(\u001b[0m\u001b[1;33m**\u001b[0m\u001b[0mkwargs\u001b[0m\u001b[1;33m)\u001b[0m\u001b[1;33m\u001b[0m\u001b[1;33m\u001b[0m\u001b[0m\n\u001b[0m\u001b[0;32m     73\u001b[0m     \u001b[1;32mreturn\u001b[0m \u001b[0minner_f\u001b[0m\u001b[1;33m\u001b[0m\u001b[1;33m\u001b[0m\u001b[0m\n\u001b[0;32m     74\u001b[0m \u001b[1;33m\u001b[0m\u001b[0m\n",
            "\u001b[1;32m~\\AppData\\Local\\Programs\\Python\\Python37\\lib\\site-packages\\sklearn\\utils\\validation.py\u001b[0m in \u001b[0;36mcheck_X_y\u001b[1;34m(X, y, accept_sparse, accept_large_sparse, dtype, order, copy, force_all_finite, ensure_2d, allow_nd, multi_output, ensure_min_samples, ensure_min_features, y_numeric, estimator)\u001b[0m\n\u001b[0;32m    800\u001b[0m                     \u001b[0mensure_min_samples\u001b[0m\u001b[1;33m=\u001b[0m\u001b[0mensure_min_samples\u001b[0m\u001b[1;33m,\u001b[0m\u001b[1;33m\u001b[0m\u001b[1;33m\u001b[0m\u001b[0m\n\u001b[0;32m    801\u001b[0m                     \u001b[0mensure_min_features\u001b[0m\u001b[1;33m=\u001b[0m\u001b[0mensure_min_features\u001b[0m\u001b[1;33m,\u001b[0m\u001b[1;33m\u001b[0m\u001b[1;33m\u001b[0m\u001b[0m\n\u001b[1;32m--> 802\u001b[1;33m                     estimator=estimator)\n\u001b[0m\u001b[0;32m    803\u001b[0m     \u001b[1;32mif\u001b[0m \u001b[0mmulti_output\u001b[0m\u001b[1;33m:\u001b[0m\u001b[1;33m\u001b[0m\u001b[1;33m\u001b[0m\u001b[0m\n\u001b[0;32m    804\u001b[0m         y = check_array(y, accept_sparse='csr', force_all_finite=True,\n",
            "\u001b[1;32m~\\AppData\\Local\\Programs\\Python\\Python37\\lib\\site-packages\\sklearn\\utils\\validation.py\u001b[0m in \u001b[0;36minner_f\u001b[1;34m(*args, **kwargs)\u001b[0m\n\u001b[0;32m     70\u001b[0m                           FutureWarning)\n\u001b[0;32m     71\u001b[0m         \u001b[0mkwargs\u001b[0m\u001b[1;33m.\u001b[0m\u001b[0mupdate\u001b[0m\u001b[1;33m(\u001b[0m\u001b[1;33m{\u001b[0m\u001b[0mk\u001b[0m\u001b[1;33m:\u001b[0m \u001b[0marg\u001b[0m \u001b[1;32mfor\u001b[0m \u001b[0mk\u001b[0m\u001b[1;33m,\u001b[0m \u001b[0marg\u001b[0m \u001b[1;32min\u001b[0m \u001b[0mzip\u001b[0m\u001b[1;33m(\u001b[0m\u001b[0msig\u001b[0m\u001b[1;33m.\u001b[0m\u001b[0mparameters\u001b[0m\u001b[1;33m,\u001b[0m \u001b[0margs\u001b[0m\u001b[1;33m)\u001b[0m\u001b[1;33m}\u001b[0m\u001b[1;33m)\u001b[0m\u001b[1;33m\u001b[0m\u001b[1;33m\u001b[0m\u001b[0m\n\u001b[1;32m---> 72\u001b[1;33m         \u001b[1;32mreturn\u001b[0m \u001b[0mf\u001b[0m\u001b[1;33m(\u001b[0m\u001b[1;33m**\u001b[0m\u001b[0mkwargs\u001b[0m\u001b[1;33m)\u001b[0m\u001b[1;33m\u001b[0m\u001b[1;33m\u001b[0m\u001b[0m\n\u001b[0m\u001b[0;32m     73\u001b[0m     \u001b[1;32mreturn\u001b[0m \u001b[0minner_f\u001b[0m\u001b[1;33m\u001b[0m\u001b[1;33m\u001b[0m\u001b[0m\n\u001b[0;32m     74\u001b[0m \u001b[1;33m\u001b[0m\u001b[0m\n",
            "\u001b[1;32m~\\AppData\\Local\\Programs\\Python\\Python37\\lib\\site-packages\\sklearn\\utils\\validation.py\u001b[0m in \u001b[0;36mcheck_array\u001b[1;34m(array, accept_sparse, accept_large_sparse, dtype, order, copy, force_all_finite, ensure_2d, allow_nd, ensure_min_samples, ensure_min_features, estimator)\u001b[0m\n\u001b[0;32m    643\u001b[0m         \u001b[1;32mif\u001b[0m \u001b[0mforce_all_finite\u001b[0m\u001b[1;33m:\u001b[0m\u001b[1;33m\u001b[0m\u001b[1;33m\u001b[0m\u001b[0m\n\u001b[0;32m    644\u001b[0m             _assert_all_finite(array,\n\u001b[1;32m--> 645\u001b[1;33m                                allow_nan=force_all_finite == 'allow-nan')\n\u001b[0m\u001b[0;32m    646\u001b[0m \u001b[1;33m\u001b[0m\u001b[0m\n\u001b[0;32m    647\u001b[0m     \u001b[1;32mif\u001b[0m \u001b[0mensure_min_samples\u001b[0m \u001b[1;33m>\u001b[0m \u001b[1;36m0\u001b[0m\u001b[1;33m:\u001b[0m\u001b[1;33m\u001b[0m\u001b[1;33m\u001b[0m\u001b[0m\n",
            "\u001b[1;32m~\\AppData\\Local\\Programs\\Python\\Python37\\lib\\site-packages\\sklearn\\utils\\validation.py\u001b[0m in \u001b[0;36m_assert_all_finite\u001b[1;34m(X, allow_nan, msg_dtype)\u001b[0m\n\u001b[0;32m     97\u001b[0m                     \u001b[0mmsg_err\u001b[0m\u001b[1;33m.\u001b[0m\u001b[0mformat\u001b[0m\u001b[1;33m\u001b[0m\u001b[1;33m\u001b[0m\u001b[0m\n\u001b[0;32m     98\u001b[0m                     (type_err,\n\u001b[1;32m---> 99\u001b[1;33m                      msg_dtype if msg_dtype is not None else X.dtype)\n\u001b[0m\u001b[0;32m    100\u001b[0m             )\n\u001b[0;32m    101\u001b[0m     \u001b[1;31m# for object dtype data, we only check for NaNs (GH-13254)\u001b[0m\u001b[1;33m\u001b[0m\u001b[1;33m\u001b[0m\u001b[1;33m\u001b[0m\u001b[0m\n",
            "\u001b[1;31mValueError\u001b[0m: Input contains NaN, infinity or a value too large for dtype('float64')."
          ]
        }
      ],
      "source": [
        "accuracies_pg, f_scores_pg = [], []\n",
        "for i in models_pg:\n",
        "    accuracies_pg.append([])\n",
        "    f_scores_pg.append([])\n",
        "\n",
        "for i in range(len(models_pg)):\n",
        "    for j in range(10):\n",
        "        X_train, X_test, Y_train, Y_test = train_test_split(X, Y, test_size=0.3, shuffle=True)\n",
        "            \n",
        "        X_train_std = (X_train - np.mean(X_train)) / np.std(X_train)\n",
        "        X_test_std = (X_test - np.mean(X_train)) / np.std(X_train)\n",
        "        \n",
        "        X_train_std.replace([np.inf, -np.inf], np.nan, inplace=True)\n",
        "\n",
        "        perceptron = models_pg[i]\n",
        "        perceptron.fit(X_train_std, Y_train)\n",
        "\n",
        "        Y_pred_train = perceptron.predict(X_train_std)\n",
        "            \n",
        "        accuracy = accuracy_score(Y_train, Y_pred_train)\n",
        "        accuracies_pg[i].append(accuracy)\n",
        "        \n",
        "        f_score = f1_score(Y_train, Y_pred_train, average='macro')\n",
        "        f_scores_pg[i].append(f_score)"
      ]
    },
    {
      "cell_type": "code",
      "execution_count": 47,
      "metadata": {},
      "outputs": [],
      "source": [
        "medias_acuracias_pg, medias_fscores_pg, dp_acuracias_pg, dp_fscores_pg = [], [], [], []\n",
        "for i in range(0, len(models_pg)-2, 1):\n",
        "    media = np.mean(accuracies_pg[i])\n",
        "    desvio_padrao = np.std(accuracies_pg[i])\n",
        "    \n",
        "    medias_acuracias_pg.append(media)\n",
        "    dp_acuracias_pg.append(desvio_padrao)\n",
        "\n",
        "    media = np.mean(f_scores_pg[i])\n",
        "    desvio_padrao = np.std(f_scores_pg[i])\n",
        "\n",
        "    medias_fscores_pg.append(media)\n",
        "    dp_fscores_pg.append(desvio_padrao)"
      ]
    },
    {
      "cell_type": "code",
      "execution_count": 51,
      "metadata": {},
      "outputs": [
        {
          "output_type": "stream",
          "name": "stdout",
          "text": [
            "Modelo: MLPClassifier(hidden_layer_sizes=(16, 8))\nMédia da Acurácia: 0.7919 \nDesvio padrão da Acurácia: 0.0026\nMédia do F-Score: 0.6528 \nDesvio padrão do F-Score: 0.0147\n\n\nModelo: MLPClassifier(hidden_layer_sizes=25, solver='sgd')\nMédia da Acurácia: 0.7952 \nDesvio padrão da Acurácia: 0.0025\nMédia do F-Score: 0.6466 \nDesvio padrão do F-Score: 0.0080\n\n\nModelo: MLPClassifier(hidden_layer_sizes=(14, 8), solver='sgd')\nMédia da Acurácia: 0.7838 \nDesvio padrão da Acurácia: 0.0042\nMédia do F-Score: 0.6232 \nDesvio padrão do F-Score: 0.0160\n\n\n"
          ]
        }
      ],
      "source": [
        "for i in range(0, len(models_pg)-2, 1):\n",
        "    print(\"Modelo:\",models_pg[i])\n",
        "    print(\"Média da Acurácia: %.4f \"%medias_acuracias_pg[i])\n",
        "    print(\"Desvio padrão da Acurácia: %.4f\" %dp_acuracias_pg[i])\n",
        "    print(\"Média do F-Score: %.4f \"%medias_fscores_pg[i])\n",
        "    print(\"Desvio padrão do F-Score: %.4f\" %dp_fscores_pg[i])\n",
        "    print(\"\\n\")"
      ]
    },
    {
      "source": [
        "#### 3. Apresente o gráfico boxplot para o F-Score das 6 arquiteturas perante as 100 repetições"
      ],
      "cell_type": "markdown",
      "metadata": {}
    },
    {
      "cell_type": "code",
      "execution_count": 49,
      "metadata": {},
      "outputs": [
        {
          "output_type": "display_data",
          "data": {
            "text/plain": "<Figure size 1440x360 with 1 Axes>",
            "image/svg+xml": "<?xml version=\"1.0\" encoding=\"utf-8\" standalone=\"no\"?>\r\n<!DOCTYPE svg PUBLIC \"-//W3C//DTD SVG 1.1//EN\"\r\n  \"http://www.w3.org/Graphics/SVG/1.1/DTD/svg11.dtd\">\r\n<!-- Created with matplotlib (https://matplotlib.org/) -->\r\n<svg height=\"306.550181pt\" version=\"1.1\" viewBox=\"0 0 1159.665625 306.550181\" width=\"1159.665625pt\" xmlns=\"http://www.w3.org/2000/svg\" xmlns:xlink=\"http://www.w3.org/1999/xlink\">\r\n <metadata>\r\n  <rdf:RDF xmlns:cc=\"http://creativecommons.org/ns#\" xmlns:dc=\"http://purl.org/dc/elements/1.1/\" xmlns:rdf=\"http://www.w3.org/1999/02/22-rdf-syntax-ns#\">\r\n   <cc:Work>\r\n    <dc:type rdf:resource=\"http://purl.org/dc/dcmitype/StillImage\"/>\r\n    <dc:date>2020-10-24T20:12:44.844194</dc:date>\r\n    <dc:format>image/svg+xml</dc:format>\r\n    <dc:creator>\r\n     <cc:Agent>\r\n      <dc:title>Matplotlib v3.3.1, https://matplotlib.org/</dc:title>\r\n     </cc:Agent>\r\n    </dc:creator>\r\n   </cc:Work>\r\n  </rdf:RDF>\r\n </metadata>\r\n <defs>\r\n  <style type=\"text/css\">*{stroke-linecap:butt;stroke-linejoin:round;}</style>\r\n </defs>\r\n <g id=\"figure_1\">\r\n  <g id=\"patch_1\">\r\n   <path d=\"M 0 306.550181 \r\nL 1159.665625 306.550181 \r\nL 1159.665625 0 \r\nL 0 0 \r\nz\r\n\" style=\"fill:none;\"/>\r\n  </g>\r\n  <g id=\"axes_1\">\r\n   <g id=\"patch_2\">\r\n    <path d=\"M 36.465625 282.393931 \r\nL 1152.465625 282.393931 \r\nL 1152.465625 10.593931 \r\nL 36.465625 10.593931 \r\nz\r\n\" style=\"fill:#ffffff;\"/>\r\n   </g>\r\n   <g id=\"matplotlib.axis_1\">\r\n    <g id=\"xtick_1\">\r\n     <g id=\"line2d_1\">\r\n      <defs>\r\n       <path d=\"M 0 0 \r\nL 0 3.5 \r\n\" id=\"mb24d375347\" style=\"stroke:#000000;stroke-width:0.8;\"/>\r\n      </defs>\r\n      <g>\r\n       <use style=\"stroke:#000000;stroke-width:0.8;\" x=\"222.465625\" xlink:href=\"#mb24d375347\" y=\"282.393931\"/>\r\n      </g>\r\n     </g>\r\n     <g id=\"text_1\">\r\n      <!-- MLPClassifier(hidden_layer_sizes=(16, 8)) -->\r\n      <g transform=\"translate(117.816406 296.992368)scale(0.1 -0.1)\">\r\n       <defs>\r\n        <path d=\"M 9.8125 72.90625 \r\nL 24.515625 72.90625 \r\nL 43.109375 23.296875 \r\nL 61.8125 72.90625 \r\nL 76.515625 72.90625 \r\nL 76.515625 0 \r\nL 66.890625 0 \r\nL 66.890625 64.015625 \r\nL 48.09375 14.015625 \r\nL 38.1875 14.015625 \r\nL 19.390625 64.015625 \r\nL 19.390625 0 \r\nL 9.8125 0 \r\nz\r\n\" id=\"DejaVuSans-77\"/>\r\n        <path d=\"M 9.8125 72.90625 \r\nL 19.671875 72.90625 \r\nL 19.671875 8.296875 \r\nL 55.171875 8.296875 \r\nL 55.171875 0 \r\nL 9.8125 0 \r\nz\r\n\" id=\"DejaVuSans-76\"/>\r\n        <path d=\"M 19.671875 64.796875 \r\nL 19.671875 37.40625 \r\nL 32.078125 37.40625 \r\nQ 38.96875 37.40625 42.71875 40.96875 \r\nQ 46.484375 44.53125 46.484375 51.125 \r\nQ 46.484375 57.671875 42.71875 61.234375 \r\nQ 38.96875 64.796875 32.078125 64.796875 \r\nz\r\nM 9.8125 72.90625 \r\nL 32.078125 72.90625 \r\nQ 44.34375 72.90625 50.609375 67.359375 \r\nQ 56.890625 61.8125 56.890625 51.125 \r\nQ 56.890625 40.328125 50.609375 34.8125 \r\nQ 44.34375 29.296875 32.078125 29.296875 \r\nL 19.671875 29.296875 \r\nL 19.671875 0 \r\nL 9.8125 0 \r\nz\r\n\" id=\"DejaVuSans-80\"/>\r\n        <path d=\"M 64.40625 67.28125 \r\nL 64.40625 56.890625 \r\nQ 59.421875 61.53125 53.78125 63.8125 \r\nQ 48.140625 66.109375 41.796875 66.109375 \r\nQ 29.296875 66.109375 22.65625 58.46875 \r\nQ 16.015625 50.828125 16.015625 36.375 \r\nQ 16.015625 21.96875 22.65625 14.328125 \r\nQ 29.296875 6.6875 41.796875 6.6875 \r\nQ 48.140625 6.6875 53.78125 8.984375 \r\nQ 59.421875 11.28125 64.40625 15.921875 \r\nL 64.40625 5.609375 \r\nQ 59.234375 2.09375 53.4375 0.328125 \r\nQ 47.65625 -1.421875 41.21875 -1.421875 \r\nQ 24.65625 -1.421875 15.125 8.703125 \r\nQ 5.609375 18.84375 5.609375 36.375 \r\nQ 5.609375 53.953125 15.125 64.078125 \r\nQ 24.65625 74.21875 41.21875 74.21875 \r\nQ 47.75 74.21875 53.53125 72.484375 \r\nQ 59.328125 70.75 64.40625 67.28125 \r\nz\r\n\" id=\"DejaVuSans-67\"/>\r\n        <path d=\"M 9.421875 75.984375 \r\nL 18.40625 75.984375 \r\nL 18.40625 0 \r\nL 9.421875 0 \r\nz\r\n\" id=\"DejaVuSans-108\"/>\r\n        <path d=\"M 34.28125 27.484375 \r\nQ 23.390625 27.484375 19.1875 25 \r\nQ 14.984375 22.515625 14.984375 16.5 \r\nQ 14.984375 11.71875 18.140625 8.90625 \r\nQ 21.296875 6.109375 26.703125 6.109375 \r\nQ 34.1875 6.109375 38.703125 11.40625 \r\nQ 43.21875 16.703125 43.21875 25.484375 \r\nL 43.21875 27.484375 \r\nz\r\nM 52.203125 31.203125 \r\nL 52.203125 0 \r\nL 43.21875 0 \r\nL 43.21875 8.296875 \r\nQ 40.140625 3.328125 35.546875 0.953125 \r\nQ 30.953125 -1.421875 24.3125 -1.421875 \r\nQ 15.921875 -1.421875 10.953125 3.296875 \r\nQ 6 8.015625 6 15.921875 \r\nQ 6 25.140625 12.171875 29.828125 \r\nQ 18.359375 34.515625 30.609375 34.515625 \r\nL 43.21875 34.515625 \r\nL 43.21875 35.40625 \r\nQ 43.21875 41.609375 39.140625 45 \r\nQ 35.0625 48.390625 27.6875 48.390625 \r\nQ 23 48.390625 18.546875 47.265625 \r\nQ 14.109375 46.140625 10.015625 43.890625 \r\nL 10.015625 52.203125 \r\nQ 14.9375 54.109375 19.578125 55.046875 \r\nQ 24.21875 56 28.609375 56 \r\nQ 40.484375 56 46.34375 49.84375 \r\nQ 52.203125 43.703125 52.203125 31.203125 \r\nz\r\n\" id=\"DejaVuSans-97\"/>\r\n        <path d=\"M 44.28125 53.078125 \r\nL 44.28125 44.578125 \r\nQ 40.484375 46.53125 36.375 47.5 \r\nQ 32.28125 48.484375 27.875 48.484375 \r\nQ 21.1875 48.484375 17.84375 46.4375 \r\nQ 14.5 44.390625 14.5 40.28125 \r\nQ 14.5 37.15625 16.890625 35.375 \r\nQ 19.28125 33.59375 26.515625 31.984375 \r\nL 29.59375 31.296875 \r\nQ 39.15625 29.25 43.1875 25.515625 \r\nQ 47.21875 21.78125 47.21875 15.09375 \r\nQ 47.21875 7.46875 41.1875 3.015625 \r\nQ 35.15625 -1.421875 24.609375 -1.421875 \r\nQ 20.21875 -1.421875 15.453125 -0.5625 \r\nQ 10.6875 0.296875 5.421875 2 \r\nL 5.421875 11.28125 \r\nQ 10.40625 8.6875 15.234375 7.390625 \r\nQ 20.0625 6.109375 24.8125 6.109375 \r\nQ 31.15625 6.109375 34.5625 8.28125 \r\nQ 37.984375 10.453125 37.984375 14.40625 \r\nQ 37.984375 18.0625 35.515625 20.015625 \r\nQ 33.0625 21.96875 24.703125 23.78125 \r\nL 21.578125 24.515625 \r\nQ 13.234375 26.265625 9.515625 29.90625 \r\nQ 5.8125 33.546875 5.8125 39.890625 \r\nQ 5.8125 47.609375 11.28125 51.796875 \r\nQ 16.75 56 26.8125 56 \r\nQ 31.78125 56 36.171875 55.265625 \r\nQ 40.578125 54.546875 44.28125 53.078125 \r\nz\r\n\" id=\"DejaVuSans-115\"/>\r\n        <path d=\"M 9.421875 54.6875 \r\nL 18.40625 54.6875 \r\nL 18.40625 0 \r\nL 9.421875 0 \r\nz\r\nM 9.421875 75.984375 \r\nL 18.40625 75.984375 \r\nL 18.40625 64.59375 \r\nL 9.421875 64.59375 \r\nz\r\n\" id=\"DejaVuSans-105\"/>\r\n        <path d=\"M 37.109375 75.984375 \r\nL 37.109375 68.5 \r\nL 28.515625 68.5 \r\nQ 23.6875 68.5 21.796875 66.546875 \r\nQ 19.921875 64.59375 19.921875 59.515625 \r\nL 19.921875 54.6875 \r\nL 34.71875 54.6875 \r\nL 34.71875 47.703125 \r\nL 19.921875 47.703125 \r\nL 19.921875 0 \r\nL 10.890625 0 \r\nL 10.890625 47.703125 \r\nL 2.296875 47.703125 \r\nL 2.296875 54.6875 \r\nL 10.890625 54.6875 \r\nL 10.890625 58.5 \r\nQ 10.890625 67.625 15.140625 71.796875 \r\nQ 19.390625 75.984375 28.609375 75.984375 \r\nz\r\n\" id=\"DejaVuSans-102\"/>\r\n        <path d=\"M 56.203125 29.59375 \r\nL 56.203125 25.203125 \r\nL 14.890625 25.203125 \r\nQ 15.484375 15.921875 20.484375 11.0625 \r\nQ 25.484375 6.203125 34.421875 6.203125 \r\nQ 39.59375 6.203125 44.453125 7.46875 \r\nQ 49.3125 8.734375 54.109375 11.28125 \r\nL 54.109375 2.78125 \r\nQ 49.265625 0.734375 44.1875 -0.34375 \r\nQ 39.109375 -1.421875 33.890625 -1.421875 \r\nQ 20.796875 -1.421875 13.15625 6.1875 \r\nQ 5.515625 13.8125 5.515625 26.8125 \r\nQ 5.515625 40.234375 12.765625 48.109375 \r\nQ 20.015625 56 32.328125 56 \r\nQ 43.359375 56 49.78125 48.890625 \r\nQ 56.203125 41.796875 56.203125 29.59375 \r\nz\r\nM 47.21875 32.234375 \r\nQ 47.125 39.59375 43.09375 43.984375 \r\nQ 39.0625 48.390625 32.421875 48.390625 \r\nQ 24.90625 48.390625 20.390625 44.140625 \r\nQ 15.875 39.890625 15.1875 32.171875 \r\nz\r\n\" id=\"DejaVuSans-101\"/>\r\n        <path d=\"M 41.109375 46.296875 \r\nQ 39.59375 47.171875 37.8125 47.578125 \r\nQ 36.03125 48 33.890625 48 \r\nQ 26.265625 48 22.1875 43.046875 \r\nQ 18.109375 38.09375 18.109375 28.8125 \r\nL 18.109375 0 \r\nL 9.078125 0 \r\nL 9.078125 54.6875 \r\nL 18.109375 54.6875 \r\nL 18.109375 46.1875 \r\nQ 20.953125 51.171875 25.484375 53.578125 \r\nQ 30.03125 56 36.53125 56 \r\nQ 37.453125 56 38.578125 55.875 \r\nQ 39.703125 55.765625 41.0625 55.515625 \r\nz\r\n\" id=\"DejaVuSans-114\"/>\r\n        <path d=\"M 31 75.875 \r\nQ 24.46875 64.65625 21.28125 53.65625 \r\nQ 18.109375 42.671875 18.109375 31.390625 \r\nQ 18.109375 20.125 21.3125 9.0625 \r\nQ 24.515625 -2 31 -13.1875 \r\nL 23.1875 -13.1875 \r\nQ 15.875 -1.703125 12.234375 9.375 \r\nQ 8.59375 20.453125 8.59375 31.390625 \r\nQ 8.59375 42.28125 12.203125 53.3125 \r\nQ 15.828125 64.359375 23.1875 75.875 \r\nz\r\n\" id=\"DejaVuSans-40\"/>\r\n        <path d=\"M 54.890625 33.015625 \r\nL 54.890625 0 \r\nL 45.90625 0 \r\nL 45.90625 32.71875 \r\nQ 45.90625 40.484375 42.875 44.328125 \r\nQ 39.84375 48.1875 33.796875 48.1875 \r\nQ 26.515625 48.1875 22.3125 43.546875 \r\nQ 18.109375 38.921875 18.109375 30.90625 \r\nL 18.109375 0 \r\nL 9.078125 0 \r\nL 9.078125 75.984375 \r\nL 18.109375 75.984375 \r\nL 18.109375 46.1875 \r\nQ 21.34375 51.125 25.703125 53.5625 \r\nQ 30.078125 56 35.796875 56 \r\nQ 45.21875 56 50.046875 50.171875 \r\nQ 54.890625 44.34375 54.890625 33.015625 \r\nz\r\n\" id=\"DejaVuSans-104\"/>\r\n        <path d=\"M 45.40625 46.390625 \r\nL 45.40625 75.984375 \r\nL 54.390625 75.984375 \r\nL 54.390625 0 \r\nL 45.40625 0 \r\nL 45.40625 8.203125 \r\nQ 42.578125 3.328125 38.25 0.953125 \r\nQ 33.9375 -1.421875 27.875 -1.421875 \r\nQ 17.96875 -1.421875 11.734375 6.484375 \r\nQ 5.515625 14.40625 5.515625 27.296875 \r\nQ 5.515625 40.1875 11.734375 48.09375 \r\nQ 17.96875 56 27.875 56 \r\nQ 33.9375 56 38.25 53.625 \r\nQ 42.578125 51.265625 45.40625 46.390625 \r\nz\r\nM 14.796875 27.296875 \r\nQ 14.796875 17.390625 18.875 11.75 \r\nQ 22.953125 6.109375 30.078125 6.109375 \r\nQ 37.203125 6.109375 41.296875 11.75 \r\nQ 45.40625 17.390625 45.40625 27.296875 \r\nQ 45.40625 37.203125 41.296875 42.84375 \r\nQ 37.203125 48.484375 30.078125 48.484375 \r\nQ 22.953125 48.484375 18.875 42.84375 \r\nQ 14.796875 37.203125 14.796875 27.296875 \r\nz\r\n\" id=\"DejaVuSans-100\"/>\r\n        <path d=\"M 54.890625 33.015625 \r\nL 54.890625 0 \r\nL 45.90625 0 \r\nL 45.90625 32.71875 \r\nQ 45.90625 40.484375 42.875 44.328125 \r\nQ 39.84375 48.1875 33.796875 48.1875 \r\nQ 26.515625 48.1875 22.3125 43.546875 \r\nQ 18.109375 38.921875 18.109375 30.90625 \r\nL 18.109375 0 \r\nL 9.078125 0 \r\nL 9.078125 54.6875 \r\nL 18.109375 54.6875 \r\nL 18.109375 46.1875 \r\nQ 21.34375 51.125 25.703125 53.5625 \r\nQ 30.078125 56 35.796875 56 \r\nQ 45.21875 56 50.046875 50.171875 \r\nQ 54.890625 44.34375 54.890625 33.015625 \r\nz\r\n\" id=\"DejaVuSans-110\"/>\r\n        <path d=\"M 50.984375 -16.609375 \r\nL 50.984375 -23.578125 \r\nL -0.984375 -23.578125 \r\nL -0.984375 -16.609375 \r\nz\r\n\" id=\"DejaVuSans-95\"/>\r\n        <path d=\"M 32.171875 -5.078125 \r\nQ 28.375 -14.84375 24.75 -17.8125 \r\nQ 21.140625 -20.796875 15.09375 -20.796875 \r\nL 7.90625 -20.796875 \r\nL 7.90625 -13.28125 \r\nL 13.1875 -13.28125 \r\nQ 16.890625 -13.28125 18.9375 -11.515625 \r\nQ 21 -9.765625 23.484375 -3.21875 \r\nL 25.09375 0.875 \r\nL 2.984375 54.6875 \r\nL 12.5 54.6875 \r\nL 29.59375 11.921875 \r\nL 46.6875 54.6875 \r\nL 56.203125 54.6875 \r\nz\r\n\" id=\"DejaVuSans-121\"/>\r\n        <path d=\"M 5.515625 54.6875 \r\nL 48.1875 54.6875 \r\nL 48.1875 46.484375 \r\nL 14.40625 7.171875 \r\nL 48.1875 7.171875 \r\nL 48.1875 0 \r\nL 4.296875 0 \r\nL 4.296875 8.203125 \r\nL 38.09375 47.515625 \r\nL 5.515625 47.515625 \r\nz\r\n\" id=\"DejaVuSans-122\"/>\r\n        <path d=\"M 10.59375 45.40625 \r\nL 73.1875 45.40625 \r\nL 73.1875 37.203125 \r\nL 10.59375 37.203125 \r\nz\r\nM 10.59375 25.484375 \r\nL 73.1875 25.484375 \r\nL 73.1875 17.1875 \r\nL 10.59375 17.1875 \r\nz\r\n\" id=\"DejaVuSans-61\"/>\r\n        <path d=\"M 12.40625 8.296875 \r\nL 28.515625 8.296875 \r\nL 28.515625 63.921875 \r\nL 10.984375 60.40625 \r\nL 10.984375 69.390625 \r\nL 28.421875 72.90625 \r\nL 38.28125 72.90625 \r\nL 38.28125 8.296875 \r\nL 54.390625 8.296875 \r\nL 54.390625 0 \r\nL 12.40625 0 \r\nz\r\n\" id=\"DejaVuSans-49\"/>\r\n        <path d=\"M 33.015625 40.375 \r\nQ 26.375 40.375 22.484375 35.828125 \r\nQ 18.609375 31.296875 18.609375 23.390625 \r\nQ 18.609375 15.53125 22.484375 10.953125 \r\nQ 26.375 6.390625 33.015625 6.390625 \r\nQ 39.65625 6.390625 43.53125 10.953125 \r\nQ 47.40625 15.53125 47.40625 23.390625 \r\nQ 47.40625 31.296875 43.53125 35.828125 \r\nQ 39.65625 40.375 33.015625 40.375 \r\nz\r\nM 52.59375 71.296875 \r\nL 52.59375 62.3125 \r\nQ 48.875 64.0625 45.09375 64.984375 \r\nQ 41.3125 65.921875 37.59375 65.921875 \r\nQ 27.828125 65.921875 22.671875 59.328125 \r\nQ 17.53125 52.734375 16.796875 39.40625 \r\nQ 19.671875 43.65625 24.015625 45.921875 \r\nQ 28.375 48.1875 33.59375 48.1875 \r\nQ 44.578125 48.1875 50.953125 41.515625 \r\nQ 57.328125 34.859375 57.328125 23.390625 \r\nQ 57.328125 12.15625 50.6875 5.359375 \r\nQ 44.046875 -1.421875 33.015625 -1.421875 \r\nQ 20.359375 -1.421875 13.671875 8.265625 \r\nQ 6.984375 17.96875 6.984375 36.375 \r\nQ 6.984375 53.65625 15.1875 63.9375 \r\nQ 23.390625 74.21875 37.203125 74.21875 \r\nQ 40.921875 74.21875 44.703125 73.484375 \r\nQ 48.484375 72.75 52.59375 71.296875 \r\nz\r\n\" id=\"DejaVuSans-54\"/>\r\n        <path d=\"M 11.71875 12.40625 \r\nL 22.015625 12.40625 \r\nL 22.015625 4 \r\nL 14.015625 -11.625 \r\nL 7.71875 -11.625 \r\nL 11.71875 4 \r\nz\r\n\" id=\"DejaVuSans-44\"/>\r\n        <path id=\"DejaVuSans-32\"/>\r\n        <path d=\"M 31.78125 34.625 \r\nQ 24.75 34.625 20.71875 30.859375 \r\nQ 16.703125 27.09375 16.703125 20.515625 \r\nQ 16.703125 13.921875 20.71875 10.15625 \r\nQ 24.75 6.390625 31.78125 6.390625 \r\nQ 38.8125 6.390625 42.859375 10.171875 \r\nQ 46.921875 13.96875 46.921875 20.515625 \r\nQ 46.921875 27.09375 42.890625 30.859375 \r\nQ 38.875 34.625 31.78125 34.625 \r\nz\r\nM 21.921875 38.8125 \r\nQ 15.578125 40.375 12.03125 44.71875 \r\nQ 8.5 49.078125 8.5 55.328125 \r\nQ 8.5 64.0625 14.71875 69.140625 \r\nQ 20.953125 74.21875 31.78125 74.21875 \r\nQ 42.671875 74.21875 48.875 69.140625 \r\nQ 55.078125 64.0625 55.078125 55.328125 \r\nQ 55.078125 49.078125 51.53125 44.71875 \r\nQ 48 40.375 41.703125 38.8125 \r\nQ 48.828125 37.15625 52.796875 32.3125 \r\nQ 56.78125 27.484375 56.78125 20.515625 \r\nQ 56.78125 9.90625 50.3125 4.234375 \r\nQ 43.84375 -1.421875 31.78125 -1.421875 \r\nQ 19.734375 -1.421875 13.25 4.234375 \r\nQ 6.78125 9.90625 6.78125 20.515625 \r\nQ 6.78125 27.484375 10.78125 32.3125 \r\nQ 14.796875 37.15625 21.921875 38.8125 \r\nz\r\nM 18.3125 54.390625 \r\nQ 18.3125 48.734375 21.84375 45.5625 \r\nQ 25.390625 42.390625 31.78125 42.390625 \r\nQ 38.140625 42.390625 41.71875 45.5625 \r\nQ 45.3125 48.734375 45.3125 54.390625 \r\nQ 45.3125 60.0625 41.71875 63.234375 \r\nQ 38.140625 66.40625 31.78125 66.40625 \r\nQ 25.390625 66.40625 21.84375 63.234375 \r\nQ 18.3125 60.0625 18.3125 54.390625 \r\nz\r\n\" id=\"DejaVuSans-56\"/>\r\n        <path d=\"M 8.015625 75.875 \r\nL 15.828125 75.875 \r\nQ 23.140625 64.359375 26.78125 53.3125 \r\nQ 30.421875 42.28125 30.421875 31.390625 \r\nQ 30.421875 20.453125 26.78125 9.375 \r\nQ 23.140625 -1.703125 15.828125 -13.1875 \r\nL 8.015625 -13.1875 \r\nQ 14.5 -2 17.703125 9.0625 \r\nQ 20.90625 20.125 20.90625 31.390625 \r\nQ 20.90625 42.671875 17.703125 53.65625 \r\nQ 14.5 64.65625 8.015625 75.875 \r\nz\r\n\" id=\"DejaVuSans-41\"/>\r\n       </defs>\r\n       <use xlink:href=\"#DejaVuSans-77\"/>\r\n       <use x=\"86.279297\" xlink:href=\"#DejaVuSans-76\"/>\r\n       <use x=\"141.992188\" xlink:href=\"#DejaVuSans-80\"/>\r\n       <use x=\"202.294922\" xlink:href=\"#DejaVuSans-67\"/>\r\n       <use x=\"272.119141\" xlink:href=\"#DejaVuSans-108\"/>\r\n       <use x=\"299.902344\" xlink:href=\"#DejaVuSans-97\"/>\r\n       <use x=\"361.181641\" xlink:href=\"#DejaVuSans-115\"/>\r\n       <use x=\"413.28125\" xlink:href=\"#DejaVuSans-115\"/>\r\n       <use x=\"465.380859\" xlink:href=\"#DejaVuSans-105\"/>\r\n       <use x=\"493.164062\" xlink:href=\"#DejaVuSans-102\"/>\r\n       <use x=\"528.369141\" xlink:href=\"#DejaVuSans-105\"/>\r\n       <use x=\"556.152344\" xlink:href=\"#DejaVuSans-101\"/>\r\n       <use x=\"617.675781\" xlink:href=\"#DejaVuSans-114\"/>\r\n       <use x=\"658.789062\" xlink:href=\"#DejaVuSans-40\"/>\r\n       <use x=\"697.802734\" xlink:href=\"#DejaVuSans-104\"/>\r\n       <use x=\"761.181641\" xlink:href=\"#DejaVuSans-105\"/>\r\n       <use x=\"788.964844\" xlink:href=\"#DejaVuSans-100\"/>\r\n       <use x=\"852.441406\" xlink:href=\"#DejaVuSans-100\"/>\r\n       <use x=\"915.917969\" xlink:href=\"#DejaVuSans-101\"/>\r\n       <use x=\"977.441406\" xlink:href=\"#DejaVuSans-110\"/>\r\n       <use x=\"1040.820312\" xlink:href=\"#DejaVuSans-95\"/>\r\n       <use x=\"1090.820312\" xlink:href=\"#DejaVuSans-108\"/>\r\n       <use x=\"1118.603516\" xlink:href=\"#DejaVuSans-97\"/>\r\n       <use x=\"1179.882812\" xlink:href=\"#DejaVuSans-121\"/>\r\n       <use x=\"1239.0625\" xlink:href=\"#DejaVuSans-101\"/>\r\n       <use x=\"1300.585938\" xlink:href=\"#DejaVuSans-114\"/>\r\n       <use x=\"1341.699219\" xlink:href=\"#DejaVuSans-95\"/>\r\n       <use x=\"1391.699219\" xlink:href=\"#DejaVuSans-115\"/>\r\n       <use x=\"1443.798828\" xlink:href=\"#DejaVuSans-105\"/>\r\n       <use x=\"1471.582031\" xlink:href=\"#DejaVuSans-122\"/>\r\n       <use x=\"1524.072266\" xlink:href=\"#DejaVuSans-101\"/>\r\n       <use x=\"1585.595703\" xlink:href=\"#DejaVuSans-115\"/>\r\n       <use x=\"1637.695312\" xlink:href=\"#DejaVuSans-61\"/>\r\n       <use x=\"1721.484375\" xlink:href=\"#DejaVuSans-40\"/>\r\n       <use x=\"1760.498047\" xlink:href=\"#DejaVuSans-49\"/>\r\n       <use x=\"1824.121094\" xlink:href=\"#DejaVuSans-54\"/>\r\n       <use x=\"1887.744141\" xlink:href=\"#DejaVuSans-44\"/>\r\n       <use x=\"1919.53125\" xlink:href=\"#DejaVuSans-32\"/>\r\n       <use x=\"1951.318359\" xlink:href=\"#DejaVuSans-56\"/>\r\n       <use x=\"2014.941406\" xlink:href=\"#DejaVuSans-41\"/>\r\n       <use x=\"2053.955078\" xlink:href=\"#DejaVuSans-41\"/>\r\n      </g>\r\n     </g>\r\n    </g>\r\n    <g id=\"xtick_2\">\r\n     <g id=\"line2d_2\">\r\n      <g>\r\n       <use style=\"stroke:#000000;stroke-width:0.8;\" x=\"594.465625\" xlink:href=\"#mb24d375347\" y=\"282.393931\"/>\r\n      </g>\r\n     </g>\r\n     <g id=\"text_2\">\r\n      <!-- MLPClassifier(hidden_layer_sizes=25, solver='sgd') -->\r\n      <g transform=\"translate(465.863281 296.992368)scale(0.1 -0.1)\">\r\n       <defs>\r\n        <path d=\"M 19.1875 8.296875 \r\nL 53.609375 8.296875 \r\nL 53.609375 0 \r\nL 7.328125 0 \r\nL 7.328125 8.296875 \r\nQ 12.9375 14.109375 22.625 23.890625 \r\nQ 32.328125 33.6875 34.8125 36.53125 \r\nQ 39.546875 41.84375 41.421875 45.53125 \r\nQ 43.3125 49.21875 43.3125 52.78125 \r\nQ 43.3125 58.59375 39.234375 62.25 \r\nQ 35.15625 65.921875 28.609375 65.921875 \r\nQ 23.96875 65.921875 18.8125 64.3125 \r\nQ 13.671875 62.703125 7.8125 59.421875 \r\nL 7.8125 69.390625 \r\nQ 13.765625 71.78125 18.9375 73 \r\nQ 24.125 74.21875 28.421875 74.21875 \r\nQ 39.75 74.21875 46.484375 68.546875 \r\nQ 53.21875 62.890625 53.21875 53.421875 \r\nQ 53.21875 48.921875 51.53125 44.890625 \r\nQ 49.859375 40.875 45.40625 35.40625 \r\nQ 44.1875 33.984375 37.640625 27.21875 \r\nQ 31.109375 20.453125 19.1875 8.296875 \r\nz\r\n\" id=\"DejaVuSans-50\"/>\r\n        <path d=\"M 10.796875 72.90625 \r\nL 49.515625 72.90625 \r\nL 49.515625 64.59375 \r\nL 19.828125 64.59375 \r\nL 19.828125 46.734375 \r\nQ 21.96875 47.46875 24.109375 47.828125 \r\nQ 26.265625 48.1875 28.421875 48.1875 \r\nQ 40.625 48.1875 47.75 41.5 \r\nQ 54.890625 34.8125 54.890625 23.390625 \r\nQ 54.890625 11.625 47.5625 5.09375 \r\nQ 40.234375 -1.421875 26.90625 -1.421875 \r\nQ 22.3125 -1.421875 17.546875 -0.640625 \r\nQ 12.796875 0.140625 7.71875 1.703125 \r\nL 7.71875 11.625 \r\nQ 12.109375 9.234375 16.796875 8.0625 \r\nQ 21.484375 6.890625 26.703125 6.890625 \r\nQ 35.15625 6.890625 40.078125 11.328125 \r\nQ 45.015625 15.765625 45.015625 23.390625 \r\nQ 45.015625 31 40.078125 35.4375 \r\nQ 35.15625 39.890625 26.703125 39.890625 \r\nQ 22.75 39.890625 18.8125 39.015625 \r\nQ 14.890625 38.140625 10.796875 36.28125 \r\nz\r\n\" id=\"DejaVuSans-53\"/>\r\n        <path d=\"M 30.609375 48.390625 \r\nQ 23.390625 48.390625 19.1875 42.75 \r\nQ 14.984375 37.109375 14.984375 27.296875 \r\nQ 14.984375 17.484375 19.15625 11.84375 \r\nQ 23.34375 6.203125 30.609375 6.203125 \r\nQ 37.796875 6.203125 41.984375 11.859375 \r\nQ 46.1875 17.53125 46.1875 27.296875 \r\nQ 46.1875 37.015625 41.984375 42.703125 \r\nQ 37.796875 48.390625 30.609375 48.390625 \r\nz\r\nM 30.609375 56 \r\nQ 42.328125 56 49.015625 48.375 \r\nQ 55.71875 40.765625 55.71875 27.296875 \r\nQ 55.71875 13.875 49.015625 6.21875 \r\nQ 42.328125 -1.421875 30.609375 -1.421875 \r\nQ 18.84375 -1.421875 12.171875 6.21875 \r\nQ 5.515625 13.875 5.515625 27.296875 \r\nQ 5.515625 40.765625 12.171875 48.375 \r\nQ 18.84375 56 30.609375 56 \r\nz\r\n\" id=\"DejaVuSans-111\"/>\r\n        <path d=\"M 2.984375 54.6875 \r\nL 12.5 54.6875 \r\nL 29.59375 8.796875 \r\nL 46.6875 54.6875 \r\nL 56.203125 54.6875 \r\nL 35.6875 0 \r\nL 23.484375 0 \r\nz\r\n\" id=\"DejaVuSans-118\"/>\r\n        <path d=\"M 17.921875 72.90625 \r\nL 17.921875 45.796875 \r\nL 9.625 45.796875 \r\nL 9.625 72.90625 \r\nz\r\n\" id=\"DejaVuSans-39\"/>\r\n        <path d=\"M 45.40625 27.984375 \r\nQ 45.40625 37.75 41.375 43.109375 \r\nQ 37.359375 48.484375 30.078125 48.484375 \r\nQ 22.859375 48.484375 18.828125 43.109375 \r\nQ 14.796875 37.75 14.796875 27.984375 \r\nQ 14.796875 18.265625 18.828125 12.890625 \r\nQ 22.859375 7.515625 30.078125 7.515625 \r\nQ 37.359375 7.515625 41.375 12.890625 \r\nQ 45.40625 18.265625 45.40625 27.984375 \r\nz\r\nM 54.390625 6.78125 \r\nQ 54.390625 -7.171875 48.1875 -13.984375 \r\nQ 42 -20.796875 29.203125 -20.796875 \r\nQ 24.46875 -20.796875 20.265625 -20.09375 \r\nQ 16.0625 -19.390625 12.109375 -17.921875 \r\nL 12.109375 -9.1875 \r\nQ 16.0625 -11.328125 19.921875 -12.34375 \r\nQ 23.78125 -13.375 27.78125 -13.375 \r\nQ 36.625 -13.375 41.015625 -8.765625 \r\nQ 45.40625 -4.15625 45.40625 5.171875 \r\nL 45.40625 9.625 \r\nQ 42.625 4.78125 38.28125 2.390625 \r\nQ 33.9375 0 27.875 0 \r\nQ 17.828125 0 11.671875 7.65625 \r\nQ 5.515625 15.328125 5.515625 27.984375 \r\nQ 5.515625 40.671875 11.671875 48.328125 \r\nQ 17.828125 56 27.875 56 \r\nQ 33.9375 56 38.28125 53.609375 \r\nQ 42.625 51.21875 45.40625 46.390625 \r\nL 45.40625 54.6875 \r\nL 54.390625 54.6875 \r\nz\r\n\" id=\"DejaVuSans-103\"/>\r\n       </defs>\r\n       <use xlink:href=\"#DejaVuSans-77\"/>\r\n       <use x=\"86.279297\" xlink:href=\"#DejaVuSans-76\"/>\r\n       <use x=\"141.992188\" xlink:href=\"#DejaVuSans-80\"/>\r\n       <use x=\"202.294922\" xlink:href=\"#DejaVuSans-67\"/>\r\n       <use x=\"272.119141\" xlink:href=\"#DejaVuSans-108\"/>\r\n       <use x=\"299.902344\" xlink:href=\"#DejaVuSans-97\"/>\r\n       <use x=\"361.181641\" xlink:href=\"#DejaVuSans-115\"/>\r\n       <use x=\"413.28125\" xlink:href=\"#DejaVuSans-115\"/>\r\n       <use x=\"465.380859\" xlink:href=\"#DejaVuSans-105\"/>\r\n       <use x=\"493.164062\" xlink:href=\"#DejaVuSans-102\"/>\r\n       <use x=\"528.369141\" xlink:href=\"#DejaVuSans-105\"/>\r\n       <use x=\"556.152344\" xlink:href=\"#DejaVuSans-101\"/>\r\n       <use x=\"617.675781\" xlink:href=\"#DejaVuSans-114\"/>\r\n       <use x=\"658.789062\" xlink:href=\"#DejaVuSans-40\"/>\r\n       <use x=\"697.802734\" xlink:href=\"#DejaVuSans-104\"/>\r\n       <use x=\"761.181641\" xlink:href=\"#DejaVuSans-105\"/>\r\n       <use x=\"788.964844\" xlink:href=\"#DejaVuSans-100\"/>\r\n       <use x=\"852.441406\" xlink:href=\"#DejaVuSans-100\"/>\r\n       <use x=\"915.917969\" xlink:href=\"#DejaVuSans-101\"/>\r\n       <use x=\"977.441406\" xlink:href=\"#DejaVuSans-110\"/>\r\n       <use x=\"1040.820312\" xlink:href=\"#DejaVuSans-95\"/>\r\n       <use x=\"1090.820312\" xlink:href=\"#DejaVuSans-108\"/>\r\n       <use x=\"1118.603516\" xlink:href=\"#DejaVuSans-97\"/>\r\n       <use x=\"1179.882812\" xlink:href=\"#DejaVuSans-121\"/>\r\n       <use x=\"1239.0625\" xlink:href=\"#DejaVuSans-101\"/>\r\n       <use x=\"1300.585938\" xlink:href=\"#DejaVuSans-114\"/>\r\n       <use x=\"1341.699219\" xlink:href=\"#DejaVuSans-95\"/>\r\n       <use x=\"1391.699219\" xlink:href=\"#DejaVuSans-115\"/>\r\n       <use x=\"1443.798828\" xlink:href=\"#DejaVuSans-105\"/>\r\n       <use x=\"1471.582031\" xlink:href=\"#DejaVuSans-122\"/>\r\n       <use x=\"1524.072266\" xlink:href=\"#DejaVuSans-101\"/>\r\n       <use x=\"1585.595703\" xlink:href=\"#DejaVuSans-115\"/>\r\n       <use x=\"1637.695312\" xlink:href=\"#DejaVuSans-61\"/>\r\n       <use x=\"1721.484375\" xlink:href=\"#DejaVuSans-50\"/>\r\n       <use x=\"1785.107422\" xlink:href=\"#DejaVuSans-53\"/>\r\n       <use x=\"1848.730469\" xlink:href=\"#DejaVuSans-44\"/>\r\n       <use x=\"1880.517578\" xlink:href=\"#DejaVuSans-32\"/>\r\n       <use x=\"1912.304688\" xlink:href=\"#DejaVuSans-115\"/>\r\n       <use x=\"1964.404297\" xlink:href=\"#DejaVuSans-111\"/>\r\n       <use x=\"2025.585938\" xlink:href=\"#DejaVuSans-108\"/>\r\n       <use x=\"2053.369141\" xlink:href=\"#DejaVuSans-118\"/>\r\n       <use x=\"2112.548828\" xlink:href=\"#DejaVuSans-101\"/>\r\n       <use x=\"2174.072266\" xlink:href=\"#DejaVuSans-114\"/>\r\n       <use x=\"2215.185547\" xlink:href=\"#DejaVuSans-61\"/>\r\n       <use x=\"2298.974609\" xlink:href=\"#DejaVuSans-39\"/>\r\n       <use x=\"2326.464844\" xlink:href=\"#DejaVuSans-115\"/>\r\n       <use x=\"2378.564453\" xlink:href=\"#DejaVuSans-103\"/>\r\n       <use x=\"2442.041016\" xlink:href=\"#DejaVuSans-100\"/>\r\n       <use x=\"2505.517578\" xlink:href=\"#DejaVuSans-39\"/>\r\n       <use x=\"2533.007812\" xlink:href=\"#DejaVuSans-41\"/>\r\n      </g>\r\n     </g>\r\n    </g>\r\n    <g id=\"xtick_3\">\r\n     <g id=\"line2d_3\">\r\n      <g>\r\n       <use style=\"stroke:#000000;stroke-width:0.8;\" x=\"966.465625\" xlink:href=\"#mb24d375347\" y=\"282.393931\"/>\r\n      </g>\r\n     </g>\r\n     <g id=\"text_3\">\r\n      <!-- MLPClassifier(hidden_layer_sizes=(14, 8), solver='sgd') -->\r\n      <g transform=\"translate(827.602344 296.992368)scale(0.1 -0.1)\">\r\n       <defs>\r\n        <path d=\"M 37.796875 64.3125 \r\nL 12.890625 25.390625 \r\nL 37.796875 25.390625 \r\nz\r\nM 35.203125 72.90625 \r\nL 47.609375 72.90625 \r\nL 47.609375 25.390625 \r\nL 58.015625 25.390625 \r\nL 58.015625 17.1875 \r\nL 47.609375 17.1875 \r\nL 47.609375 0 \r\nL 37.796875 0 \r\nL 37.796875 17.1875 \r\nL 4.890625 17.1875 \r\nL 4.890625 26.703125 \r\nz\r\n\" id=\"DejaVuSans-52\"/>\r\n       </defs>\r\n       <use xlink:href=\"#DejaVuSans-77\"/>\r\n       <use x=\"86.279297\" xlink:href=\"#DejaVuSans-76\"/>\r\n       <use x=\"141.992188\" xlink:href=\"#DejaVuSans-80\"/>\r\n       <use x=\"202.294922\" xlink:href=\"#DejaVuSans-67\"/>\r\n       <use x=\"272.119141\" xlink:href=\"#DejaVuSans-108\"/>\r\n       <use x=\"299.902344\" xlink:href=\"#DejaVuSans-97\"/>\r\n       <use x=\"361.181641\" xlink:href=\"#DejaVuSans-115\"/>\r\n       <use x=\"413.28125\" xlink:href=\"#DejaVuSans-115\"/>\r\n       <use x=\"465.380859\" xlink:href=\"#DejaVuSans-105\"/>\r\n       <use x=\"493.164062\" xlink:href=\"#DejaVuSans-102\"/>\r\n       <use x=\"528.369141\" xlink:href=\"#DejaVuSans-105\"/>\r\n       <use x=\"556.152344\" xlink:href=\"#DejaVuSans-101\"/>\r\n       <use x=\"617.675781\" xlink:href=\"#DejaVuSans-114\"/>\r\n       <use x=\"658.789062\" xlink:href=\"#DejaVuSans-40\"/>\r\n       <use x=\"697.802734\" xlink:href=\"#DejaVuSans-104\"/>\r\n       <use x=\"761.181641\" xlink:href=\"#DejaVuSans-105\"/>\r\n       <use x=\"788.964844\" xlink:href=\"#DejaVuSans-100\"/>\r\n       <use x=\"852.441406\" xlink:href=\"#DejaVuSans-100\"/>\r\n       <use x=\"915.917969\" xlink:href=\"#DejaVuSans-101\"/>\r\n       <use x=\"977.441406\" xlink:href=\"#DejaVuSans-110\"/>\r\n       <use x=\"1040.820312\" xlink:href=\"#DejaVuSans-95\"/>\r\n       <use x=\"1090.820312\" xlink:href=\"#DejaVuSans-108\"/>\r\n       <use x=\"1118.603516\" xlink:href=\"#DejaVuSans-97\"/>\r\n       <use x=\"1179.882812\" xlink:href=\"#DejaVuSans-121\"/>\r\n       <use x=\"1239.0625\" xlink:href=\"#DejaVuSans-101\"/>\r\n       <use x=\"1300.585938\" xlink:href=\"#DejaVuSans-114\"/>\r\n       <use x=\"1341.699219\" xlink:href=\"#DejaVuSans-95\"/>\r\n       <use x=\"1391.699219\" xlink:href=\"#DejaVuSans-115\"/>\r\n       <use x=\"1443.798828\" xlink:href=\"#DejaVuSans-105\"/>\r\n       <use x=\"1471.582031\" xlink:href=\"#DejaVuSans-122\"/>\r\n       <use x=\"1524.072266\" xlink:href=\"#DejaVuSans-101\"/>\r\n       <use x=\"1585.595703\" xlink:href=\"#DejaVuSans-115\"/>\r\n       <use x=\"1637.695312\" xlink:href=\"#DejaVuSans-61\"/>\r\n       <use x=\"1721.484375\" xlink:href=\"#DejaVuSans-40\"/>\r\n       <use x=\"1760.498047\" xlink:href=\"#DejaVuSans-49\"/>\r\n       <use x=\"1824.121094\" xlink:href=\"#DejaVuSans-52\"/>\r\n       <use x=\"1887.744141\" xlink:href=\"#DejaVuSans-44\"/>\r\n       <use x=\"1919.53125\" xlink:href=\"#DejaVuSans-32\"/>\r\n       <use x=\"1951.318359\" xlink:href=\"#DejaVuSans-56\"/>\r\n       <use x=\"2014.941406\" xlink:href=\"#DejaVuSans-41\"/>\r\n       <use x=\"2053.955078\" xlink:href=\"#DejaVuSans-44\"/>\r\n       <use x=\"2085.742188\" xlink:href=\"#DejaVuSans-32\"/>\r\n       <use x=\"2117.529297\" xlink:href=\"#DejaVuSans-115\"/>\r\n       <use x=\"2169.628906\" xlink:href=\"#DejaVuSans-111\"/>\r\n       <use x=\"2230.810547\" xlink:href=\"#DejaVuSans-108\"/>\r\n       <use x=\"2258.59375\" xlink:href=\"#DejaVuSans-118\"/>\r\n       <use x=\"2317.773438\" xlink:href=\"#DejaVuSans-101\"/>\r\n       <use x=\"2379.296875\" xlink:href=\"#DejaVuSans-114\"/>\r\n       <use x=\"2420.410156\" xlink:href=\"#DejaVuSans-61\"/>\r\n       <use x=\"2504.199219\" xlink:href=\"#DejaVuSans-39\"/>\r\n       <use x=\"2531.689453\" xlink:href=\"#DejaVuSans-115\"/>\r\n       <use x=\"2583.789062\" xlink:href=\"#DejaVuSans-103\"/>\r\n       <use x=\"2647.265625\" xlink:href=\"#DejaVuSans-100\"/>\r\n       <use x=\"2710.742188\" xlink:href=\"#DejaVuSans-39\"/>\r\n       <use x=\"2738.232422\" xlink:href=\"#DejaVuSans-41\"/>\r\n      </g>\r\n     </g>\r\n    </g>\r\n   </g>\r\n   <g id=\"matplotlib.axis_2\">\r\n    <g id=\"ytick_1\">\r\n     <g id=\"line2d_4\">\r\n      <defs>\r\n       <path d=\"M 0 0 \r\nL -3.5 0 \r\n\" id=\"m13568d2638\" style=\"stroke:#000000;stroke-width:0.8;\"/>\r\n      </defs>\r\n      <g>\r\n       <use style=\"stroke:#000000;stroke-width:0.8;\" x=\"36.465625\" xlink:href=\"#m13568d2638\" y=\"270.717849\"/>\r\n      </g>\r\n     </g>\r\n     <g id=\"text_4\">\r\n      <!-- 0.60 -->\r\n      <g transform=\"translate(7.2 274.517068)scale(0.1 -0.1)\">\r\n       <defs>\r\n        <path d=\"M 31.78125 66.40625 \r\nQ 24.171875 66.40625 20.328125 58.90625 \r\nQ 16.5 51.421875 16.5 36.375 \r\nQ 16.5 21.390625 20.328125 13.890625 \r\nQ 24.171875 6.390625 31.78125 6.390625 \r\nQ 39.453125 6.390625 43.28125 13.890625 \r\nQ 47.125 21.390625 47.125 36.375 \r\nQ 47.125 51.421875 43.28125 58.90625 \r\nQ 39.453125 66.40625 31.78125 66.40625 \r\nz\r\nM 31.78125 74.21875 \r\nQ 44.046875 74.21875 50.515625 64.515625 \r\nQ 56.984375 54.828125 56.984375 36.375 \r\nQ 56.984375 17.96875 50.515625 8.265625 \r\nQ 44.046875 -1.421875 31.78125 -1.421875 \r\nQ 19.53125 -1.421875 13.0625 8.265625 \r\nQ 6.59375 17.96875 6.59375 36.375 \r\nQ 6.59375 54.828125 13.0625 64.515625 \r\nQ 19.53125 74.21875 31.78125 74.21875 \r\nz\r\n\" id=\"DejaVuSans-48\"/>\r\n        <path d=\"M 10.6875 12.40625 \r\nL 21 12.40625 \r\nL 21 0 \r\nL 10.6875 0 \r\nz\r\n\" id=\"DejaVuSans-46\"/>\r\n       </defs>\r\n       <use xlink:href=\"#DejaVuSans-48\"/>\r\n       <use x=\"63.623047\" xlink:href=\"#DejaVuSans-46\"/>\r\n       <use x=\"95.410156\" xlink:href=\"#DejaVuSans-54\"/>\r\n       <use x=\"159.033203\" xlink:href=\"#DejaVuSans-48\"/>\r\n      </g>\r\n     </g>\r\n    </g>\r\n    <g id=\"ytick_2\">\r\n     <g id=\"line2d_5\">\r\n      <g>\r\n       <use style=\"stroke:#000000;stroke-width:0.8;\" x=\"36.465625\" xlink:href=\"#m13568d2638\" y=\"238.25302\"/>\r\n      </g>\r\n     </g>\r\n     <g id=\"text_5\">\r\n      <!-- 0.61 -->\r\n      <g transform=\"translate(7.2 242.052239)scale(0.1 -0.1)\">\r\n       <use xlink:href=\"#DejaVuSans-48\"/>\r\n       <use x=\"63.623047\" xlink:href=\"#DejaVuSans-46\"/>\r\n       <use x=\"95.410156\" xlink:href=\"#DejaVuSans-54\"/>\r\n       <use x=\"159.033203\" xlink:href=\"#DejaVuSans-49\"/>\r\n      </g>\r\n     </g>\r\n    </g>\r\n    <g id=\"ytick_3\">\r\n     <g id=\"line2d_6\">\r\n      <g>\r\n       <use style=\"stroke:#000000;stroke-width:0.8;\" x=\"36.465625\" xlink:href=\"#m13568d2638\" y=\"205.788191\"/>\r\n      </g>\r\n     </g>\r\n     <g id=\"text_6\">\r\n      <!-- 0.62 -->\r\n      <g transform=\"translate(7.2 209.58741)scale(0.1 -0.1)\">\r\n       <use xlink:href=\"#DejaVuSans-48\"/>\r\n       <use x=\"63.623047\" xlink:href=\"#DejaVuSans-46\"/>\r\n       <use x=\"95.410156\" xlink:href=\"#DejaVuSans-54\"/>\r\n       <use x=\"159.033203\" xlink:href=\"#DejaVuSans-50\"/>\r\n      </g>\r\n     </g>\r\n    </g>\r\n    <g id=\"ytick_4\">\r\n     <g id=\"line2d_7\">\r\n      <g>\r\n       <use style=\"stroke:#000000;stroke-width:0.8;\" x=\"36.465625\" xlink:href=\"#m13568d2638\" y=\"173.323363\"/>\r\n      </g>\r\n     </g>\r\n     <g id=\"text_7\">\r\n      <!-- 0.63 -->\r\n      <g transform=\"translate(7.2 177.122581)scale(0.1 -0.1)\">\r\n       <defs>\r\n        <path d=\"M 40.578125 39.3125 \r\nQ 47.65625 37.796875 51.625 33 \r\nQ 55.609375 28.21875 55.609375 21.1875 \r\nQ 55.609375 10.40625 48.1875 4.484375 \r\nQ 40.765625 -1.421875 27.09375 -1.421875 \r\nQ 22.515625 -1.421875 17.65625 -0.515625 \r\nQ 12.796875 0.390625 7.625 2.203125 \r\nL 7.625 11.71875 \r\nQ 11.71875 9.328125 16.59375 8.109375 \r\nQ 21.484375 6.890625 26.8125 6.890625 \r\nQ 36.078125 6.890625 40.9375 10.546875 \r\nQ 45.796875 14.203125 45.796875 21.1875 \r\nQ 45.796875 27.640625 41.28125 31.265625 \r\nQ 36.765625 34.90625 28.71875 34.90625 \r\nL 20.21875 34.90625 \r\nL 20.21875 43.015625 \r\nL 29.109375 43.015625 \r\nQ 36.375 43.015625 40.234375 45.921875 \r\nQ 44.09375 48.828125 44.09375 54.296875 \r\nQ 44.09375 59.90625 40.109375 62.90625 \r\nQ 36.140625 65.921875 28.71875 65.921875 \r\nQ 24.65625 65.921875 20.015625 65.03125 \r\nQ 15.375 64.15625 9.8125 62.3125 \r\nL 9.8125 71.09375 \r\nQ 15.4375 72.65625 20.34375 73.4375 \r\nQ 25.25 74.21875 29.59375 74.21875 \r\nQ 40.828125 74.21875 47.359375 69.109375 \r\nQ 53.90625 64.015625 53.90625 55.328125 \r\nQ 53.90625 49.265625 50.4375 45.09375 \r\nQ 46.96875 40.921875 40.578125 39.3125 \r\nz\r\n\" id=\"DejaVuSans-51\"/>\r\n       </defs>\r\n       <use xlink:href=\"#DejaVuSans-48\"/>\r\n       <use x=\"63.623047\" xlink:href=\"#DejaVuSans-46\"/>\r\n       <use x=\"95.410156\" xlink:href=\"#DejaVuSans-54\"/>\r\n       <use x=\"159.033203\" xlink:href=\"#DejaVuSans-51\"/>\r\n      </g>\r\n     </g>\r\n    </g>\r\n    <g id=\"ytick_5\">\r\n     <g id=\"line2d_8\">\r\n      <g>\r\n       <use style=\"stroke:#000000;stroke-width:0.8;\" x=\"36.465625\" xlink:href=\"#m13568d2638\" y=\"140.858534\"/>\r\n      </g>\r\n     </g>\r\n     <g id=\"text_8\">\r\n      <!-- 0.64 -->\r\n      <g transform=\"translate(7.2 144.657753)scale(0.1 -0.1)\">\r\n       <use xlink:href=\"#DejaVuSans-48\"/>\r\n       <use x=\"63.623047\" xlink:href=\"#DejaVuSans-46\"/>\r\n       <use x=\"95.410156\" xlink:href=\"#DejaVuSans-54\"/>\r\n       <use x=\"159.033203\" xlink:href=\"#DejaVuSans-52\"/>\r\n      </g>\r\n     </g>\r\n    </g>\r\n    <g id=\"ytick_6\">\r\n     <g id=\"line2d_9\">\r\n      <g>\r\n       <use style=\"stroke:#000000;stroke-width:0.8;\" x=\"36.465625\" xlink:href=\"#m13568d2638\" y=\"108.393705\"/>\r\n      </g>\r\n     </g>\r\n     <g id=\"text_9\">\r\n      <!-- 0.65 -->\r\n      <g transform=\"translate(7.2 112.192924)scale(0.1 -0.1)\">\r\n       <use xlink:href=\"#DejaVuSans-48\"/>\r\n       <use x=\"63.623047\" xlink:href=\"#DejaVuSans-46\"/>\r\n       <use x=\"95.410156\" xlink:href=\"#DejaVuSans-54\"/>\r\n       <use x=\"159.033203\" xlink:href=\"#DejaVuSans-53\"/>\r\n      </g>\r\n     </g>\r\n    </g>\r\n    <g id=\"ytick_7\">\r\n     <g id=\"line2d_10\">\r\n      <g>\r\n       <use style=\"stroke:#000000;stroke-width:0.8;\" x=\"36.465625\" xlink:href=\"#m13568d2638\" y=\"75.928876\"/>\r\n      </g>\r\n     </g>\r\n     <g id=\"text_10\">\r\n      <!-- 0.66 -->\r\n      <g transform=\"translate(7.2 79.728095)scale(0.1 -0.1)\">\r\n       <use xlink:href=\"#DejaVuSans-48\"/>\r\n       <use x=\"63.623047\" xlink:href=\"#DejaVuSans-46\"/>\r\n       <use x=\"95.410156\" xlink:href=\"#DejaVuSans-54\"/>\r\n       <use x=\"159.033203\" xlink:href=\"#DejaVuSans-54\"/>\r\n      </g>\r\n     </g>\r\n    </g>\r\n    <g id=\"ytick_8\">\r\n     <g id=\"line2d_11\">\r\n      <g>\r\n       <use style=\"stroke:#000000;stroke-width:0.8;\" x=\"36.465625\" xlink:href=\"#m13568d2638\" y=\"43.464048\"/>\r\n      </g>\r\n     </g>\r\n     <g id=\"text_11\">\r\n      <!-- 0.67 -->\r\n      <g transform=\"translate(7.2 47.263266)scale(0.1 -0.1)\">\r\n       <defs>\r\n        <path d=\"M 8.203125 72.90625 \r\nL 55.078125 72.90625 \r\nL 55.078125 68.703125 \r\nL 28.609375 0 \r\nL 18.3125 0 \r\nL 43.21875 64.59375 \r\nL 8.203125 64.59375 \r\nz\r\n\" id=\"DejaVuSans-55\"/>\r\n       </defs>\r\n       <use xlink:href=\"#DejaVuSans-48\"/>\r\n       <use x=\"63.623047\" xlink:href=\"#DejaVuSans-46\"/>\r\n       <use x=\"95.410156\" xlink:href=\"#DejaVuSans-54\"/>\r\n       <use x=\"159.033203\" xlink:href=\"#DejaVuSans-55\"/>\r\n      </g>\r\n     </g>\r\n    </g>\r\n    <g id=\"ytick_9\">\r\n     <g id=\"line2d_12\">\r\n      <g>\r\n       <use style=\"stroke:#000000;stroke-width:0.8;\" x=\"36.465625\" xlink:href=\"#m13568d2638\" y=\"10.999219\"/>\r\n      </g>\r\n     </g>\r\n     <g id=\"text_12\">\r\n      <!-- 0.68 -->\r\n      <g transform=\"translate(7.2 14.798438)scale(0.1 -0.1)\">\r\n       <use xlink:href=\"#DejaVuSans-48\"/>\r\n       <use x=\"63.623047\" xlink:href=\"#DejaVuSans-46\"/>\r\n       <use x=\"95.410156\" xlink:href=\"#DejaVuSans-54\"/>\r\n       <use x=\"159.033203\" xlink:href=\"#DejaVuSans-56\"/>\r\n      </g>\r\n     </g>\r\n    </g>\r\n   </g>\r\n   <g id=\"line2d_13\">\r\n    <path clip-path=\"url(#p554e625f6e)\" d=\"M 166.665625 117.59951 \r\nL 278.265625 117.59951 \r\nL 278.265625 60.584178 \r\nL 166.665625 60.584178 \r\nL 166.665625 117.59951 \r\n\" style=\"fill:none;stroke:#000000;stroke-linecap:square;\"/>\r\n   </g>\r\n   <g id=\"line2d_14\">\r\n    <path clip-path=\"url(#p554e625f6e)\" d=\"M 222.465625 117.59951 \r\nL 222.465625 199.778569 \r\n\" style=\"fill:none;stroke:#000000;stroke-linecap:square;\"/>\r\n   </g>\r\n   <g id=\"line2d_15\">\r\n    <path clip-path=\"url(#p554e625f6e)\" d=\"M 222.465625 60.584178 \r\nL 222.465625 22.948476 \r\n\" style=\"fill:none;stroke:#000000;stroke-linecap:square;\"/>\r\n   </g>\r\n   <g id=\"line2d_16\">\r\n    <path clip-path=\"url(#p554e625f6e)\" d=\"M 194.565625 199.778569 \r\nL 250.365625 199.778569 \r\n\" style=\"fill:none;stroke:#000000;stroke-linecap:square;\"/>\r\n   </g>\r\n   <g id=\"line2d_17\">\r\n    <path clip-path=\"url(#p554e625f6e)\" d=\"M 194.565625 22.948476 \r\nL 250.365625 22.948476 \r\n\" style=\"fill:none;stroke:#000000;stroke-linecap:square;\"/>\r\n   </g>\r\n   <g id=\"line2d_18\"/>\r\n   <g id=\"line2d_19\">\r\n    <path clip-path=\"url(#p554e625f6e)\" d=\"M 538.665625 139.359854 \r\nL 650.265625 139.359854 \r\nL 650.265625 101.068538 \r\nL 538.665625 101.068538 \r\nL 538.665625 139.359854 \r\n\" style=\"fill:none;stroke:#000000;stroke-linecap:square;\"/>\r\n   </g>\r\n   <g id=\"line2d_20\">\r\n    <path clip-path=\"url(#p554e625f6e)\" d=\"M 594.465625 139.359854 \r\nL 594.465625 154.707287 \r\n\" style=\"fill:none;stroke:#000000;stroke-linecap:square;\"/>\r\n   </g>\r\n   <g id=\"line2d_21\">\r\n    <path clip-path=\"url(#p554e625f6e)\" d=\"M 594.465625 101.068538 \r\nL 594.465625 68.961589 \r\n\" style=\"fill:none;stroke:#000000;stroke-linecap:square;\"/>\r\n   </g>\r\n   <g id=\"line2d_22\">\r\n    <path clip-path=\"url(#p554e625f6e)\" d=\"M 566.565625 154.707287 \r\nL 622.365625 154.707287 \r\n\" style=\"fill:none;stroke:#000000;stroke-linecap:square;\"/>\r\n   </g>\r\n   <g id=\"line2d_23\">\r\n    <path clip-path=\"url(#p554e625f6e)\" d=\"M 566.565625 68.961589 \r\nL 622.365625 68.961589 \r\n\" style=\"fill:none;stroke:#000000;stroke-linecap:square;\"/>\r\n   </g>\r\n   <g id=\"line2d_24\"/>\r\n   <g id=\"line2d_25\">\r\n    <path clip-path=\"url(#p554e625f6e)\" d=\"M 910.665625 236.899086 \r\nL 1022.265625 236.899086 \r\nL 1022.265625 157.123753 \r\nL 910.665625 157.123753 \r\nL 910.665625 236.899086 \r\n\" style=\"fill:none;stroke:#000000;stroke-linecap:square;\"/>\r\n   </g>\r\n   <g id=\"line2d_26\">\r\n    <path clip-path=\"url(#p554e625f6e)\" d=\"M 966.465625 236.899086 \r\nL 966.465625 270.039385 \r\n\" style=\"fill:none;stroke:#000000;stroke-linecap:square;\"/>\r\n   </g>\r\n   <g id=\"line2d_27\">\r\n    <path clip-path=\"url(#p554e625f6e)\" d=\"M 966.465625 157.123753 \r\nL 966.465625 104.500502 \r\n\" style=\"fill:none;stroke:#000000;stroke-linecap:square;\"/>\r\n   </g>\r\n   <g id=\"line2d_28\">\r\n    <path clip-path=\"url(#p554e625f6e)\" d=\"M 938.565625 270.039385 \r\nL 994.365625 270.039385 \r\n\" style=\"fill:none;stroke:#000000;stroke-linecap:square;\"/>\r\n   </g>\r\n   <g id=\"line2d_29\">\r\n    <path clip-path=\"url(#p554e625f6e)\" d=\"M 938.565625 104.500502 \r\nL 994.365625 104.500502 \r\n\" style=\"fill:none;stroke:#000000;stroke-linecap:square;\"/>\r\n   </g>\r\n   <g id=\"line2d_30\"/>\r\n   <g id=\"line2d_31\">\r\n    <path clip-path=\"url(#p554e625f6e)\" d=\"M 166.665625 104.727496 \r\nL 278.265625 104.727496 \r\n\" style=\"fill:none;stroke:#ff7f0e;stroke-linecap:square;\"/>\r\n   </g>\r\n   <g id=\"line2d_32\">\r\n    <path clip-path=\"url(#p554e625f6e)\" d=\"M 538.665625 125.752402 \r\nL 650.265625 125.752402 \r\n\" style=\"fill:none;stroke:#ff7f0e;stroke-linecap:square;\"/>\r\n   </g>\r\n   <g id=\"line2d_33\">\r\n    <path clip-path=\"url(#p554e625f6e)\" d=\"M 910.665625 194.519144 \r\nL 1022.265625 194.519144 \r\n\" style=\"fill:none;stroke:#ff7f0e;stroke-linecap:square;\"/>\r\n   </g>\r\n   <g id=\"patch_3\">\r\n    <path d=\"M 36.465625 282.393931 \r\nL 36.465625 10.593931 \r\n\" style=\"fill:none;stroke:#000000;stroke-linecap:square;stroke-linejoin:miter;stroke-width:0.8;\"/>\r\n   </g>\r\n   <g id=\"patch_4\">\r\n    <path d=\"M 1152.465625 282.393931 \r\nL 1152.465625 10.593931 \r\n\" style=\"fill:none;stroke:#000000;stroke-linecap:square;stroke-linejoin:miter;stroke-width:0.8;\"/>\r\n   </g>\r\n   <g id=\"patch_5\">\r\n    <path d=\"M 36.465625 282.393931 \r\nL 1152.465625 282.393931 \r\n\" style=\"fill:none;stroke:#000000;stroke-linecap:square;stroke-linejoin:miter;stroke-width:0.8;\"/>\r\n   </g>\r\n   <g id=\"patch_6\">\r\n    <path d=\"M 36.465625 10.593931 \r\nL 1152.465625 10.593931 \r\n\" style=\"fill:none;stroke:#000000;stroke-linecap:square;stroke-linejoin:miter;stroke-width:0.8;\"/>\r\n   </g>\r\n  </g>\r\n </g>\r\n <defs>\r\n  <clipPath id=\"p554e625f6e\">\r\n   <rect height=\"271.8\" width=\"1116\" x=\"36.465625\" y=\"10.593931\"/>\r\n  </clipPath>\r\n </defs>\r\n</svg>\r\n",
            "image/png": "[encoded data removed]"
          },
          "metadata": {
            "needs_background": "light"
          }
        }
      ],
      "source": [
        "fig = plt.figure(figsize=(20,5))\n",
        "ax = fig.add_subplot(111)\n",
        "plt.boxplot([f_scores_pg[0], f_scores_pg[1], f_scores_pg[2]])\n",
        "ax.set_xticklabels([str(models_pg[0]), str(models_pg[1]), str(models_pg[2])])\n",
        "plt.show()"
      ]
    },
    {
      "source": [
        "#### Arquitetura própria"
      ],
      "cell_type": "markdown",
      "metadata": {}
    },
    {
      "source": [
        "#### 1. Considere as 6 redes neurais obtidas nos dois top-3 anteriores (arquiteturas próprias e regra da pirâmide geométrica)"
      ],
      "cell_type": "markdown",
      "metadata": {}
    },
    {
      "cell_type": "code",
      "execution_count": 3,
      "metadata": {},
      "outputs": [],
      "source": [
        "# Após definição do número de épocas como 200, obtém-se apenas 3 redes distintas\n",
        "\n",
        "models_arq = [\n",
        "          MLPClassifier(hidden_layer_sizes=(20, 20), activation='relu', solver='sgd', max_iter=200),\n",
        "          MLPClassifier(hidden_layer_sizes=(20, 10), activation='relu', solver='adam', max_iter=200), \n",
        "          MLPClassifier(hidden_layer_sizes=(10, 8), activation='relu', solver='adam', max_iter=200)\n",
        "]"
      ]
    },
    {
      "source": [
        "#### 2. Com todos os atributos preditores da base de dados original, incluindo os categóricos, treine e teste estas mesmas redes por 100 repetições\n",
        "#### 2.1 Considere o melhor otimizador para cada uma delas\n",
        "#### 2.2 Faça uso de 200 épocas para treinamento\n",
        "#### 2.2 Apresente os resultados de acurácia e F-Score em termos da média +- dp para cada arquitetura"
      ],
      "cell_type": "markdown",
      "metadata": {}
    },
    {
      "cell_type": "code",
      "execution_count": 22,
      "metadata": {},
      "outputs": [],
      "source": [
        "accuracies_arq, f_scores_arq = [], []\n",
        "for i in models_arq:\n",
        "    accuracies_arq.append([])\n",
        "    f_scores_arq.append([])\n",
        "\n",
        "for i in range(len(models_arq)):\n",
        "    for j in range(10):\n",
        "        X_train, X_test, Y_train, Y_test = train_test_split(X, Y, test_size=0.3, shuffle=True)\n",
        "            \n",
        "        X_train_std = (X_train - np.mean(X_train)) / np.std(X_train)\n",
        "        X_test_std = (X_test - np.mean(X_train)) / np.std(X_train)\n",
        "        \n",
        "        X_train_std.replace([np.inf, -np.inf], np.nan, inplace=True)\n",
        "\n",
        "        perceptron = models_arq[i]\n",
        "        perceptron.fit(X_train_std, Y_train)\n",
        "        \n",
        "        Y_pred_train = perceptron.predict(X_train_std)\n",
        "            \n",
        "        accuracy = accuracy_score(Y_train, Y_pred_train)\n",
        "        accuracies_arq[i].append(accuracy)\n",
        "        \n",
        "        f_score = f1_score(Y_train, Y_pred_train, average='macro')\n",
        "        f_scores_arq[i].append(f_score)"
      ]
    },
    {
      "cell_type": "code",
      "execution_count": 23,
      "metadata": {},
      "outputs": [],
      "source": [
        "medias_acuracias_arq, medias_fscores_arq, dp_acuracias_arq, dp_fscores_arq = [], [], [], []\n",
        "for i in range(0, len(models_arq), 1):\n",
        "    media = np.mean(accuracies_arq[i])\n",
        "    desvio_padrao = np.std(accuracies_arq[i])\n",
        "    \n",
        "    medias_acuracias_arq.append(media)\n",
        "    dp_acuracias_arq.append(desvio_padrao)\n",
        "\n",
        "    media = np.mean(f_scores_arq[i])\n",
        "    desvio_padrao = np.std(f_scores_arq[i])\n",
        "\n",
        "    medias_fscores_arq.append(media)\n",
        "    dp_fscores_arq.append(desvio_padrao)"
      ]
    },
    {
      "cell_type": "code",
      "execution_count": 52,
      "metadata": {},
      "outputs": [
        {
          "output_type": "stream",
          "name": "stdout",
          "text": [
            "Modelo: MLPClassifier(hidden_layer_sizes=(20, 20), solver='sgd')\nMédia da Acurácia: 0.8159 \nDesvio padrão da Acurácia: 0.0025\nMédia do F-Score: 0.6840 \nDesvio padrão do F-Score: 0.0083\n\n\nModelo: MLPClassifier(hidden_layer_sizes=(20, 10))\nMédia da Acurácia: 0.8062 \nDesvio padrão da Acurácia: 0.0027\nMédia do F-Score: 0.6829 \nDesvio padrão do F-Score: 0.0069\n\n\nModelo: MLPClassifier(hidden_layer_sizes=(10, 8))\nMédia da Acurácia: 0.7667 \nDesvio padrão da Acurácia: 0.0050\nMédia do F-Score: 0.5985 \nDesvio padrão do F-Score: 0.0164\n\n\n"
          ]
        }
      ],
      "source": [
        "for i in range(0, len(models_arq), 1):\n",
        "    print(\"Modelo:\",models_arq[i])\n",
        "    print(\"Média da Acurácia: %.4f \"%medias_acuracias_arq[i])\n",
        "    print(\"Desvio padrão da Acurácia: %.4f\" %dp_acuracias_arq[i])\n",
        "    print(\"Média do F-Score: %.4f \"%medias_fscores_arq[i])\n",
        "    print(\"Desvio padrão do F-Score: %.4f\" %dp_fscores_arq[i])\n",
        "    print(\"\\n\")"
      ]
    },
    {
      "source": [
        "#### 3. Apresente o gráfico boxplot para o F-Score das 6 arquiteturas perante as 100 repetições"
      ],
      "cell_type": "markdown",
      "metadata": {}
    },
    {
      "cell_type": "code",
      "execution_count": 36,
      "metadata": {},
      "outputs": [
        {
          "output_type": "display_data",
          "data": {
            "text/plain": "<Figure size 1440x360 with 1 Axes>",
            "image/svg+xml": "<?xml version=\"1.0\" encoding=\"utf-8\" standalone=\"no\"?>\r\n<!DOCTYPE svg PUBLIC \"-//W3C//DTD SVG 1.1//EN\"\r\n  \"http://www.w3.org/Graphics/SVG/1.1/DTD/svg11.dtd\">\r\n<!-- Created with matplotlib (https://matplotlib.org/) -->\r\n<svg height=\"303.15625pt\" version=\"1.1\" viewBox=\"0 0 1159.665625 303.15625\" width=\"1159.665625pt\" xmlns=\"http://www.w3.org/2000/svg\" xmlns:xlink=\"http://www.w3.org/1999/xlink\">\r\n <metadata>\r\n  <rdf:RDF xmlns:cc=\"http://creativecommons.org/ns#\" xmlns:dc=\"http://purl.org/dc/elements/1.1/\" xmlns:rdf=\"http://www.w3.org/1999/02/22-rdf-syntax-ns#\">\r\n   <cc:Work>\r\n    <dc:type rdf:resource=\"http://purl.org/dc/dcmitype/StillImage\"/>\r\n    <dc:date>2020-10-24T15:39:09.824979</dc:date>\r\n    <dc:format>image/svg+xml</dc:format>\r\n    <dc:creator>\r\n     <cc:Agent>\r\n      <dc:title>Matplotlib v3.3.1, https://matplotlib.org/</dc:title>\r\n     </cc:Agent>\r\n    </dc:creator>\r\n   </cc:Work>\r\n  </rdf:RDF>\r\n </metadata>\r\n <defs>\r\n  <style type=\"text/css\">*{stroke-linecap:butt;stroke-linejoin:round;}</style>\r\n </defs>\r\n <g id=\"figure_1\">\r\n  <g id=\"patch_1\">\r\n   <path d=\"M 0 303.15625 \r\nL 1159.665625 303.15625 \r\nL 1159.665625 0 \r\nL 0 0 \r\nz\r\n\" style=\"fill:none;\"/>\r\n  </g>\r\n  <g id=\"axes_1\">\r\n   <g id=\"patch_2\">\r\n    <path d=\"M 36.465625 279 \r\nL 1152.465625 279 \r\nL 1152.465625 7.2 \r\nL 36.465625 7.2 \r\nz\r\n\" style=\"fill:#ffffff;\"/>\r\n   </g>\r\n   <g id=\"matplotlib.axis_1\">\r\n    <g id=\"xtick_1\">\r\n     <g id=\"line2d_1\">\r\n      <defs>\r\n       <path d=\"M 0 0 \r\nL 0 3.5 \r\n\" id=\"me313ae1798\" style=\"stroke:#000000;stroke-width:0.8;\"/>\r\n      </defs>\r\n      <g>\r\n       <use style=\"stroke:#000000;stroke-width:0.8;\" x=\"222.465625\" xlink:href=\"#me313ae1798\" y=\"279\"/>\r\n      </g>\r\n     </g>\r\n     <g id=\"text_1\">\r\n      <!-- MLPClassifier(hidden_layer_sizes=(20, 20), solver='sgd') -->\r\n      <g transform=\"translate(80.421094 293.598437)scale(0.1 -0.1)\">\r\n       <defs>\r\n        <path d=\"M 9.8125 72.90625 \r\nL 24.515625 72.90625 \r\nL 43.109375 23.296875 \r\nL 61.8125 72.90625 \r\nL 76.515625 72.90625 \r\nL 76.515625 0 \r\nL 66.890625 0 \r\nL 66.890625 64.015625 \r\nL 48.09375 14.015625 \r\nL 38.1875 14.015625 \r\nL 19.390625 64.015625 \r\nL 19.390625 0 \r\nL 9.8125 0 \r\nz\r\n\" id=\"DejaVuSans-77\"/>\r\n        <path d=\"M 9.8125 72.90625 \r\nL 19.671875 72.90625 \r\nL 19.671875 8.296875 \r\nL 55.171875 8.296875 \r\nL 55.171875 0 \r\nL 9.8125 0 \r\nz\r\n\" id=\"DejaVuSans-76\"/>\r\n        <path d=\"M 19.671875 64.796875 \r\nL 19.671875 37.40625 \r\nL 32.078125 37.40625 \r\nQ 38.96875 37.40625 42.71875 40.96875 \r\nQ 46.484375 44.53125 46.484375 51.125 \r\nQ 46.484375 57.671875 42.71875 61.234375 \r\nQ 38.96875 64.796875 32.078125 64.796875 \r\nz\r\nM 9.8125 72.90625 \r\nL 32.078125 72.90625 \r\nQ 44.34375 72.90625 50.609375 67.359375 \r\nQ 56.890625 61.8125 56.890625 51.125 \r\nQ 56.890625 40.328125 50.609375 34.8125 \r\nQ 44.34375 29.296875 32.078125 29.296875 \r\nL 19.671875 29.296875 \r\nL 19.671875 0 \r\nL 9.8125 0 \r\nz\r\n\" id=\"DejaVuSans-80\"/>\r\n        <path d=\"M 64.40625 67.28125 \r\nL 64.40625 56.890625 \r\nQ 59.421875 61.53125 53.78125 63.8125 \r\nQ 48.140625 66.109375 41.796875 66.109375 \r\nQ 29.296875 66.109375 22.65625 58.46875 \r\nQ 16.015625 50.828125 16.015625 36.375 \r\nQ 16.015625 21.96875 22.65625 14.328125 \r\nQ 29.296875 6.6875 41.796875 6.6875 \r\nQ 48.140625 6.6875 53.78125 8.984375 \r\nQ 59.421875 11.28125 64.40625 15.921875 \r\nL 64.40625 5.609375 \r\nQ 59.234375 2.09375 53.4375 0.328125 \r\nQ 47.65625 -1.421875 41.21875 -1.421875 \r\nQ 24.65625 -1.421875 15.125 8.703125 \r\nQ 5.609375 18.84375 5.609375 36.375 \r\nQ 5.609375 53.953125 15.125 64.078125 \r\nQ 24.65625 74.21875 41.21875 74.21875 \r\nQ 47.75 74.21875 53.53125 72.484375 \r\nQ 59.328125 70.75 64.40625 67.28125 \r\nz\r\n\" id=\"DejaVuSans-67\"/>\r\n        <path d=\"M 9.421875 75.984375 \r\nL 18.40625 75.984375 \r\nL 18.40625 0 \r\nL 9.421875 0 \r\nz\r\n\" id=\"DejaVuSans-108\"/>\r\n        <path d=\"M 34.28125 27.484375 \r\nQ 23.390625 27.484375 19.1875 25 \r\nQ 14.984375 22.515625 14.984375 16.5 \r\nQ 14.984375 11.71875 18.140625 8.90625 \r\nQ 21.296875 6.109375 26.703125 6.109375 \r\nQ 34.1875 6.109375 38.703125 11.40625 \r\nQ 43.21875 16.703125 43.21875 25.484375 \r\nL 43.21875 27.484375 \r\nz\r\nM 52.203125 31.203125 \r\nL 52.203125 0 \r\nL 43.21875 0 \r\nL 43.21875 8.296875 \r\nQ 40.140625 3.328125 35.546875 0.953125 \r\nQ 30.953125 -1.421875 24.3125 -1.421875 \r\nQ 15.921875 -1.421875 10.953125 3.296875 \r\nQ 6 8.015625 6 15.921875 \r\nQ 6 25.140625 12.171875 29.828125 \r\nQ 18.359375 34.515625 30.609375 34.515625 \r\nL 43.21875 34.515625 \r\nL 43.21875 35.40625 \r\nQ 43.21875 41.609375 39.140625 45 \r\nQ 35.0625 48.390625 27.6875 48.390625 \r\nQ 23 48.390625 18.546875 47.265625 \r\nQ 14.109375 46.140625 10.015625 43.890625 \r\nL 10.015625 52.203125 \r\nQ 14.9375 54.109375 19.578125 55.046875 \r\nQ 24.21875 56 28.609375 56 \r\nQ 40.484375 56 46.34375 49.84375 \r\nQ 52.203125 43.703125 52.203125 31.203125 \r\nz\r\n\" id=\"DejaVuSans-97\"/>\r\n        <path d=\"M 44.28125 53.078125 \r\nL 44.28125 44.578125 \r\nQ 40.484375 46.53125 36.375 47.5 \r\nQ 32.28125 48.484375 27.875 48.484375 \r\nQ 21.1875 48.484375 17.84375 46.4375 \r\nQ 14.5 44.390625 14.5 40.28125 \r\nQ 14.5 37.15625 16.890625 35.375 \r\nQ 19.28125 33.59375 26.515625 31.984375 \r\nL 29.59375 31.296875 \r\nQ 39.15625 29.25 43.1875 25.515625 \r\nQ 47.21875 21.78125 47.21875 15.09375 \r\nQ 47.21875 7.46875 41.1875 3.015625 \r\nQ 35.15625 -1.421875 24.609375 -1.421875 \r\nQ 20.21875 -1.421875 15.453125 -0.5625 \r\nQ 10.6875 0.296875 5.421875 2 \r\nL 5.421875 11.28125 \r\nQ 10.40625 8.6875 15.234375 7.390625 \r\nQ 20.0625 6.109375 24.8125 6.109375 \r\nQ 31.15625 6.109375 34.5625 8.28125 \r\nQ 37.984375 10.453125 37.984375 14.40625 \r\nQ 37.984375 18.0625 35.515625 20.015625 \r\nQ 33.0625 21.96875 24.703125 23.78125 \r\nL 21.578125 24.515625 \r\nQ 13.234375 26.265625 9.515625 29.90625 \r\nQ 5.8125 33.546875 5.8125 39.890625 \r\nQ 5.8125 47.609375 11.28125 51.796875 \r\nQ 16.75 56 26.8125 56 \r\nQ 31.78125 56 36.171875 55.265625 \r\nQ 40.578125 54.546875 44.28125 53.078125 \r\nz\r\n\" id=\"DejaVuSans-115\"/>\r\n        <path d=\"M 9.421875 54.6875 \r\nL 18.40625 54.6875 \r\nL 18.40625 0 \r\nL 9.421875 0 \r\nz\r\nM 9.421875 75.984375 \r\nL 18.40625 75.984375 \r\nL 18.40625 64.59375 \r\nL 9.421875 64.59375 \r\nz\r\n\" id=\"DejaVuSans-105\"/>\r\n        <path d=\"M 37.109375 75.984375 \r\nL 37.109375 68.5 \r\nL 28.515625 68.5 \r\nQ 23.6875 68.5 21.796875 66.546875 \r\nQ 19.921875 64.59375 19.921875 59.515625 \r\nL 19.921875 54.6875 \r\nL 34.71875 54.6875 \r\nL 34.71875 47.703125 \r\nL 19.921875 47.703125 \r\nL 19.921875 0 \r\nL 10.890625 0 \r\nL 10.890625 47.703125 \r\nL 2.296875 47.703125 \r\nL 2.296875 54.6875 \r\nL 10.890625 54.6875 \r\nL 10.890625 58.5 \r\nQ 10.890625 67.625 15.140625 71.796875 \r\nQ 19.390625 75.984375 28.609375 75.984375 \r\nz\r\n\" id=\"DejaVuSans-102\"/>\r\n        <path d=\"M 56.203125 29.59375 \r\nL 56.203125 25.203125 \r\nL 14.890625 25.203125 \r\nQ 15.484375 15.921875 20.484375 11.0625 \r\nQ 25.484375 6.203125 34.421875 6.203125 \r\nQ 39.59375 6.203125 44.453125 7.46875 \r\nQ 49.3125 8.734375 54.109375 11.28125 \r\nL 54.109375 2.78125 \r\nQ 49.265625 0.734375 44.1875 -0.34375 \r\nQ 39.109375 -1.421875 33.890625 -1.421875 \r\nQ 20.796875 -1.421875 13.15625 6.1875 \r\nQ 5.515625 13.8125 5.515625 26.8125 \r\nQ 5.515625 40.234375 12.765625 48.109375 \r\nQ 20.015625 56 32.328125 56 \r\nQ 43.359375 56 49.78125 48.890625 \r\nQ 56.203125 41.796875 56.203125 29.59375 \r\nz\r\nM 47.21875 32.234375 \r\nQ 47.125 39.59375 43.09375 43.984375 \r\nQ 39.0625 48.390625 32.421875 48.390625 \r\nQ 24.90625 48.390625 20.390625 44.140625 \r\nQ 15.875 39.890625 15.1875 32.171875 \r\nz\r\n\" id=\"DejaVuSans-101\"/>\r\n        <path d=\"M 41.109375 46.296875 \r\nQ 39.59375 47.171875 37.8125 47.578125 \r\nQ 36.03125 48 33.890625 48 \r\nQ 26.265625 48 22.1875 43.046875 \r\nQ 18.109375 38.09375 18.109375 28.8125 \r\nL 18.109375 0 \r\nL 9.078125 0 \r\nL 9.078125 54.6875 \r\nL 18.109375 54.6875 \r\nL 18.109375 46.1875 \r\nQ 20.953125 51.171875 25.484375 53.578125 \r\nQ 30.03125 56 36.53125 56 \r\nQ 37.453125 56 38.578125 55.875 \r\nQ 39.703125 55.765625 41.0625 55.515625 \r\nz\r\n\" id=\"DejaVuSans-114\"/>\r\n        <path d=\"M 31 75.875 \r\nQ 24.46875 64.65625 21.28125 53.65625 \r\nQ 18.109375 42.671875 18.109375 31.390625 \r\nQ 18.109375 20.125 21.3125 9.0625 \r\nQ 24.515625 -2 31 -13.1875 \r\nL 23.1875 -13.1875 \r\nQ 15.875 -1.703125 12.234375 9.375 \r\nQ 8.59375 20.453125 8.59375 31.390625 \r\nQ 8.59375 42.28125 12.203125 53.3125 \r\nQ 15.828125 64.359375 23.1875 75.875 \r\nz\r\n\" id=\"DejaVuSans-40\"/>\r\n        <path d=\"M 54.890625 33.015625 \r\nL 54.890625 0 \r\nL 45.90625 0 \r\nL 45.90625 32.71875 \r\nQ 45.90625 40.484375 42.875 44.328125 \r\nQ 39.84375 48.1875 33.796875 48.1875 \r\nQ 26.515625 48.1875 22.3125 43.546875 \r\nQ 18.109375 38.921875 18.109375 30.90625 \r\nL 18.109375 0 \r\nL 9.078125 0 \r\nL 9.078125 75.984375 \r\nL 18.109375 75.984375 \r\nL 18.109375 46.1875 \r\nQ 21.34375 51.125 25.703125 53.5625 \r\nQ 30.078125 56 35.796875 56 \r\nQ 45.21875 56 50.046875 50.171875 \r\nQ 54.890625 44.34375 54.890625 33.015625 \r\nz\r\n\" id=\"DejaVuSans-104\"/>\r\n        <path d=\"M 45.40625 46.390625 \r\nL 45.40625 75.984375 \r\nL 54.390625 75.984375 \r\nL 54.390625 0 \r\nL 45.40625 0 \r\nL 45.40625 8.203125 \r\nQ 42.578125 3.328125 38.25 0.953125 \r\nQ 33.9375 -1.421875 27.875 -1.421875 \r\nQ 17.96875 -1.421875 11.734375 6.484375 \r\nQ 5.515625 14.40625 5.515625 27.296875 \r\nQ 5.515625 40.1875 11.734375 48.09375 \r\nQ 17.96875 56 27.875 56 \r\nQ 33.9375 56 38.25 53.625 \r\nQ 42.578125 51.265625 45.40625 46.390625 \r\nz\r\nM 14.796875 27.296875 \r\nQ 14.796875 17.390625 18.875 11.75 \r\nQ 22.953125 6.109375 30.078125 6.109375 \r\nQ 37.203125 6.109375 41.296875 11.75 \r\nQ 45.40625 17.390625 45.40625 27.296875 \r\nQ 45.40625 37.203125 41.296875 42.84375 \r\nQ 37.203125 48.484375 30.078125 48.484375 \r\nQ 22.953125 48.484375 18.875 42.84375 \r\nQ 14.796875 37.203125 14.796875 27.296875 \r\nz\r\n\" id=\"DejaVuSans-100\"/>\r\n        <path d=\"M 54.890625 33.015625 \r\nL 54.890625 0 \r\nL 45.90625 0 \r\nL 45.90625 32.71875 \r\nQ 45.90625 40.484375 42.875 44.328125 \r\nQ 39.84375 48.1875 33.796875 48.1875 \r\nQ 26.515625 48.1875 22.3125 43.546875 \r\nQ 18.109375 38.921875 18.109375 30.90625 \r\nL 18.109375 0 \r\nL 9.078125 0 \r\nL 9.078125 54.6875 \r\nL 18.109375 54.6875 \r\nL 18.109375 46.1875 \r\nQ 21.34375 51.125 25.703125 53.5625 \r\nQ 30.078125 56 35.796875 56 \r\nQ 45.21875 56 50.046875 50.171875 \r\nQ 54.890625 44.34375 54.890625 33.015625 \r\nz\r\n\" id=\"DejaVuSans-110\"/>\r\n        <path d=\"M 50.984375 -16.609375 \r\nL 50.984375 -23.578125 \r\nL -0.984375 -23.578125 \r\nL -0.984375 -16.609375 \r\nz\r\n\" id=\"DejaVuSans-95\"/>\r\n        <path d=\"M 32.171875 -5.078125 \r\nQ 28.375 -14.84375 24.75 -17.8125 \r\nQ 21.140625 -20.796875 15.09375 -20.796875 \r\nL 7.90625 -20.796875 \r\nL 7.90625 -13.28125 \r\nL 13.1875 -13.28125 \r\nQ 16.890625 -13.28125 18.9375 -11.515625 \r\nQ 21 -9.765625 23.484375 -3.21875 \r\nL 25.09375 0.875 \r\nL 2.984375 54.6875 \r\nL 12.5 54.6875 \r\nL 29.59375 11.921875 \r\nL 46.6875 54.6875 \r\nL 56.203125 54.6875 \r\nz\r\n\" id=\"DejaVuSans-121\"/>\r\n        <path d=\"M 5.515625 54.6875 \r\nL 48.1875 54.6875 \r\nL 48.1875 46.484375 \r\nL 14.40625 7.171875 \r\nL 48.1875 7.171875 \r\nL 48.1875 0 \r\nL 4.296875 0 \r\nL 4.296875 8.203125 \r\nL 38.09375 47.515625 \r\nL 5.515625 47.515625 \r\nz\r\n\" id=\"DejaVuSans-122\"/>\r\n        <path d=\"M 10.59375 45.40625 \r\nL 73.1875 45.40625 \r\nL 73.1875 37.203125 \r\nL 10.59375 37.203125 \r\nz\r\nM 10.59375 25.484375 \r\nL 73.1875 25.484375 \r\nL 73.1875 17.1875 \r\nL 10.59375 17.1875 \r\nz\r\n\" id=\"DejaVuSans-61\"/>\r\n        <path d=\"M 19.1875 8.296875 \r\nL 53.609375 8.296875 \r\nL 53.609375 0 \r\nL 7.328125 0 \r\nL 7.328125 8.296875 \r\nQ 12.9375 14.109375 22.625 23.890625 \r\nQ 32.328125 33.6875 34.8125 36.53125 \r\nQ 39.546875 41.84375 41.421875 45.53125 \r\nQ 43.3125 49.21875 43.3125 52.78125 \r\nQ 43.3125 58.59375 39.234375 62.25 \r\nQ 35.15625 65.921875 28.609375 65.921875 \r\nQ 23.96875 65.921875 18.8125 64.3125 \r\nQ 13.671875 62.703125 7.8125 59.421875 \r\nL 7.8125 69.390625 \r\nQ 13.765625 71.78125 18.9375 73 \r\nQ 24.125 74.21875 28.421875 74.21875 \r\nQ 39.75 74.21875 46.484375 68.546875 \r\nQ 53.21875 62.890625 53.21875 53.421875 \r\nQ 53.21875 48.921875 51.53125 44.890625 \r\nQ 49.859375 40.875 45.40625 35.40625 \r\nQ 44.1875 33.984375 37.640625 27.21875 \r\nQ 31.109375 20.453125 19.1875 8.296875 \r\nz\r\n\" id=\"DejaVuSans-50\"/>\r\n        <path d=\"M 31.78125 66.40625 \r\nQ 24.171875 66.40625 20.328125 58.90625 \r\nQ 16.5 51.421875 16.5 36.375 \r\nQ 16.5 21.390625 20.328125 13.890625 \r\nQ 24.171875 6.390625 31.78125 6.390625 \r\nQ 39.453125 6.390625 43.28125 13.890625 \r\nQ 47.125 21.390625 47.125 36.375 \r\nQ 47.125 51.421875 43.28125 58.90625 \r\nQ 39.453125 66.40625 31.78125 66.40625 \r\nz\r\nM 31.78125 74.21875 \r\nQ 44.046875 74.21875 50.515625 64.515625 \r\nQ 56.984375 54.828125 56.984375 36.375 \r\nQ 56.984375 17.96875 50.515625 8.265625 \r\nQ 44.046875 -1.421875 31.78125 -1.421875 \r\nQ 19.53125 -1.421875 13.0625 8.265625 \r\nQ 6.59375 17.96875 6.59375 36.375 \r\nQ 6.59375 54.828125 13.0625 64.515625 \r\nQ 19.53125 74.21875 31.78125 74.21875 \r\nz\r\n\" id=\"DejaVuSans-48\"/>\r\n        <path d=\"M 11.71875 12.40625 \r\nL 22.015625 12.40625 \r\nL 22.015625 4 \r\nL 14.015625 -11.625 \r\nL 7.71875 -11.625 \r\nL 11.71875 4 \r\nz\r\n\" id=\"DejaVuSans-44\"/>\r\n        <path id=\"DejaVuSans-32\"/>\r\n        <path d=\"M 8.015625 75.875 \r\nL 15.828125 75.875 \r\nQ 23.140625 64.359375 26.78125 53.3125 \r\nQ 30.421875 42.28125 30.421875 31.390625 \r\nQ 30.421875 20.453125 26.78125 9.375 \r\nQ 23.140625 -1.703125 15.828125 -13.1875 \r\nL 8.015625 -13.1875 \r\nQ 14.5 -2 17.703125 9.0625 \r\nQ 20.90625 20.125 20.90625 31.390625 \r\nQ 20.90625 42.671875 17.703125 53.65625 \r\nQ 14.5 64.65625 8.015625 75.875 \r\nz\r\n\" id=\"DejaVuSans-41\"/>\r\n        <path d=\"M 30.609375 48.390625 \r\nQ 23.390625 48.390625 19.1875 42.75 \r\nQ 14.984375 37.109375 14.984375 27.296875 \r\nQ 14.984375 17.484375 19.15625 11.84375 \r\nQ 23.34375 6.203125 30.609375 6.203125 \r\nQ 37.796875 6.203125 41.984375 11.859375 \r\nQ 46.1875 17.53125 46.1875 27.296875 \r\nQ 46.1875 37.015625 41.984375 42.703125 \r\nQ 37.796875 48.390625 30.609375 48.390625 \r\nz\r\nM 30.609375 56 \r\nQ 42.328125 56 49.015625 48.375 \r\nQ 55.71875 40.765625 55.71875 27.296875 \r\nQ 55.71875 13.875 49.015625 6.21875 \r\nQ 42.328125 -1.421875 30.609375 -1.421875 \r\nQ 18.84375 -1.421875 12.171875 6.21875 \r\nQ 5.515625 13.875 5.515625 27.296875 \r\nQ 5.515625 40.765625 12.171875 48.375 \r\nQ 18.84375 56 30.609375 56 \r\nz\r\n\" id=\"DejaVuSans-111\"/>\r\n        <path d=\"M 2.984375 54.6875 \r\nL 12.5 54.6875 \r\nL 29.59375 8.796875 \r\nL 46.6875 54.6875 \r\nL 56.203125 54.6875 \r\nL 35.6875 0 \r\nL 23.484375 0 \r\nz\r\n\" id=\"DejaVuSans-118\"/>\r\n        <path d=\"M 17.921875 72.90625 \r\nL 17.921875 45.796875 \r\nL 9.625 45.796875 \r\nL 9.625 72.90625 \r\nz\r\n\" id=\"DejaVuSans-39\"/>\r\n        <path d=\"M 45.40625 27.984375 \r\nQ 45.40625 37.75 41.375 43.109375 \r\nQ 37.359375 48.484375 30.078125 48.484375 \r\nQ 22.859375 48.484375 18.828125 43.109375 \r\nQ 14.796875 37.75 14.796875 27.984375 \r\nQ 14.796875 18.265625 18.828125 12.890625 \r\nQ 22.859375 7.515625 30.078125 7.515625 \r\nQ 37.359375 7.515625 41.375 12.890625 \r\nQ 45.40625 18.265625 45.40625 27.984375 \r\nz\r\nM 54.390625 6.78125 \r\nQ 54.390625 -7.171875 48.1875 -13.984375 \r\nQ 42 -20.796875 29.203125 -20.796875 \r\nQ 24.46875 -20.796875 20.265625 -20.09375 \r\nQ 16.0625 -19.390625 12.109375 -17.921875 \r\nL 12.109375 -9.1875 \r\nQ 16.0625 -11.328125 19.921875 -12.34375 \r\nQ 23.78125 -13.375 27.78125 -13.375 \r\nQ 36.625 -13.375 41.015625 -8.765625 \r\nQ 45.40625 -4.15625 45.40625 5.171875 \r\nL 45.40625 9.625 \r\nQ 42.625 4.78125 38.28125 2.390625 \r\nQ 33.9375 0 27.875 0 \r\nQ 17.828125 0 11.671875 7.65625 \r\nQ 5.515625 15.328125 5.515625 27.984375 \r\nQ 5.515625 40.671875 11.671875 48.328125 \r\nQ 17.828125 56 27.875 56 \r\nQ 33.9375 56 38.28125 53.609375 \r\nQ 42.625 51.21875 45.40625 46.390625 \r\nL 45.40625 54.6875 \r\nL 54.390625 54.6875 \r\nz\r\n\" id=\"DejaVuSans-103\"/>\r\n       </defs>\r\n       <use xlink:href=\"#DejaVuSans-77\"/>\r\n       <use x=\"86.279297\" xlink:href=\"#DejaVuSans-76\"/>\r\n       <use x=\"141.992188\" xlink:href=\"#DejaVuSans-80\"/>\r\n       <use x=\"202.294922\" xlink:href=\"#DejaVuSans-67\"/>\r\n       <use x=\"272.119141\" xlink:href=\"#DejaVuSans-108\"/>\r\n       <use x=\"299.902344\" xlink:href=\"#DejaVuSans-97\"/>\r\n       <use x=\"361.181641\" xlink:href=\"#DejaVuSans-115\"/>\r\n       <use x=\"413.28125\" xlink:href=\"#DejaVuSans-115\"/>\r\n       <use x=\"465.380859\" xlink:href=\"#DejaVuSans-105\"/>\r\n       <use x=\"493.164062\" xlink:href=\"#DejaVuSans-102\"/>\r\n       <use x=\"528.369141\" xlink:href=\"#DejaVuSans-105\"/>\r\n       <use x=\"556.152344\" xlink:href=\"#DejaVuSans-101\"/>\r\n       <use x=\"617.675781\" xlink:href=\"#DejaVuSans-114\"/>\r\n       <use x=\"658.789062\" xlink:href=\"#DejaVuSans-40\"/>\r\n       <use x=\"697.802734\" xlink:href=\"#DejaVuSans-104\"/>\r\n       <use x=\"761.181641\" xlink:href=\"#DejaVuSans-105\"/>\r\n       <use x=\"788.964844\" xlink:href=\"#DejaVuSans-100\"/>\r\n       <use x=\"852.441406\" xlink:href=\"#DejaVuSans-100\"/>\r\n       <use x=\"915.917969\" xlink:href=\"#DejaVuSans-101\"/>\r\n       <use x=\"977.441406\" xlink:href=\"#DejaVuSans-110\"/>\r\n       <use x=\"1040.820312\" xlink:href=\"#DejaVuSans-95\"/>\r\n       <use x=\"1090.820312\" xlink:href=\"#DejaVuSans-108\"/>\r\n       <use x=\"1118.603516\" xlink:href=\"#DejaVuSans-97\"/>\r\n       <use x=\"1179.882812\" xlink:href=\"#DejaVuSans-121\"/>\r\n       <use x=\"1239.0625\" xlink:href=\"#DejaVuSans-101\"/>\r\n       <use x=\"1300.585938\" xlink:href=\"#DejaVuSans-114\"/>\r\n       <use x=\"1341.699219\" xlink:href=\"#DejaVuSans-95\"/>\r\n       <use x=\"1391.699219\" xlink:href=\"#DejaVuSans-115\"/>\r\n       <use x=\"1443.798828\" xlink:href=\"#DejaVuSans-105\"/>\r\n       <use x=\"1471.582031\" xlink:href=\"#DejaVuSans-122\"/>\r\n       <use x=\"1524.072266\" xlink:href=\"#DejaVuSans-101\"/>\r\n       <use x=\"1585.595703\" xlink:href=\"#DejaVuSans-115\"/>\r\n       <use x=\"1637.695312\" xlink:href=\"#DejaVuSans-61\"/>\r\n       <use x=\"1721.484375\" xlink:href=\"#DejaVuSans-40\"/>\r\n       <use x=\"1760.498047\" xlink:href=\"#DejaVuSans-50\"/>\r\n       <use x=\"1824.121094\" xlink:href=\"#DejaVuSans-48\"/>\r\n       <use x=\"1887.744141\" xlink:href=\"#DejaVuSans-44\"/>\r\n       <use x=\"1919.53125\" xlink:href=\"#DejaVuSans-32\"/>\r\n       <use x=\"1951.318359\" xlink:href=\"#DejaVuSans-50\"/>\r\n       <use x=\"2014.941406\" xlink:href=\"#DejaVuSans-48\"/>\r\n       <use x=\"2078.564453\" xlink:href=\"#DejaVuSans-41\"/>\r\n       <use x=\"2117.578125\" xlink:href=\"#DejaVuSans-44\"/>\r\n       <use x=\"2149.365234\" xlink:href=\"#DejaVuSans-32\"/>\r\n       <use x=\"2181.152344\" xlink:href=\"#DejaVuSans-115\"/>\r\n       <use x=\"2233.251953\" xlink:href=\"#DejaVuSans-111\"/>\r\n       <use x=\"2294.433594\" xlink:href=\"#DejaVuSans-108\"/>\r\n       <use x=\"2322.216797\" xlink:href=\"#DejaVuSans-118\"/>\r\n       <use x=\"2381.396484\" xlink:href=\"#DejaVuSans-101\"/>\r\n       <use x=\"2442.919922\" xlink:href=\"#DejaVuSans-114\"/>\r\n       <use x=\"2484.033203\" xlink:href=\"#DejaVuSans-61\"/>\r\n       <use x=\"2567.822266\" xlink:href=\"#DejaVuSans-39\"/>\r\n       <use x=\"2595.3125\" xlink:href=\"#DejaVuSans-115\"/>\r\n       <use x=\"2647.412109\" xlink:href=\"#DejaVuSans-103\"/>\r\n       <use x=\"2710.888672\" xlink:href=\"#DejaVuSans-100\"/>\r\n       <use x=\"2774.365234\" xlink:href=\"#DejaVuSans-39\"/>\r\n       <use x=\"2801.855469\" xlink:href=\"#DejaVuSans-41\"/>\r\n      </g>\r\n     </g>\r\n    </g>\r\n    <g id=\"xtick_2\">\r\n     <g id=\"line2d_2\">\r\n      <g>\r\n       <use style=\"stroke:#000000;stroke-width:0.8;\" x=\"594.465625\" xlink:href=\"#me313ae1798\" y=\"279\"/>\r\n      </g>\r\n     </g>\r\n     <g id=\"text_2\">\r\n      <!-- MLPClassifier(hidden_layer_sizes=(20, 10)) -->\r\n      <g transform=\"translate(486.635156 293.598437)scale(0.1 -0.1)\">\r\n       <defs>\r\n        <path d=\"M 12.40625 8.296875 \r\nL 28.515625 8.296875 \r\nL 28.515625 63.921875 \r\nL 10.984375 60.40625 \r\nL 10.984375 69.390625 \r\nL 28.421875 72.90625 \r\nL 38.28125 72.90625 \r\nL 38.28125 8.296875 \r\nL 54.390625 8.296875 \r\nL 54.390625 0 \r\nL 12.40625 0 \r\nz\r\n\" id=\"DejaVuSans-49\"/>\r\n       </defs>\r\n       <use xlink:href=\"#DejaVuSans-77\"/>\r\n       <use x=\"86.279297\" xlink:href=\"#DejaVuSans-76\"/>\r\n       <use x=\"141.992188\" xlink:href=\"#DejaVuSans-80\"/>\r\n       <use x=\"202.294922\" xlink:href=\"#DejaVuSans-67\"/>\r\n       <use x=\"272.119141\" xlink:href=\"#DejaVuSans-108\"/>\r\n       <use x=\"299.902344\" xlink:href=\"#DejaVuSans-97\"/>\r\n       <use x=\"361.181641\" xlink:href=\"#DejaVuSans-115\"/>\r\n       <use x=\"413.28125\" xlink:href=\"#DejaVuSans-115\"/>\r\n       <use x=\"465.380859\" xlink:href=\"#DejaVuSans-105\"/>\r\n       <use x=\"493.164062\" xlink:href=\"#DejaVuSans-102\"/>\r\n       <use x=\"528.369141\" xlink:href=\"#DejaVuSans-105\"/>\r\n       <use x=\"556.152344\" xlink:href=\"#DejaVuSans-101\"/>\r\n       <use x=\"617.675781\" xlink:href=\"#DejaVuSans-114\"/>\r\n       <use x=\"658.789062\" xlink:href=\"#DejaVuSans-40\"/>\r\n       <use x=\"697.802734\" xlink:href=\"#DejaVuSans-104\"/>\r\n       <use x=\"761.181641\" xlink:href=\"#DejaVuSans-105\"/>\r\n       <use x=\"788.964844\" xlink:href=\"#DejaVuSans-100\"/>\r\n       <use x=\"852.441406\" xlink:href=\"#DejaVuSans-100\"/>\r\n       <use x=\"915.917969\" xlink:href=\"#DejaVuSans-101\"/>\r\n       <use x=\"977.441406\" xlink:href=\"#DejaVuSans-110\"/>\r\n       <use x=\"1040.820312\" xlink:href=\"#DejaVuSans-95\"/>\r\n       <use x=\"1090.820312\" xlink:href=\"#DejaVuSans-108\"/>\r\n       <use x=\"1118.603516\" xlink:href=\"#DejaVuSans-97\"/>\r\n       <use x=\"1179.882812\" xlink:href=\"#DejaVuSans-121\"/>\r\n       <use x=\"1239.0625\" xlink:href=\"#DejaVuSans-101\"/>\r\n       <use x=\"1300.585938\" xlink:href=\"#DejaVuSans-114\"/>\r\n       <use x=\"1341.699219\" xlink:href=\"#DejaVuSans-95\"/>\r\n       <use x=\"1391.699219\" xlink:href=\"#DejaVuSans-115\"/>\r\n       <use x=\"1443.798828\" xlink:href=\"#DejaVuSans-105\"/>\r\n       <use x=\"1471.582031\" xlink:href=\"#DejaVuSans-122\"/>\r\n       <use x=\"1524.072266\" xlink:href=\"#DejaVuSans-101\"/>\r\n       <use x=\"1585.595703\" xlink:href=\"#DejaVuSans-115\"/>\r\n       <use x=\"1637.695312\" xlink:href=\"#DejaVuSans-61\"/>\r\n       <use x=\"1721.484375\" xlink:href=\"#DejaVuSans-40\"/>\r\n       <use x=\"1760.498047\" xlink:href=\"#DejaVuSans-50\"/>\r\n       <use x=\"1824.121094\" xlink:href=\"#DejaVuSans-48\"/>\r\n       <use x=\"1887.744141\" xlink:href=\"#DejaVuSans-44\"/>\r\n       <use x=\"1919.53125\" xlink:href=\"#DejaVuSans-32\"/>\r\n       <use x=\"1951.318359\" xlink:href=\"#DejaVuSans-49\"/>\r\n       <use x=\"2014.941406\" xlink:href=\"#DejaVuSans-48\"/>\r\n       <use x=\"2078.564453\" xlink:href=\"#DejaVuSans-41\"/>\r\n       <use x=\"2117.578125\" xlink:href=\"#DejaVuSans-41\"/>\r\n      </g>\r\n     </g>\r\n    </g>\r\n    <g id=\"xtick_3\">\r\n     <g id=\"line2d_3\">\r\n      <g>\r\n       <use style=\"stroke:#000000;stroke-width:0.8;\" x=\"966.465625\" xlink:href=\"#me313ae1798\" y=\"279\"/>\r\n      </g>\r\n     </g>\r\n     <g id=\"text_3\">\r\n      <!-- MLPClassifier(hidden_layer_sizes=(10, 8)) -->\r\n      <g transform=\"translate(861.816406 293.598437)scale(0.1 -0.1)\">\r\n       <defs>\r\n        <path d=\"M 31.78125 34.625 \r\nQ 24.75 34.625 20.71875 30.859375 \r\nQ 16.703125 27.09375 16.703125 20.515625 \r\nQ 16.703125 13.921875 20.71875 10.15625 \r\nQ 24.75 6.390625 31.78125 6.390625 \r\nQ 38.8125 6.390625 42.859375 10.171875 \r\nQ 46.921875 13.96875 46.921875 20.515625 \r\nQ 46.921875 27.09375 42.890625 30.859375 \r\nQ 38.875 34.625 31.78125 34.625 \r\nz\r\nM 21.921875 38.8125 \r\nQ 15.578125 40.375 12.03125 44.71875 \r\nQ 8.5 49.078125 8.5 55.328125 \r\nQ 8.5 64.0625 14.71875 69.140625 \r\nQ 20.953125 74.21875 31.78125 74.21875 \r\nQ 42.671875 74.21875 48.875 69.140625 \r\nQ 55.078125 64.0625 55.078125 55.328125 \r\nQ 55.078125 49.078125 51.53125 44.71875 \r\nQ 48 40.375 41.703125 38.8125 \r\nQ 48.828125 37.15625 52.796875 32.3125 \r\nQ 56.78125 27.484375 56.78125 20.515625 \r\nQ 56.78125 9.90625 50.3125 4.234375 \r\nQ 43.84375 -1.421875 31.78125 -1.421875 \r\nQ 19.734375 -1.421875 13.25 4.234375 \r\nQ 6.78125 9.90625 6.78125 20.515625 \r\nQ 6.78125 27.484375 10.78125 32.3125 \r\nQ 14.796875 37.15625 21.921875 38.8125 \r\nz\r\nM 18.3125 54.390625 \r\nQ 18.3125 48.734375 21.84375 45.5625 \r\nQ 25.390625 42.390625 31.78125 42.390625 \r\nQ 38.140625 42.390625 41.71875 45.5625 \r\nQ 45.3125 48.734375 45.3125 54.390625 \r\nQ 45.3125 60.0625 41.71875 63.234375 \r\nQ 38.140625 66.40625 31.78125 66.40625 \r\nQ 25.390625 66.40625 21.84375 63.234375 \r\nQ 18.3125 60.0625 18.3125 54.390625 \r\nz\r\n\" id=\"DejaVuSans-56\"/>\r\n       </defs>\r\n       <use xlink:href=\"#DejaVuSans-77\"/>\r\n       <use x=\"86.279297\" xlink:href=\"#DejaVuSans-76\"/>\r\n       <use x=\"141.992188\" xlink:href=\"#DejaVuSans-80\"/>\r\n       <use x=\"202.294922\" xlink:href=\"#DejaVuSans-67\"/>\r\n       <use x=\"272.119141\" xlink:href=\"#DejaVuSans-108\"/>\r\n       <use x=\"299.902344\" xlink:href=\"#DejaVuSans-97\"/>\r\n       <use x=\"361.181641\" xlink:href=\"#DejaVuSans-115\"/>\r\n       <use x=\"413.28125\" xlink:href=\"#DejaVuSans-115\"/>\r\n       <use x=\"465.380859\" xlink:href=\"#DejaVuSans-105\"/>\r\n       <use x=\"493.164062\" xlink:href=\"#DejaVuSans-102\"/>\r\n       <use x=\"528.369141\" xlink:href=\"#DejaVuSans-105\"/>\r\n       <use x=\"556.152344\" xlink:href=\"#DejaVuSans-101\"/>\r\n       <use x=\"617.675781\" xlink:href=\"#DejaVuSans-114\"/>\r\n       <use x=\"658.789062\" xlink:href=\"#DejaVuSans-40\"/>\r\n       <use x=\"697.802734\" xlink:href=\"#DejaVuSans-104\"/>\r\n       <use x=\"761.181641\" xlink:href=\"#DejaVuSans-105\"/>\r\n       <use x=\"788.964844\" xlink:href=\"#DejaVuSans-100\"/>\r\n       <use x=\"852.441406\" xlink:href=\"#DejaVuSans-100\"/>\r\n       <use x=\"915.917969\" xlink:href=\"#DejaVuSans-101\"/>\r\n       <use x=\"977.441406\" xlink:href=\"#DejaVuSans-110\"/>\r\n       <use x=\"1040.820312\" xlink:href=\"#DejaVuSans-95\"/>\r\n       <use x=\"1090.820312\" xlink:href=\"#DejaVuSans-108\"/>\r\n       <use x=\"1118.603516\" xlink:href=\"#DejaVuSans-97\"/>\r\n       <use x=\"1179.882812\" xlink:href=\"#DejaVuSans-121\"/>\r\n       <use x=\"1239.0625\" xlink:href=\"#DejaVuSans-101\"/>\r\n       <use x=\"1300.585938\" xlink:href=\"#DejaVuSans-114\"/>\r\n       <use x=\"1341.699219\" xlink:href=\"#DejaVuSans-95\"/>\r\n       <use x=\"1391.699219\" xlink:href=\"#DejaVuSans-115\"/>\r\n       <use x=\"1443.798828\" xlink:href=\"#DejaVuSans-105\"/>\r\n       <use x=\"1471.582031\" xlink:href=\"#DejaVuSans-122\"/>\r\n       <use x=\"1524.072266\" xlink:href=\"#DejaVuSans-101\"/>\r\n       <use x=\"1585.595703\" xlink:href=\"#DejaVuSans-115\"/>\r\n       <use x=\"1637.695312\" xlink:href=\"#DejaVuSans-61\"/>\r\n       <use x=\"1721.484375\" xlink:href=\"#DejaVuSans-40\"/>\r\n       <use x=\"1760.498047\" xlink:href=\"#DejaVuSans-49\"/>\r\n       <use x=\"1824.121094\" xlink:href=\"#DejaVuSans-48\"/>\r\n       <use x=\"1887.744141\" xlink:href=\"#DejaVuSans-44\"/>\r\n       <use x=\"1919.53125\" xlink:href=\"#DejaVuSans-32\"/>\r\n       <use x=\"1951.318359\" xlink:href=\"#DejaVuSans-56\"/>\r\n       <use x=\"2014.941406\" xlink:href=\"#DejaVuSans-41\"/>\r\n       <use x=\"2053.955078\" xlink:href=\"#DejaVuSans-41\"/>\r\n      </g>\r\n     </g>\r\n    </g>\r\n   </g>\r\n   <g id=\"matplotlib.axis_2\">\r\n    <g id=\"ytick_1\">\r\n     <g id=\"line2d_4\">\r\n      <defs>\r\n       <path d=\"M 0 0 \r\nL -3.5 0 \r\n\" id=\"md960892054\" style=\"stroke:#000000;stroke-width:0.8;\"/>\r\n      </defs>\r\n      <g>\r\n       <use style=\"stroke:#000000;stroke-width:0.8;\" x=\"36.465625\" xlink:href=\"#md960892054\" y=\"269.140557\"/>\r\n      </g>\r\n     </g>\r\n     <g id=\"text_4\">\r\n      <!-- 0.56 -->\r\n      <g transform=\"translate(7.2 272.939776)scale(0.1 -0.1)\">\r\n       <defs>\r\n        <path d=\"M 10.6875 12.40625 \r\nL 21 12.40625 \r\nL 21 0 \r\nL 10.6875 0 \r\nz\r\n\" id=\"DejaVuSans-46\"/>\r\n        <path d=\"M 10.796875 72.90625 \r\nL 49.515625 72.90625 \r\nL 49.515625 64.59375 \r\nL 19.828125 64.59375 \r\nL 19.828125 46.734375 \r\nQ 21.96875 47.46875 24.109375 47.828125 \r\nQ 26.265625 48.1875 28.421875 48.1875 \r\nQ 40.625 48.1875 47.75 41.5 \r\nQ 54.890625 34.8125 54.890625 23.390625 \r\nQ 54.890625 11.625 47.5625 5.09375 \r\nQ 40.234375 -1.421875 26.90625 -1.421875 \r\nQ 22.3125 -1.421875 17.546875 -0.640625 \r\nQ 12.796875 0.140625 7.71875 1.703125 \r\nL 7.71875 11.625 \r\nQ 12.109375 9.234375 16.796875 8.0625 \r\nQ 21.484375 6.890625 26.703125 6.890625 \r\nQ 35.15625 6.890625 40.078125 11.328125 \r\nQ 45.015625 15.765625 45.015625 23.390625 \r\nQ 45.015625 31 40.078125 35.4375 \r\nQ 35.15625 39.890625 26.703125 39.890625 \r\nQ 22.75 39.890625 18.8125 39.015625 \r\nQ 14.890625 38.140625 10.796875 36.28125 \r\nz\r\n\" id=\"DejaVuSans-53\"/>\r\n        <path d=\"M 33.015625 40.375 \r\nQ 26.375 40.375 22.484375 35.828125 \r\nQ 18.609375 31.296875 18.609375 23.390625 \r\nQ 18.609375 15.53125 22.484375 10.953125 \r\nQ 26.375 6.390625 33.015625 6.390625 \r\nQ 39.65625 6.390625 43.53125 10.953125 \r\nQ 47.40625 15.53125 47.40625 23.390625 \r\nQ 47.40625 31.296875 43.53125 35.828125 \r\nQ 39.65625 40.375 33.015625 40.375 \r\nz\r\nM 52.59375 71.296875 \r\nL 52.59375 62.3125 \r\nQ 48.875 64.0625 45.09375 64.984375 \r\nQ 41.3125 65.921875 37.59375 65.921875 \r\nQ 27.828125 65.921875 22.671875 59.328125 \r\nQ 17.53125 52.734375 16.796875 39.40625 \r\nQ 19.671875 43.65625 24.015625 45.921875 \r\nQ 28.375 48.1875 33.59375 48.1875 \r\nQ 44.578125 48.1875 50.953125 41.515625 \r\nQ 57.328125 34.859375 57.328125 23.390625 \r\nQ 57.328125 12.15625 50.6875 5.359375 \r\nQ 44.046875 -1.421875 33.015625 -1.421875 \r\nQ 20.359375 -1.421875 13.671875 8.265625 \r\nQ 6.984375 17.96875 6.984375 36.375 \r\nQ 6.984375 53.65625 15.1875 63.9375 \r\nQ 23.390625 74.21875 37.203125 74.21875 \r\nQ 40.921875 74.21875 44.703125 73.484375 \r\nQ 48.484375 72.75 52.59375 71.296875 \r\nz\r\n\" id=\"DejaVuSans-54\"/>\r\n       </defs>\r\n       <use xlink:href=\"#DejaVuSans-48\"/>\r\n       <use x=\"63.623047\" xlink:href=\"#DejaVuSans-46\"/>\r\n       <use x=\"95.410156\" xlink:href=\"#DejaVuSans-53\"/>\r\n       <use x=\"159.033203\" xlink:href=\"#DejaVuSans-54\"/>\r\n      </g>\r\n     </g>\r\n    </g>\r\n    <g id=\"ytick_2\">\r\n     <g id=\"line2d_5\">\r\n      <g>\r\n       <use style=\"stroke:#000000;stroke-width:0.8;\" x=\"36.465625\" xlink:href=\"#md960892054\" y=\"232.437165\"/>\r\n      </g>\r\n     </g>\r\n     <g id=\"text_5\">\r\n      <!-- 0.58 -->\r\n      <g transform=\"translate(7.2 236.236384)scale(0.1 -0.1)\">\r\n       <use xlink:href=\"#DejaVuSans-48\"/>\r\n       <use x=\"63.623047\" xlink:href=\"#DejaVuSans-46\"/>\r\n       <use x=\"95.410156\" xlink:href=\"#DejaVuSans-53\"/>\r\n       <use x=\"159.033203\" xlink:href=\"#DejaVuSans-56\"/>\r\n      </g>\r\n     </g>\r\n    </g>\r\n    <g id=\"ytick_3\">\r\n     <g id=\"line2d_6\">\r\n      <g>\r\n       <use style=\"stroke:#000000;stroke-width:0.8;\" x=\"36.465625\" xlink:href=\"#md960892054\" y=\"195.733774\"/>\r\n      </g>\r\n     </g>\r\n     <g id=\"text_6\">\r\n      <!-- 0.60 -->\r\n      <g transform=\"translate(7.2 199.532993)scale(0.1 -0.1)\">\r\n       <use xlink:href=\"#DejaVuSans-48\"/>\r\n       <use x=\"63.623047\" xlink:href=\"#DejaVuSans-46\"/>\r\n       <use x=\"95.410156\" xlink:href=\"#DejaVuSans-54\"/>\r\n       <use x=\"159.033203\" xlink:href=\"#DejaVuSans-48\"/>\r\n      </g>\r\n     </g>\r\n    </g>\r\n    <g id=\"ytick_4\">\r\n     <g id=\"line2d_7\">\r\n      <g>\r\n       <use style=\"stroke:#000000;stroke-width:0.8;\" x=\"36.465625\" xlink:href=\"#md960892054\" y=\"159.030383\"/>\r\n      </g>\r\n     </g>\r\n     <g id=\"text_7\">\r\n      <!-- 0.62 -->\r\n      <g transform=\"translate(7.2 162.829601)scale(0.1 -0.1)\">\r\n       <use xlink:href=\"#DejaVuSans-48\"/>\r\n       <use x=\"63.623047\" xlink:href=\"#DejaVuSans-46\"/>\r\n       <use x=\"95.410156\" xlink:href=\"#DejaVuSans-54\"/>\r\n       <use x=\"159.033203\" xlink:href=\"#DejaVuSans-50\"/>\r\n      </g>\r\n     </g>\r\n    </g>\r\n    <g id=\"ytick_5\">\r\n     <g id=\"line2d_8\">\r\n      <g>\r\n       <use style=\"stroke:#000000;stroke-width:0.8;\" x=\"36.465625\" xlink:href=\"#md960892054\" y=\"122.326991\"/>\r\n      </g>\r\n     </g>\r\n     <g id=\"text_8\">\r\n      <!-- 0.64 -->\r\n      <g transform=\"translate(7.2 126.12621)scale(0.1 -0.1)\">\r\n       <defs>\r\n        <path d=\"M 37.796875 64.3125 \r\nL 12.890625 25.390625 \r\nL 37.796875 25.390625 \r\nz\r\nM 35.203125 72.90625 \r\nL 47.609375 72.90625 \r\nL 47.609375 25.390625 \r\nL 58.015625 25.390625 \r\nL 58.015625 17.1875 \r\nL 47.609375 17.1875 \r\nL 47.609375 0 \r\nL 37.796875 0 \r\nL 37.796875 17.1875 \r\nL 4.890625 17.1875 \r\nL 4.890625 26.703125 \r\nz\r\n\" id=\"DejaVuSans-52\"/>\r\n       </defs>\r\n       <use xlink:href=\"#DejaVuSans-48\"/>\r\n       <use x=\"63.623047\" xlink:href=\"#DejaVuSans-46\"/>\r\n       <use x=\"95.410156\" xlink:href=\"#DejaVuSans-54\"/>\r\n       <use x=\"159.033203\" xlink:href=\"#DejaVuSans-52\"/>\r\n      </g>\r\n     </g>\r\n    </g>\r\n    <g id=\"ytick_6\">\r\n     <g id=\"line2d_9\">\r\n      <g>\r\n       <use style=\"stroke:#000000;stroke-width:0.8;\" x=\"36.465625\" xlink:href=\"#md960892054\" y=\"85.6236\"/>\r\n      </g>\r\n     </g>\r\n     <g id=\"text_9\">\r\n      <!-- 0.66 -->\r\n      <g transform=\"translate(7.2 89.422819)scale(0.1 -0.1)\">\r\n       <use xlink:href=\"#DejaVuSans-48\"/>\r\n       <use x=\"63.623047\" xlink:href=\"#DejaVuSans-46\"/>\r\n       <use x=\"95.410156\" xlink:href=\"#DejaVuSans-54\"/>\r\n       <use x=\"159.033203\" xlink:href=\"#DejaVuSans-54\"/>\r\n      </g>\r\n     </g>\r\n    </g>\r\n    <g id=\"ytick_7\">\r\n     <g id=\"line2d_10\">\r\n      <g>\r\n       <use style=\"stroke:#000000;stroke-width:0.8;\" x=\"36.465625\" xlink:href=\"#md960892054\" y=\"48.920208\"/>\r\n      </g>\r\n     </g>\r\n     <g id=\"text_10\">\r\n      <!-- 0.68 -->\r\n      <g transform=\"translate(7.2 52.719427)scale(0.1 -0.1)\">\r\n       <use xlink:href=\"#DejaVuSans-48\"/>\r\n       <use x=\"63.623047\" xlink:href=\"#DejaVuSans-46\"/>\r\n       <use x=\"95.410156\" xlink:href=\"#DejaVuSans-54\"/>\r\n       <use x=\"159.033203\" xlink:href=\"#DejaVuSans-56\"/>\r\n      </g>\r\n     </g>\r\n    </g>\r\n    <g id=\"ytick_8\">\r\n     <g id=\"line2d_11\">\r\n      <g>\r\n       <use style=\"stroke:#000000;stroke-width:0.8;\" x=\"36.465625\" xlink:href=\"#md960892054\" y=\"12.216817\"/>\r\n      </g>\r\n     </g>\r\n     <g id=\"text_11\">\r\n      <!-- 0.70 -->\r\n      <g transform=\"translate(7.2 16.016036)scale(0.1 -0.1)\">\r\n       <defs>\r\n        <path d=\"M 8.203125 72.90625 \r\nL 55.078125 72.90625 \r\nL 55.078125 68.703125 \r\nL 28.609375 0 \r\nL 18.3125 0 \r\nL 43.21875 64.59375 \r\nL 8.203125 64.59375 \r\nz\r\n\" id=\"DejaVuSans-55\"/>\r\n       </defs>\r\n       <use xlink:href=\"#DejaVuSans-48\"/>\r\n       <use x=\"63.623047\" xlink:href=\"#DejaVuSans-46\"/>\r\n       <use x=\"95.410156\" xlink:href=\"#DejaVuSans-55\"/>\r\n       <use x=\"159.033203\" xlink:href=\"#DejaVuSans-48\"/>\r\n      </g>\r\n     </g>\r\n    </g>\r\n   </g>\r\n   <g id=\"line2d_12\">\r\n    <path clip-path=\"url(#p2080f521ef)\" d=\"M 166.665625 55.004281 \r\nL 278.265625 55.004281 \r\nL 278.265625 28.561942 \r\nL 166.665625 28.561942 \r\nL 166.665625 55.004281 \r\n\" style=\"fill:none;stroke:#000000;stroke-linecap:square;\"/>\r\n   </g>\r\n   <g id=\"line2d_13\">\r\n    <path clip-path=\"url(#p2080f521ef)\" d=\"M 222.465625 55.004281 \r\nL 222.465625 67.351792 \r\n\" style=\"fill:none;stroke:#000000;stroke-linecap:square;\"/>\r\n   </g>\r\n   <g id=\"line2d_14\">\r\n    <path clip-path=\"url(#p2080f521ef)\" d=\"M 222.465625 28.561942 \r\nL 222.465625 19.554545 \r\n\" style=\"fill:none;stroke:#000000;stroke-linecap:square;\"/>\r\n   </g>\r\n   <g id=\"line2d_15\">\r\n    <path clip-path=\"url(#p2080f521ef)\" d=\"M 194.565625 67.351792 \r\nL 250.365625 67.351792 \r\n\" style=\"fill:none;stroke:#000000;stroke-linecap:square;\"/>\r\n   </g>\r\n   <g id=\"line2d_16\">\r\n    <path clip-path=\"url(#p2080f521ef)\" d=\"M 194.565625 19.554545 \r\nL 250.365625 19.554545 \r\n\" style=\"fill:none;stroke:#000000;stroke-linecap:square;\"/>\r\n   </g>\r\n   <g id=\"line2d_17\"/>\r\n   <g id=\"line2d_18\">\r\n    <path clip-path=\"url(#p2080f521ef)\" d=\"M 538.665625 53.949139 \r\nL 650.265625 53.949139 \r\nL 650.265625 34.459078 \r\nL 538.665625 34.459078 \r\nL 538.665625 53.949139 \r\n\" style=\"fill:none;stroke:#000000;stroke-linecap:square;\"/>\r\n   </g>\r\n   <g id=\"line2d_19\">\r\n    <path clip-path=\"url(#p2080f521ef)\" d=\"M 594.465625 53.949139 \r\nL 594.465625 62.682071 \r\n\" style=\"fill:none;stroke:#000000;stroke-linecap:square;\"/>\r\n   </g>\r\n   <g id=\"line2d_20\">\r\n    <path clip-path=\"url(#p2080f521ef)\" d=\"M 594.465625 34.459078 \r\nL 594.465625 19.931286 \r\n\" style=\"fill:none;stroke:#000000;stroke-linecap:square;\"/>\r\n   </g>\r\n   <g id=\"line2d_21\">\r\n    <path clip-path=\"url(#p2080f521ef)\" d=\"M 566.565625 62.682071 \r\nL 622.365625 62.682071 \r\n\" style=\"fill:none;stroke:#000000;stroke-linecap:square;\"/>\r\n   </g>\r\n   <g id=\"line2d_22\">\r\n    <path clip-path=\"url(#p2080f521ef)\" d=\"M 566.565625 19.931286 \r\nL 622.365625 19.931286 \r\n\" style=\"fill:none;stroke:#000000;stroke-linecap:square;\"/>\r\n   </g>\r\n   <g id=\"line2d_23\"/>\r\n   <g id=\"line2d_24\">\r\n    <path clip-path=\"url(#p2080f521ef)\" d=\"M 910.665625 210.973728 \r\nL 1022.265625 210.973728 \r\nL 1022.265625 181.899488 \r\nL 910.665625 181.899488 \r\nL 910.665625 210.973728 \r\n\" style=\"fill:none;stroke:#000000;stroke-linecap:square;\"/>\r\n   </g>\r\n   <g id=\"line2d_25\">\r\n    <path clip-path=\"url(#p2080f521ef)\" d=\"M 966.465625 210.973728 \r\nL 966.465625 230.989954 \r\n\" style=\"fill:none;stroke:#000000;stroke-linecap:square;\"/>\r\n   </g>\r\n   <g id=\"line2d_26\">\r\n    <path clip-path=\"url(#p2080f521ef)\" d=\"M 966.465625 181.899488 \r\nL 966.465625 164.305864 \r\n\" style=\"fill:none;stroke:#000000;stroke-linecap:square;\"/>\r\n   </g>\r\n   <g id=\"line2d_27\">\r\n    <path clip-path=\"url(#p2080f521ef)\" d=\"M 938.565625 230.989954 \r\nL 994.365625 230.989954 \r\n\" style=\"fill:none;stroke:#000000;stroke-linecap:square;\"/>\r\n   </g>\r\n   <g id=\"line2d_28\">\r\n    <path clip-path=\"url(#p2080f521ef)\" d=\"M 938.565625 164.305864 \r\nL 994.365625 164.305864 \r\n\" style=\"fill:none;stroke:#000000;stroke-linecap:square;\"/>\r\n   </g>\r\n   <g id=\"line2d_29\">\r\n    <defs>\r\n     <path d=\"M 0 3 \r\nC 0.795609 3 1.55874 2.683901 2.12132 2.12132 \r\nC 2.683901 1.55874 3 0.795609 3 0 \r\nC 3 -0.795609 2.683901 -1.55874 2.12132 -2.12132 \r\nC 1.55874 -2.683901 0.795609 -3 0 -3 \r\nC -0.795609 -3 -1.55874 -2.683901 -2.12132 -2.12132 \r\nC -2.683901 -1.55874 -3 -0.795609 -3 0 \r\nC -3 0.795609 -2.683901 1.55874 -2.12132 2.12132 \r\nC -1.55874 2.683901 -0.795609 3 0 3 \r\nz\r\n\" id=\"m72e245934b\" style=\"stroke:#000000;\"/>\r\n    </defs>\r\n    <g clip-path=\"url(#p2080f521ef)\">\r\n     <use style=\"fill-opacity:0;stroke:#000000;\" x=\"966.465625\" xlink:href=\"#m72e245934b\" y=\"266.645455\"/>\r\n    </g>\r\n   </g>\r\n   <g id=\"line2d_30\">\r\n    <path clip-path=\"url(#p2080f521ef)\" d=\"M 166.665625 39.142928 \r\nL 278.265625 39.142928 \r\n\" style=\"fill:none;stroke:#ff7f0e;stroke-linecap:square;\"/>\r\n   </g>\r\n   <g id=\"line2d_31\">\r\n    <path clip-path=\"url(#p2080f521ef)\" d=\"M 538.665625 45.269059 \r\nL 650.265625 45.269059 \r\n\" style=\"fill:none;stroke:#ff7f0e;stroke-linecap:square;\"/>\r\n   </g>\r\n   <g id=\"line2d_32\">\r\n    <path clip-path=\"url(#p2080f521ef)\" d=\"M 910.665625 186.168951 \r\nL 1022.265625 186.168951 \r\n\" style=\"fill:none;stroke:#ff7f0e;stroke-linecap:square;\"/>\r\n   </g>\r\n   <g id=\"patch_3\">\r\n    <path d=\"M 36.465625 279 \r\nL 36.465625 7.2 \r\n\" style=\"fill:none;stroke:#000000;stroke-linecap:square;stroke-linejoin:miter;stroke-width:0.8;\"/>\r\n   </g>\r\n   <g id=\"patch_4\">\r\n    <path d=\"M 1152.465625 279 \r\nL 1152.465625 7.2 \r\n\" style=\"fill:none;stroke:#000000;stroke-linecap:square;stroke-linejoin:miter;stroke-width:0.8;\"/>\r\n   </g>\r\n   <g id=\"patch_5\">\r\n    <path d=\"M 36.465625 279 \r\nL 1152.465625 279 \r\n\" style=\"fill:none;stroke:#000000;stroke-linecap:square;stroke-linejoin:miter;stroke-width:0.8;\"/>\r\n   </g>\r\n   <g id=\"patch_6\">\r\n    <path d=\"M 36.465625 7.2 \r\nL 1152.465625 7.2 \r\n\" style=\"fill:none;stroke:#000000;stroke-linecap:square;stroke-linejoin:miter;stroke-width:0.8;\"/>\r\n   </g>\r\n  </g>\r\n </g>\r\n <defs>\r\n  <clipPath id=\"p2080f521ef\">\r\n   <rect height=\"271.8\" width=\"1116\" x=\"36.465625\" y=\"7.2\"/>\r\n  </clipPath>\r\n </defs>\r\n</svg>\r\n",
            "image/png": "[encoded data removed]"
          },
          "metadata": {
            "needs_background": "light"
          }
        }
      ],
      "source": [
        "fig = plt.figure(figsize=(20,5))\n",
        "ax = fig.add_subplot(111)\n",
        "plt.boxplot([f_scores_arq[0], f_scores_arq[1], f_scores_arq[2]])\n",
        "ax.set_xticklabels([str(models_arq[0]), str(models_arq[1]), str(models_arq[2])])\n",
        "plt.show()"
      ]
    },
    {
      "cell_type": "markdown",
      "metadata": {
        "id": "ogFxO7pNoAI3"
      },
      "source": [
        "## Considerações Parciais\n",
        "\n",
        "1. É possível identificar uma rede com desempenho superior às demais?\n",
        "2. Qual estratégia mostrou-se mais producente para a obtenção de boas arquiteturas (Estratégia Própria ou Pirâmide Geométrica)? Por quê?\n",
        "3. Considerar os atributos categóricos trouxe melhorias? Justifique.\n",
        "4. Um número maior de épocas trouxe melhorias?\n",
        "5. Qual a maior dificuldade de resolução do problema proposto perante as RNAs?"
      ]
    },
    {
      "source": [
        "#### 1. É possível identificar uma rede com desempenho superior às demais?"
      ],
      "cell_type": "markdown",
      "metadata": {
        "id": "hq-MsUt6oAI3"
      }
    },
    {
      "source": [
        "Sim, a partir da análise da Acurácia  e F-Score, a rede com duas camadas ocultas de 20 neurônios, função de ativação Relu e utilizando o solver SGD, apresentou o melhor desempenho com base na análise da Acurácia e F-Score.\n",
        "\n",
        "- Média da Acurácia: 0.8159 \n",
        "- Desvio padrão da Acurácia: 0.0025\n",
        "- Média do F-Score: 0.6840 \n",
        "- Desvio padrão do F-Score: 0.0083"
      ],
      "cell_type": "markdown",
      "metadata": {}
    },
    {
      "source": [
        "#### 2. Qual estratégia mostrou-se mais producente para a obtenção de boas arquiteturas (Estratégia Própria ou Pirâmide Geométrica)? Por quê?"
      ],
      "cell_type": "markdown",
      "metadata": {}
    },
    {
      "source": [
        "A Estratégia Própria, pois tanto para o treinamento com e sem atributos categóricos, as médias das redes presentes no top 3 de acurácia e f-score são melhores.\n",
        "\n",
        "Sem atributos categóricos:\n",
        "- Média da acurácia (Pirâmide Geométrica): 0,7389\n",
        "- Média da acurácia (Estratégia Própria): 0,7477\n",
        "- Média do F-Score (Pirâmide Geométrica): 0,5801\n",
        "- Média do F-Score (Estratégia Própria): 0,5849\n",
        "\n",
        "Com atributos categóricos:\n",
        "- Média da acurácia (Pirâmide Geométrica): 0,7903\n",
        "- Média da acurácia (Estratégia Própria): 0,7962\n",
        "- Média do F-Score (Pirâmide Geométrica): 0,6408\n",
        "- Média do F-Score (Estratégia Própria): 0,6551"
      ],
      "cell_type": "markdown",
      "metadata": {}
    },
    {
      "source": [
        "#### 3. Considerar os atributos categóricos trouxe melhorias? Justifique.\n"
      ],
      "cell_type": "markdown",
      "metadata": {}
    },
    {
      "source": [
        "Sim, considerando atributos categóricos observou-se redes com maior Acurácia e F-Score do que as treinadas sem os atributos categóricos.\n",
        "\n",
        "Sem atributos categóricos:\n",
        "- Média da acurácia (Pirâmide Geométrica): 0,7389\n",
        "- Média da acurácia (Estratégia Própria): 0,7477\n",
        "- Média do F-Score (Pirâmide Geométrica): 0,5801\n",
        "- Média do F-Score (Estratégia Própria): 0,5849\n",
        "\n",
        "Com atributos categóricos:\n",
        "- Média da acurácia (Pirâmide Geométrica): 0,7903\n",
        "- Média da acurácia (Estratégia Própria): 0,7962\n",
        "- Média do F-Score (Pirâmide Geométrica): 0,6408\n",
        "- Média do F-Score (Estratégia Própria): 0,6551"
      ],
      "cell_type": "markdown",
      "metadata": {}
    },
    {
      "source": [
        "#### 4. Um número maior de épocas trouxe melhorias?\n"
      ],
      "cell_type": "markdown",
      "metadata": {}
    },
    {
      "source": [
        "Em todos os rankings de melhores redes, foram observadas redes com números diferentes de épocas, de 100 a 200, assim um melhor desempenho não depende somente de um número maior de épocas."
      ],
      "cell_type": "markdown",
      "metadata": {}
    },
    {
      "source": [
        "#### 5. Qual a maior dificuldade de resolução do problema proposto perante as RNAs?"
      ],
      "cell_type": "markdown",
      "metadata": {}
    },
    {
      "source": [
        "A utilização de RNAs apresentou-se como uma solução satisfatória para o problema, sendo a maior dificuldade a escolha do melhor conjunto de hiperparâmetros e parâmetros da RNA."
      ],
      "cell_type": "markdown",
      "metadata": {}
    }
  ]
}