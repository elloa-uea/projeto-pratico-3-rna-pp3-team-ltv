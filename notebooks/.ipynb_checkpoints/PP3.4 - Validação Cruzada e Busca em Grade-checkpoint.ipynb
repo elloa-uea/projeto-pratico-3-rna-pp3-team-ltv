{
 "cells": [
  {
   "cell_type": "markdown",
   "metadata": {},
   "source": [
    "# Redes Neurais Artificiais 2020.1 -- Projeto Prático 3.4\n",
    "\n",
    "**Disciplina**: Redes Neurais Artificiais 2020.1  \n",
    "**Professora**: Elloá B. Guedes (ebgcosta@uea.edu.br)  \n",
    "**Github**: http://github.com/elloa  \n",
    "        \n",
    "### Alunos\n",
    "\n",
    "Leonardo Monteiro Neres de Lima - 1615080320 (lmndl.eng16@uea.edu.br) <br>\n",
    "Thatielen Oliveira Pereira - 1515080618 (top.eng@uea.edu.br) <br>\n",
    "Vyctor Lima Negreiros - 1615080372 (vln.eng16@uea.edu.br) <br>\n",
    "\n",
    "Levando em conta a base de dados **_Forest Cover Type_**, esta quarta parte do Projeto Prático 3 diz respeito à proposição e avaliação de múltiplas redes neurais artificiais do tipo feedforward multilayer perceptron para o problema da classificação multi-classe da cobertura florestal em uma área do Roosevelt National Forest.\n",
    "\n",
    "## Busca em Grade\n",
    "\n",
    "Uma maneira padrão de escolher os parâmetros de um modelo de Machine Learning é por meio de uma busca em grade via força bruta. O algoritmo da busca em grade é dado como segue:\n",
    "\n",
    "1. Escolha a métrica de desempenho que você deseja maximizar  \n",
    "2. Escolha o algoritmo de Machine Learning (exemplo: redes neurais artificiais). Em seguida, defina os parâmetros ou hiperparâmetros deste tipo de modelo sobre os quais você dseja otimizar (número de épocas, taxa de aprendizado, etc.) e construa um array de valores a serem testados para cada parâmetro ou hiperparâmetro.  \n",
    "3. Defina a grade de busca, a qual é dada como o produto cartesiano de cada parâmetro a ser testado. Por exemplo, para os arrays [50, 100, 1000] e [10, 15], tem-se que a grade é [(50,10), (50,15), (100,10), (100,15), (1000,10), (1000,15)].\n",
    "4. Para cada combinação de parâmetros a serem otimizados, utilize o conjunto de treinamento para realizar uma validação cruzada (holdout ou k-fold) e calcule a métrica de avaliação no conjunto de teste (ou conjuntos de teste)\n",
    "5. Escolha a combinação de parâmetros que maximizam a métrica de avaliação. Este é o modelo otimizado.\n",
    "\n",
    "Por que esta abordagem funciona? Porque a busca em grade efetua uma pesquisa extensiva sobre as possíveis combinações de valores para cada um dos parâmetros a serem ajustados. Para cada combinação, ela estima a performance do modelo em dados novos. Por fim, o modelo com melhor métrica de desempenho é escolhido. Tem-se então que este modelo é o que melhor pode vir a generalizar mediante dados nunca antes vistos.\n",
    "\n",
    "## Efetuando a Busca em Grade sobre Hiperparâmetros das Top-6 RNAs\n",
    "\n",
    "Considerando a etapa anterior do projeto prático, foram identificadas pelo menos 6 melhores Redes Neurais para o problema da classificação multi-classe da cobertura florestal no conjunto de dados selecionado. Algumas destas redes possuem atributos categóricos como variáveis preditoras, enquanto outras possuem apenas os atributos numéricos como preditores.\n",
    "\n",
    "A primeira etapa desta segunda parte do projeto consiste em trazer para este notebook estas seis arquiteturas, ressaltando:\n",
    "\n",
    "1. Número de neurônios ocultos por camada  \n",
    "2. Função de Ativação  \n",
    "3. Utilização ou não de atributos categóricos   \n",
    "4. Desempenho médio +- desvio padrão nos testes anteriores  \n",
    "5. Número de repetições que a equipe conseguiu realizar para verificar os resultados  \n",
    "\n",
    "Elabore uma busca em grade sobre estas arquiteturas que contemple variações nos hiperparâmetros a seguir, conforme documentação de [MLPClassifier](https://scikit-learn.org/stable/modules/generated/sklearn.neural_network.MLPClassifier.html)\n",
    "\n",
    "A. Solver  (Não usar o LBFGS, pois é mais adequado para datasets pequenos)  \n",
    "B. Batch Size  \n",
    "C. Learning Rate Init  \n",
    "D. Paciência (n_iter_no_change)  \n",
    "E. Épocas  \n",
    "\n",
    "Nesta busca em grande, contemple a utilização do objeto [GridSearchCV](https://scikit-learn.org/stable/modules/generated/sklearn.model_selection.GridSearchCV.html)"
   ]
  },
  {
   "cell_type": "markdown",
   "metadata": {},
   "source": [
    "## Validação Cruzada k-fold\n",
    "\n",
    "Na elaboração da busca em grid, vamos avaliar os modelos propostos segundo uma estratégia de validação cruzada ainda não explorada até o momento: a validação cruzada k-fold. Segundo a mesma, o conjunto de dados é particionado em k partes: a cada iteração, separa-se uma das partes para teste e o modelo é treinado com as k-1 partes remanescentes. Valores sugestivos de k na literatura são k = 3, 5 ou 10, pois o custo computacional desta validação dos modelos é alto. A métrica de desempenho é resultante da média dos desempenhos nas k iterações. A figura a seguir ilustra a ideia desta avaliação\n",
    "\n",
    "<img src = \"https://ethen8181.github.io/machine-learning/model_selection/img/kfolds.png\" width=600></img>\n",
    "\n",
    "Considerando a métrica de desempenho F1-Score, considere a validação cruzada 5-fold para aferir os resultados da busca em grande anterior."
   ]
  },
  {
   "cell_type": "markdown",
   "metadata": {},
   "source": [
    "## Arquiteturas Consideradas (Segundo F-Score)\n",
    "\n",
    "\n",
    "### 3 Melhores Redes Segundo Arquiteturas Próprias\n",
    "\n",
    "#### Rede 1:\n",
    "\n",
    "- Neurônios por Camada: 20, 10\n",
    "- Função de Ativação: relu\n",
    "- Utilização de Atributos Categóricos: Não\n",
    "- F-Score Médio: 0.6085 +- 0.0138\n",
    "- Iterações: 200\n",
    "\n",
    "#### Rede 2:\n",
    "\n",
    "- Neurônios por Camada: 20, 20\n",
    "- Função de Ativação: relu\n",
    "- Utilização de Atributos Categóricos: Não\n",
    "- F-Score Médio: 0.5989 +- 0.0155\n",
    "- Iterações: 150\n",
    "\n",
    "#### Rede 3:\n",
    "\n",
    "- Neurônios por Camada: 10, 8\n",
    "- Função de Ativação: relu\n",
    "- F-Score Médio: 0.5473 +- 0.0169\n",
    "- Iterações: 100\n",
    "\n",
    "### 3 Melhores Redes Segundo a Regra da Pirâmide Geométrica\n",
    "\n",
    "#### Rede 1:\n",
    "\n",
    "- Neurônios por Camada: 16, 8\n",
    "- Função de Ativação: relu\n",
    "- Utilização de Atributos Categóricos: Não\n",
    "- F-Score Médio: 0.6044\n",
    "- Iterações: 150\n",
    "\n",
    "#### Rede 2:\n",
    "\n",
    "- Neurônios por Camada: 15, 10\n",
    "- Função de Ativação: relu\n",
    "- Utilização de Atributos Categóricos: Não\n",
    "- F-Score Médio: 0.5682\n",
    "- Iterações: 200\n",
    "\n",
    "#### Rede 3:\n",
    "\n",
    "- Neurônios por Camada: 12, 8\n",
    "- Função de Ativação: relu\n",
    "- Utilização de Atributos Categóricos: Não\n",
    "- F-Score Médio: 0.5677\n",
    "- Iterações: 100"
   ]
  },
  {
   "cell_type": "code",
   "execution_count": 1,
   "metadata": {},
   "outputs": [],
   "source": [
    "import numpy as np, pandas as pd, os\n",
    "from joblib import dump, load\n",
    "from sklearn.metrics import accuracy_score, confusion_matrix, f1_score\n",
    "from sklearn.model_selection import GridSearchCV\n",
    "from sklearn.neural_network import MLPClassifier\n",
    "from warnings import filterwarnings"
   ]
  },
  {
   "cell_type": "code",
   "execution_count": 2,
   "metadata": {},
   "outputs": [],
   "source": [
    "filterwarnings('ignore')"
   ]
  },
  {
   "cell_type": "markdown",
   "metadata": {},
   "source": [
    "### Leitura de Dados e Remoção de Atributos Categóricos"
   ]
  },
  {
   "cell_type": "code",
   "execution_count": 3,
   "metadata": {},
   "outputs": [],
   "source": [
    "data = pd.read_csv(os.path.join('..', os.path.join('datasets', 'covtype.csv')), sep=';')"
   ]
  },
  {
   "cell_type": "code",
   "execution_count": 4,
   "metadata": {},
   "outputs": [],
   "source": [
    "patterns = ['Soil_Type', 'Wilderness_Area']\n",
    "numeric_columns = [column for column in data.columns if not any(pattern in column for pattern in patterns)]\n",
    "\n",
    "data = data[numeric_columns]"
   ]
  },
  {
   "cell_type": "code",
   "execution_count": 5,
   "metadata": {},
   "outputs": [
    {
     "name": "stdout",
     "output_type": "stream",
     "text": [
      "['Elevation', 'Aspect', 'Slope', 'Horizontal_Distance_To_Hydrology', 'Vertical_Distance_To_Hydrology', 'Horizontal_Distance_To_Roadways', 'Hillshade_9am', 'Hillshade_Noon', 'Hillshade_3pm', 'Horizontal_Distance_To_Fire_Points', 'Cover_Type']\n"
     ]
    }
   ],
   "source": [
    "print(data.columns.to_list())"
   ]
  },
  {
   "cell_type": "markdown",
   "metadata": {},
   "source": [
    "### Separação e Escalonamento de Dados"
   ]
  },
  {
   "cell_type": "code",
   "execution_count": 6,
   "metadata": {},
   "outputs": [],
   "source": [
    "X, Y = data[data.columns.drop('Cover_Type')], data['Cover_Type']\n",
    "X_std = (X - np.mean(X)) / np.std(X)"
   ]
  },
  {
   "cell_type": "markdown",
   "metadata": {},
   "source": [
    "### Definindo as 6 Melhores Redes"
   ]
  },
  {
   "cell_type": "code",
   "execution_count": 7,
   "metadata": {},
   "outputs": [],
   "source": [
    "models = [\n",
    "    { 'hidden_layer_sizes': (20, 10,), 'activation': 'relu' },\n",
    "    { 'hidden_layer_sizes': (20, 20,), 'activation': 'relu' },\n",
    "    { 'hidden_layer_sizes': (10, 8,),  'activation': 'relu' },\n",
    "    { 'hidden_layer_sizes': (16, 8,),  'activation': 'relu' },\n",
    "    { 'hidden_layer_sizes': (15, 10,), 'activation': 'relu' },\n",
    "    { 'hidden_layer_sizes': (12, 8,),  'activation': 'relu' },\n",
    "]"
   ]
  },
  {
   "cell_type": "markdown",
   "metadata": {},
   "source": [
    "### Definindo Parâmetros da Busca em Grade"
   ]
  },
  {
   "cell_type": "code",
   "execution_count": 8,
   "metadata": {},
   "outputs": [],
   "source": [
    "param_grid = {\n",
    "    'solver': ['adam', 'sgd'], \n",
    "    'batch_size': [500, 1000],\n",
    "    'learning_rate_init': [0.001, 0.01],\n",
    "    'max_iter': [50, 100],\n",
    "    'n_iter_no_change': [5, 10]\n",
    "}"
   ]
  },
  {
   "cell_type": "markdown",
   "metadata": {},
   "source": [
    "### Execução da Busca em Grade"
   ]
  },
  {
   "cell_type": "code",
   "execution_count": 9,
   "metadata": {},
   "outputs": [],
   "source": [
    "gs_results = []\n",
    "\n",
    "for model in models:\n",
    "    mlp = MLPClassifier(hidden_layer_sizes=model['hidden_layer_sizes'], activation=model['activation'])\n",
    "    \n",
    "    gs = GridSearchCV(mlp, param_grid, n_jobs=-1, cv=5, scoring='f1_micro')\n",
    "    gs.fit(X_std, Y)\n",
    "    \n",
    "    gs_results.append(gs)"
   ]
  },
  {
   "cell_type": "markdown",
   "metadata": {},
   "source": [
    "## Identificando a mellhor solução\n",
    "\n",
    "Como resultado da busca em grande com validação cruzada 5-fold, identifique o modelo otimizado com melhor desempenho para o problema. Apresente claramente este modelo, seus parâmetros, hiperparâmetros otimizados e resultados para cada um dos folds avaliados. Esta é a melhor solução identificada em decorrência deste projeto"
   ]
  },
  {
   "cell_type": "code",
   "execution_count": 31,
   "metadata": {},
   "outputs": [],
   "source": [
    "results = []\n",
    "\n",
    "for gs in gs_results:\n",
    "    result = {'estimator': gs.best_estimator_, 'params': gs.best_params_, 'score': gs.best_score_ }\n",
    "    results.append(result)\n",
    "\n",
    "results.sort(key=lambda x: x['score'], reverse=True)"
   ]
  },
  {
   "cell_type": "code",
   "execution_count": 44,
   "metadata": {},
   "outputs": [
    {
     "data": {
      "text/html": [
       "<div>\n",
       "<style scoped>\n",
       "    .dataframe tbody tr th:only-of-type {\n",
       "        vertical-align: middle;\n",
       "    }\n",
       "\n",
       "    .dataframe tbody tr th {\n",
       "        vertical-align: top;\n",
       "    }\n",
       "\n",
       "    .dataframe thead th {\n",
       "        text-align: right;\n",
       "    }\n",
       "</style>\n",
       "<table border=\"1\" class=\"dataframe\">\n",
       "  <thead>\n",
       "    <tr style=\"text-align: right;\">\n",
       "      <th></th>\n",
       "      <th>batch_size</th>\n",
       "      <th>learning_rate_init</th>\n",
       "      <th>max_iter</th>\n",
       "      <th>n_iter_no_change</th>\n",
       "      <th>solver</th>\n",
       "      <th>score</th>\n",
       "    </tr>\n",
       "  </thead>\n",
       "  <tbody>\n",
       "    <tr>\n",
       "      <th>0</th>\n",
       "      <td>1000</td>\n",
       "      <td>0.001</td>\n",
       "      <td>50</td>\n",
       "      <td>5</td>\n",
       "      <td>sgd</td>\n",
       "      <td>0.639262</td>\n",
       "    </tr>\n",
       "    <tr>\n",
       "      <th>1</th>\n",
       "      <td>1000</td>\n",
       "      <td>0.001</td>\n",
       "      <td>50</td>\n",
       "      <td>10</td>\n",
       "      <td>sgd</td>\n",
       "      <td>0.638241</td>\n",
       "    </tr>\n",
       "    <tr>\n",
       "      <th>2</th>\n",
       "      <td>1000</td>\n",
       "      <td>0.001</td>\n",
       "      <td>50</td>\n",
       "      <td>5</td>\n",
       "      <td>sgd</td>\n",
       "      <td>0.627214</td>\n",
       "    </tr>\n",
       "    <tr>\n",
       "      <th>3</th>\n",
       "      <td>1000</td>\n",
       "      <td>0.001</td>\n",
       "      <td>50</td>\n",
       "      <td>10</td>\n",
       "      <td>sgd</td>\n",
       "      <td>0.626102</td>\n",
       "    </tr>\n",
       "    <tr>\n",
       "      <th>4</th>\n",
       "      <td>1000</td>\n",
       "      <td>0.001</td>\n",
       "      <td>50</td>\n",
       "      <td>10</td>\n",
       "      <td>sgd</td>\n",
       "      <td>0.625273</td>\n",
       "    </tr>\n",
       "    <tr>\n",
       "      <th>5</th>\n",
       "      <td>1000</td>\n",
       "      <td>0.001</td>\n",
       "      <td>50</td>\n",
       "      <td>10</td>\n",
       "      <td>sgd</td>\n",
       "      <td>0.621610</td>\n",
       "    </tr>\n",
       "  </tbody>\n",
       "</table>\n",
       "</div>"
      ],
      "text/plain": [
       "   batch_size  learning_rate_init  max_iter  n_iter_no_change solver     score\n",
       "0        1000               0.001        50                 5    sgd  0.639262\n",
       "1        1000               0.001        50                10    sgd  0.638241\n",
       "2        1000               0.001        50                 5    sgd  0.627214\n",
       "3        1000               0.001        50                10    sgd  0.626102\n",
       "4        1000               0.001        50                10    sgd  0.625273\n",
       "5        1000               0.001        50                10    sgd  0.621610"
      ]
     },
     "execution_count": 44,
     "metadata": {},
     "output_type": "execute_result"
    }
   ],
   "source": [
    "metrics = []\n",
    "\n",
    "for result in results:\n",
    "    metric = result['params'].copy()\n",
    "    metric['score'] = result['score']\n",
    "    metrics.append(metric)\n",
    "    \n",
    "df_results = pd.DataFrame(metrics)\n",
    "df_results"
   ]
  },
  {
   "cell_type": "markdown",
   "metadata": {},
   "source": [
    "### Melhor Modelo"
   ]
  },
  {
   "cell_type": "code",
   "execution_count": 46,
   "metadata": {},
   "outputs": [
    {
     "data": {
      "text/plain": [
       "MLPClassifier(batch_size=1000, hidden_layer_sizes=(15, 10), max_iter=50,\n",
       "              n_iter_no_change=5, solver='sgd')"
      ]
     },
     "execution_count": 46,
     "metadata": {},
     "output_type": "execute_result"
    }
   ],
   "source": [
    "results[0]['estimator']"
   ]
  },
  {
   "cell_type": "markdown",
   "metadata": {},
   "source": [
    "## Empacotando a solução\n",
    "\n",
    "Suponha que você deve entregar este classificador ao órgão responsável por administrar o Roosevelt National Park. Para tanto, você deve fazer uma preparação do mesmo para utilização neste cenário. Uma vez que já identificou os melhores parâmetros e hiperparâmetros, o passo remanescente consiste em treinar o modelo com estes valores e todos os dados disponíveis, salvando o conjunto de pesos do modelo ao final para entrega ao cliente. Assim, finalize o projeto prático realizando tais passos.\n",
    "\n",
    "1. Consulte a documentação a seguir:\n",
    "https://scikit-learn.org/stable/modules/model_persistence.html  \n",
    "2. Treine o modelo com todos os dados  \n",
    "3. Salve o modelo em disco  \n",
    "4. Construa uma rotina que recupere o modelo em disco  \n",
    "5. Mostre que a rotina é funcional, fazendo previsões com todos os elementos do dataset e exibindo uma matriz de confusão das mesmas"
   ]
  },
  {
   "cell_type": "markdown",
   "metadata": {},
   "source": [
    "### Retreinando Melhor Modelo com Todos os Dados"
   ]
  },
  {
   "cell_type": "code",
   "execution_count": 42,
   "metadata": {},
   "outputs": [
    {
     "data": {
      "text/plain": [
       "MLPClassifier(batch_size=1000, hidden_layer_sizes=(15, 10), max_iter=50,\n",
       "              n_iter_no_change=5, solver='sgd')"
      ]
     },
     "execution_count": 42,
     "metadata": {},
     "output_type": "execute_result"
    }
   ],
   "source": [
    "best_model = results[0]['estimator']\n",
    "best_model.fit(X_std, Y)"
   ]
  },
  {
   "cell_type": "markdown",
   "metadata": {},
   "source": [
    "### Salvando Melhor Modelo"
   ]
  },
  {
   "cell_type": "code",
   "execution_count": 47,
   "metadata": {},
   "outputs": [
    {
     "data": {
      "text/plain": [
       "['../models/model.joblib']"
      ]
     },
     "execution_count": 47,
     "metadata": {},
     "output_type": "execute_result"
    }
   ],
   "source": [
    "if not os.path.exists(os.path.join('..', 'models')):\n",
    "    os.makedirs(os.path.join('..', 'models'))\n",
    "\n",
    "dump(best_model, os.path.join('..', os.path.join('models', 'model.joblib')))"
   ]
  },
  {
   "cell_type": "markdown",
   "metadata": {},
   "source": [
    "### Recuperando Melhor Modelo"
   ]
  },
  {
   "cell_type": "code",
   "execution_count": 48,
   "metadata": {},
   "outputs": [],
   "source": [
    "def load_model(name):\n",
    "    if not os.path.join('..', os.path.join('models', name)):\n",
    "        print(\"Nenhum modelo com o nome informado encontrado\")\n",
    "        return None\n",
    "    \n",
    "    model = load(os.path.join('..', os.path.join('models', name)))\n",
    "    return model"
   ]
  },
  {
   "cell_type": "code",
   "execution_count": 49,
   "metadata": {},
   "outputs": [
    {
     "data": {
      "text/plain": [
       "MLPClassifier(batch_size=1000, hidden_layer_sizes=(15, 10), max_iter=50,\n",
       "              n_iter_no_change=5, solver='sgd')"
      ]
     },
     "execution_count": 49,
     "metadata": {},
     "output_type": "execute_result"
    }
   ],
   "source": [
    "mlp = load_model('model.joblib')\n",
    "mlp"
   ]
  },
  {
   "cell_type": "markdown",
   "metadata": {},
   "source": [
    "### Aferindo Métricas do Modelo Recuperado"
   ]
  },
  {
   "cell_type": "code",
   "execution_count": 50,
   "metadata": {},
   "outputs": [],
   "source": [
    "Y_pred = mlp.predict(X_std)"
   ]
  },
  {
   "cell_type": "markdown",
   "metadata": {},
   "source": [
    "**Matriz de Confusão**"
   ]
  },
  {
   "cell_type": "code",
   "execution_count": 51,
   "metadata": {},
   "outputs": [
    {
     "data": {
      "text/plain": [
       "array([[150660,  57158,     93,      0,      0,     11,   3918],\n",
       "       [ 55192, 223262,   3916,      0,     90,    812,     29],\n",
       "       [     0,   6878,  26208,    304,      0,   2364,      0],\n",
       "       [     0,     39,   1813,    371,      0,    524,      0],\n",
       "       [    82,   9218,     34,      0,    159,      0,      0],\n",
       "       [     0,   5577,   9089,     47,      0,   2654,      0],\n",
       "       [ 11842,     94,      0,      0,      0,      0,   8574]])"
      ]
     },
     "execution_count": 51,
     "metadata": {},
     "output_type": "execute_result"
    }
   ],
   "source": [
    "confusion_matrix(Y, Y_pred)"
   ]
  },
  {
   "cell_type": "markdown",
   "metadata": {},
   "source": [
    "**F-Score**"
   ]
  },
  {
   "cell_type": "code",
   "execution_count": 52,
   "metadata": {},
   "outputs": [
    {
     "data": {
      "text/plain": [
       "0.7089147900559714"
      ]
     },
     "execution_count": 52,
     "metadata": {},
     "output_type": "execute_result"
    }
   ],
   "source": [
    "f1_score(Y, Y_pred, average='micro')"
   ]
  },
  {
   "cell_type": "markdown",
   "metadata": {},
   "source": [
    "**Acurácia**"
   ]
  },
  {
   "cell_type": "code",
   "execution_count": 53,
   "metadata": {},
   "outputs": [
    {
     "data": {
      "text/plain": [
       "0.7089147900559714"
      ]
     },
     "execution_count": 53,
     "metadata": {},
     "output_type": "execute_result"
    }
   ],
   "source": [
    "accuracy_score(Y, Y_pred)"
   ]
  }
 ],
 "metadata": {
  "kernelspec": {
   "display_name": "venv",
   "language": "python",
   "name": "venv"
  },
  "language_info": {
   "codemirror_mode": {
    "name": "ipython",
    "version": 3
   },
   "file_extension": ".py",
   "mimetype": "text/x-python",
   "name": "python",
   "nbconvert_exporter": "python",
   "pygments_lexer": "ipython3",
   "version": "3.7.0"
  }
 },
 "nbformat": 4,
 "nbformat_minor": 4
}
